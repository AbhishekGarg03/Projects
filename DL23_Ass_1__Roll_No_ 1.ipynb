{
  "nbformat": 4,
  "nbformat_minor": 0,
  "metadata": {
    "colab": {
      "provenance": []
    },
    "kernelspec": {
      "name": "python3",
      "display_name": "Python 3"
    },
    "language_info": {
      "name": "python"
    },
    "widgets": {
      "application/vnd.jupyter.widget-state+json": {
        "ca3bd49ca255409a892f394d198f4e24": {
          "model_module": "@jupyter-widgets/controls",
          "model_name": "HBoxModel",
          "model_module_version": "1.5.0",
          "state": {
            "_dom_classes": [],
            "_model_module": "@jupyter-widgets/controls",
            "_model_module_version": "1.5.0",
            "_model_name": "HBoxModel",
            "_view_count": null,
            "_view_module": "@jupyter-widgets/controls",
            "_view_module_version": "1.5.0",
            "_view_name": "HBoxView",
            "box_style": "",
            "children": [
              "IPY_MODEL_1e99bb50bcef404982a7fcaf4ae28a18",
              "IPY_MODEL_24b7e7563f174ded952408d808c78ff0",
              "IPY_MODEL_63d69bf0a69340ad80e5087afab565d5"
            ],
            "layout": "IPY_MODEL_9bf05af01e1a43908433fdd606ac5d99"
          }
        },
        "1e99bb50bcef404982a7fcaf4ae28a18": {
          "model_module": "@jupyter-widgets/controls",
          "model_name": "HTMLModel",
          "model_module_version": "1.5.0",
          "state": {
            "_dom_classes": [],
            "_model_module": "@jupyter-widgets/controls",
            "_model_module_version": "1.5.0",
            "_model_name": "HTMLModel",
            "_view_count": null,
            "_view_module": "@jupyter-widgets/controls",
            "_view_module_version": "1.5.0",
            "_view_name": "HTMLView",
            "description": "",
            "description_tooltip": null,
            "layout": "IPY_MODEL_8721a014a6f3471e85271299ac4195d0",
            "placeholder": "​",
            "style": "IPY_MODEL_2bb60899d0094b5ba75cd58b64138276",
            "value": "100%"
          }
        },
        "24b7e7563f174ded952408d808c78ff0": {
          "model_module": "@jupyter-widgets/controls",
          "model_name": "FloatProgressModel",
          "model_module_version": "1.5.0",
          "state": {
            "_dom_classes": [],
            "_model_module": "@jupyter-widgets/controls",
            "_model_module_version": "1.5.0",
            "_model_name": "FloatProgressModel",
            "_view_count": null,
            "_view_module": "@jupyter-widgets/controls",
            "_view_module_version": "1.5.0",
            "_view_name": "ProgressView",
            "bar_style": "success",
            "description": "",
            "description_tooltip": null,
            "layout": "IPY_MODEL_f14f85fbe7e043c9859239806ec934cf",
            "max": 9912422,
            "min": 0,
            "orientation": "horizontal",
            "style": "IPY_MODEL_f8151282b1bb47b9b09b2ebcff6e41e4",
            "value": 9912422
          }
        },
        "63d69bf0a69340ad80e5087afab565d5": {
          "model_module": "@jupyter-widgets/controls",
          "model_name": "HTMLModel",
          "model_module_version": "1.5.0",
          "state": {
            "_dom_classes": [],
            "_model_module": "@jupyter-widgets/controls",
            "_model_module_version": "1.5.0",
            "_model_name": "HTMLModel",
            "_view_count": null,
            "_view_module": "@jupyter-widgets/controls",
            "_view_module_version": "1.5.0",
            "_view_name": "HTMLView",
            "description": "",
            "description_tooltip": null,
            "layout": "IPY_MODEL_b428ae4ea3e94141a5ec7cd53af9321b",
            "placeholder": "​",
            "style": "IPY_MODEL_b3a007e16a144d1a8070dfb3f901877e",
            "value": " 9912422/9912422 [00:00&lt;00:00, 111484552.63it/s]"
          }
        },
        "9bf05af01e1a43908433fdd606ac5d99": {
          "model_module": "@jupyter-widgets/base",
          "model_name": "LayoutModel",
          "model_module_version": "1.2.0",
          "state": {
            "_model_module": "@jupyter-widgets/base",
            "_model_module_version": "1.2.0",
            "_model_name": "LayoutModel",
            "_view_count": null,
            "_view_module": "@jupyter-widgets/base",
            "_view_module_version": "1.2.0",
            "_view_name": "LayoutView",
            "align_content": null,
            "align_items": null,
            "align_self": null,
            "border": null,
            "bottom": null,
            "display": null,
            "flex": null,
            "flex_flow": null,
            "grid_area": null,
            "grid_auto_columns": null,
            "grid_auto_flow": null,
            "grid_auto_rows": null,
            "grid_column": null,
            "grid_gap": null,
            "grid_row": null,
            "grid_template_areas": null,
            "grid_template_columns": null,
            "grid_template_rows": null,
            "height": null,
            "justify_content": null,
            "justify_items": null,
            "left": null,
            "margin": null,
            "max_height": null,
            "max_width": null,
            "min_height": null,
            "min_width": null,
            "object_fit": null,
            "object_position": null,
            "order": null,
            "overflow": null,
            "overflow_x": null,
            "overflow_y": null,
            "padding": null,
            "right": null,
            "top": null,
            "visibility": null,
            "width": null
          }
        },
        "8721a014a6f3471e85271299ac4195d0": {
          "model_module": "@jupyter-widgets/base",
          "model_name": "LayoutModel",
          "model_module_version": "1.2.0",
          "state": {
            "_model_module": "@jupyter-widgets/base",
            "_model_module_version": "1.2.0",
            "_model_name": "LayoutModel",
            "_view_count": null,
            "_view_module": "@jupyter-widgets/base",
            "_view_module_version": "1.2.0",
            "_view_name": "LayoutView",
            "align_content": null,
            "align_items": null,
            "align_self": null,
            "border": null,
            "bottom": null,
            "display": null,
            "flex": null,
            "flex_flow": null,
            "grid_area": null,
            "grid_auto_columns": null,
            "grid_auto_flow": null,
            "grid_auto_rows": null,
            "grid_column": null,
            "grid_gap": null,
            "grid_row": null,
            "grid_template_areas": null,
            "grid_template_columns": null,
            "grid_template_rows": null,
            "height": null,
            "justify_content": null,
            "justify_items": null,
            "left": null,
            "margin": null,
            "max_height": null,
            "max_width": null,
            "min_height": null,
            "min_width": null,
            "object_fit": null,
            "object_position": null,
            "order": null,
            "overflow": null,
            "overflow_x": null,
            "overflow_y": null,
            "padding": null,
            "right": null,
            "top": null,
            "visibility": null,
            "width": null
          }
        },
        "2bb60899d0094b5ba75cd58b64138276": {
          "model_module": "@jupyter-widgets/controls",
          "model_name": "DescriptionStyleModel",
          "model_module_version": "1.5.0",
          "state": {
            "_model_module": "@jupyter-widgets/controls",
            "_model_module_version": "1.5.0",
            "_model_name": "DescriptionStyleModel",
            "_view_count": null,
            "_view_module": "@jupyter-widgets/base",
            "_view_module_version": "1.2.0",
            "_view_name": "StyleView",
            "description_width": ""
          }
        },
        "f14f85fbe7e043c9859239806ec934cf": {
          "model_module": "@jupyter-widgets/base",
          "model_name": "LayoutModel",
          "model_module_version": "1.2.0",
          "state": {
            "_model_module": "@jupyter-widgets/base",
            "_model_module_version": "1.2.0",
            "_model_name": "LayoutModel",
            "_view_count": null,
            "_view_module": "@jupyter-widgets/base",
            "_view_module_version": "1.2.0",
            "_view_name": "LayoutView",
            "align_content": null,
            "align_items": null,
            "align_self": null,
            "border": null,
            "bottom": null,
            "display": null,
            "flex": null,
            "flex_flow": null,
            "grid_area": null,
            "grid_auto_columns": null,
            "grid_auto_flow": null,
            "grid_auto_rows": null,
            "grid_column": null,
            "grid_gap": null,
            "grid_row": null,
            "grid_template_areas": null,
            "grid_template_columns": null,
            "grid_template_rows": null,
            "height": null,
            "justify_content": null,
            "justify_items": null,
            "left": null,
            "margin": null,
            "max_height": null,
            "max_width": null,
            "min_height": null,
            "min_width": null,
            "object_fit": null,
            "object_position": null,
            "order": null,
            "overflow": null,
            "overflow_x": null,
            "overflow_y": null,
            "padding": null,
            "right": null,
            "top": null,
            "visibility": null,
            "width": null
          }
        },
        "f8151282b1bb47b9b09b2ebcff6e41e4": {
          "model_module": "@jupyter-widgets/controls",
          "model_name": "ProgressStyleModel",
          "model_module_version": "1.5.0",
          "state": {
            "_model_module": "@jupyter-widgets/controls",
            "_model_module_version": "1.5.0",
            "_model_name": "ProgressStyleModel",
            "_view_count": null,
            "_view_module": "@jupyter-widgets/base",
            "_view_module_version": "1.2.0",
            "_view_name": "StyleView",
            "bar_color": null,
            "description_width": ""
          }
        },
        "b428ae4ea3e94141a5ec7cd53af9321b": {
          "model_module": "@jupyter-widgets/base",
          "model_name": "LayoutModel",
          "model_module_version": "1.2.0",
          "state": {
            "_model_module": "@jupyter-widgets/base",
            "_model_module_version": "1.2.0",
            "_model_name": "LayoutModel",
            "_view_count": null,
            "_view_module": "@jupyter-widgets/base",
            "_view_module_version": "1.2.0",
            "_view_name": "LayoutView",
            "align_content": null,
            "align_items": null,
            "align_self": null,
            "border": null,
            "bottom": null,
            "display": null,
            "flex": null,
            "flex_flow": null,
            "grid_area": null,
            "grid_auto_columns": null,
            "grid_auto_flow": null,
            "grid_auto_rows": null,
            "grid_column": null,
            "grid_gap": null,
            "grid_row": null,
            "grid_template_areas": null,
            "grid_template_columns": null,
            "grid_template_rows": null,
            "height": null,
            "justify_content": null,
            "justify_items": null,
            "left": null,
            "margin": null,
            "max_height": null,
            "max_width": null,
            "min_height": null,
            "min_width": null,
            "object_fit": null,
            "object_position": null,
            "order": null,
            "overflow": null,
            "overflow_x": null,
            "overflow_y": null,
            "padding": null,
            "right": null,
            "top": null,
            "visibility": null,
            "width": null
          }
        },
        "b3a007e16a144d1a8070dfb3f901877e": {
          "model_module": "@jupyter-widgets/controls",
          "model_name": "DescriptionStyleModel",
          "model_module_version": "1.5.0",
          "state": {
            "_model_module": "@jupyter-widgets/controls",
            "_model_module_version": "1.5.0",
            "_model_name": "DescriptionStyleModel",
            "_view_count": null,
            "_view_module": "@jupyter-widgets/base",
            "_view_module_version": "1.2.0",
            "_view_name": "StyleView",
            "description_width": ""
          }
        },
        "a2a2d00bf1d94e2ca0c2ec35ff778178": {
          "model_module": "@jupyter-widgets/controls",
          "model_name": "HBoxModel",
          "model_module_version": "1.5.0",
          "state": {
            "_dom_classes": [],
            "_model_module": "@jupyter-widgets/controls",
            "_model_module_version": "1.5.0",
            "_model_name": "HBoxModel",
            "_view_count": null,
            "_view_module": "@jupyter-widgets/controls",
            "_view_module_version": "1.5.0",
            "_view_name": "HBoxView",
            "box_style": "",
            "children": [
              "IPY_MODEL_6c2899afcafd40f18e68c1f6cc358778",
              "IPY_MODEL_3c5934ba3b8b43678c9b8af3f7f431a6",
              "IPY_MODEL_f49d06b0b1824b84bdbf03bed191ef57"
            ],
            "layout": "IPY_MODEL_486b9737a37c468ca38174981d9f67a3"
          }
        },
        "6c2899afcafd40f18e68c1f6cc358778": {
          "model_module": "@jupyter-widgets/controls",
          "model_name": "HTMLModel",
          "model_module_version": "1.5.0",
          "state": {
            "_dom_classes": [],
            "_model_module": "@jupyter-widgets/controls",
            "_model_module_version": "1.5.0",
            "_model_name": "HTMLModel",
            "_view_count": null,
            "_view_module": "@jupyter-widgets/controls",
            "_view_module_version": "1.5.0",
            "_view_name": "HTMLView",
            "description": "",
            "description_tooltip": null,
            "layout": "IPY_MODEL_a4d2dd0f83554ae784e904dc244b1d10",
            "placeholder": "​",
            "style": "IPY_MODEL_15cc1e666257430e944185be6f5189d2",
            "value": "100%"
          }
        },
        "3c5934ba3b8b43678c9b8af3f7f431a6": {
          "model_module": "@jupyter-widgets/controls",
          "model_name": "FloatProgressModel",
          "model_module_version": "1.5.0",
          "state": {
            "_dom_classes": [],
            "_model_module": "@jupyter-widgets/controls",
            "_model_module_version": "1.5.0",
            "_model_name": "FloatProgressModel",
            "_view_count": null,
            "_view_module": "@jupyter-widgets/controls",
            "_view_module_version": "1.5.0",
            "_view_name": "ProgressView",
            "bar_style": "success",
            "description": "",
            "description_tooltip": null,
            "layout": "IPY_MODEL_45def721fc6b48e7aaff0349b8d6ab2c",
            "max": 28881,
            "min": 0,
            "orientation": "horizontal",
            "style": "IPY_MODEL_57184698fa52447c8814ebae9bbed899",
            "value": 28881
          }
        },
        "f49d06b0b1824b84bdbf03bed191ef57": {
          "model_module": "@jupyter-widgets/controls",
          "model_name": "HTMLModel",
          "model_module_version": "1.5.0",
          "state": {
            "_dom_classes": [],
            "_model_module": "@jupyter-widgets/controls",
            "_model_module_version": "1.5.0",
            "_model_name": "HTMLModel",
            "_view_count": null,
            "_view_module": "@jupyter-widgets/controls",
            "_view_module_version": "1.5.0",
            "_view_name": "HTMLView",
            "description": "",
            "description_tooltip": null,
            "layout": "IPY_MODEL_acff0e3118c84f0ab30ea2c82a5deacd",
            "placeholder": "​",
            "style": "IPY_MODEL_af37956dbb3a4ed8b8e3a17a2f74d571",
            "value": " 28881/28881 [00:00&lt;00:00, 1405873.61it/s]"
          }
        },
        "486b9737a37c468ca38174981d9f67a3": {
          "model_module": "@jupyter-widgets/base",
          "model_name": "LayoutModel",
          "model_module_version": "1.2.0",
          "state": {
            "_model_module": "@jupyter-widgets/base",
            "_model_module_version": "1.2.0",
            "_model_name": "LayoutModel",
            "_view_count": null,
            "_view_module": "@jupyter-widgets/base",
            "_view_module_version": "1.2.0",
            "_view_name": "LayoutView",
            "align_content": null,
            "align_items": null,
            "align_self": null,
            "border": null,
            "bottom": null,
            "display": null,
            "flex": null,
            "flex_flow": null,
            "grid_area": null,
            "grid_auto_columns": null,
            "grid_auto_flow": null,
            "grid_auto_rows": null,
            "grid_column": null,
            "grid_gap": null,
            "grid_row": null,
            "grid_template_areas": null,
            "grid_template_columns": null,
            "grid_template_rows": null,
            "height": null,
            "justify_content": null,
            "justify_items": null,
            "left": null,
            "margin": null,
            "max_height": null,
            "max_width": null,
            "min_height": null,
            "min_width": null,
            "object_fit": null,
            "object_position": null,
            "order": null,
            "overflow": null,
            "overflow_x": null,
            "overflow_y": null,
            "padding": null,
            "right": null,
            "top": null,
            "visibility": null,
            "width": null
          }
        },
        "a4d2dd0f83554ae784e904dc244b1d10": {
          "model_module": "@jupyter-widgets/base",
          "model_name": "LayoutModel",
          "model_module_version": "1.2.0",
          "state": {
            "_model_module": "@jupyter-widgets/base",
            "_model_module_version": "1.2.0",
            "_model_name": "LayoutModel",
            "_view_count": null,
            "_view_module": "@jupyter-widgets/base",
            "_view_module_version": "1.2.0",
            "_view_name": "LayoutView",
            "align_content": null,
            "align_items": null,
            "align_self": null,
            "border": null,
            "bottom": null,
            "display": null,
            "flex": null,
            "flex_flow": null,
            "grid_area": null,
            "grid_auto_columns": null,
            "grid_auto_flow": null,
            "grid_auto_rows": null,
            "grid_column": null,
            "grid_gap": null,
            "grid_row": null,
            "grid_template_areas": null,
            "grid_template_columns": null,
            "grid_template_rows": null,
            "height": null,
            "justify_content": null,
            "justify_items": null,
            "left": null,
            "margin": null,
            "max_height": null,
            "max_width": null,
            "min_height": null,
            "min_width": null,
            "object_fit": null,
            "object_position": null,
            "order": null,
            "overflow": null,
            "overflow_x": null,
            "overflow_y": null,
            "padding": null,
            "right": null,
            "top": null,
            "visibility": null,
            "width": null
          }
        },
        "15cc1e666257430e944185be6f5189d2": {
          "model_module": "@jupyter-widgets/controls",
          "model_name": "DescriptionStyleModel",
          "model_module_version": "1.5.0",
          "state": {
            "_model_module": "@jupyter-widgets/controls",
            "_model_module_version": "1.5.0",
            "_model_name": "DescriptionStyleModel",
            "_view_count": null,
            "_view_module": "@jupyter-widgets/base",
            "_view_module_version": "1.2.0",
            "_view_name": "StyleView",
            "description_width": ""
          }
        },
        "45def721fc6b48e7aaff0349b8d6ab2c": {
          "model_module": "@jupyter-widgets/base",
          "model_name": "LayoutModel",
          "model_module_version": "1.2.0",
          "state": {
            "_model_module": "@jupyter-widgets/base",
            "_model_module_version": "1.2.0",
            "_model_name": "LayoutModel",
            "_view_count": null,
            "_view_module": "@jupyter-widgets/base",
            "_view_module_version": "1.2.0",
            "_view_name": "LayoutView",
            "align_content": null,
            "align_items": null,
            "align_self": null,
            "border": null,
            "bottom": null,
            "display": null,
            "flex": null,
            "flex_flow": null,
            "grid_area": null,
            "grid_auto_columns": null,
            "grid_auto_flow": null,
            "grid_auto_rows": null,
            "grid_column": null,
            "grid_gap": null,
            "grid_row": null,
            "grid_template_areas": null,
            "grid_template_columns": null,
            "grid_template_rows": null,
            "height": null,
            "justify_content": null,
            "justify_items": null,
            "left": null,
            "margin": null,
            "max_height": null,
            "max_width": null,
            "min_height": null,
            "min_width": null,
            "object_fit": null,
            "object_position": null,
            "order": null,
            "overflow": null,
            "overflow_x": null,
            "overflow_y": null,
            "padding": null,
            "right": null,
            "top": null,
            "visibility": null,
            "width": null
          }
        },
        "57184698fa52447c8814ebae9bbed899": {
          "model_module": "@jupyter-widgets/controls",
          "model_name": "ProgressStyleModel",
          "model_module_version": "1.5.0",
          "state": {
            "_model_module": "@jupyter-widgets/controls",
            "_model_module_version": "1.5.0",
            "_model_name": "ProgressStyleModel",
            "_view_count": null,
            "_view_module": "@jupyter-widgets/base",
            "_view_module_version": "1.2.0",
            "_view_name": "StyleView",
            "bar_color": null,
            "description_width": ""
          }
        },
        "acff0e3118c84f0ab30ea2c82a5deacd": {
          "model_module": "@jupyter-widgets/base",
          "model_name": "LayoutModel",
          "model_module_version": "1.2.0",
          "state": {
            "_model_module": "@jupyter-widgets/base",
            "_model_module_version": "1.2.0",
            "_model_name": "LayoutModel",
            "_view_count": null,
            "_view_module": "@jupyter-widgets/base",
            "_view_module_version": "1.2.0",
            "_view_name": "LayoutView",
            "align_content": null,
            "align_items": null,
            "align_self": null,
            "border": null,
            "bottom": null,
            "display": null,
            "flex": null,
            "flex_flow": null,
            "grid_area": null,
            "grid_auto_columns": null,
            "grid_auto_flow": null,
            "grid_auto_rows": null,
            "grid_column": null,
            "grid_gap": null,
            "grid_row": null,
            "grid_template_areas": null,
            "grid_template_columns": null,
            "grid_template_rows": null,
            "height": null,
            "justify_content": null,
            "justify_items": null,
            "left": null,
            "margin": null,
            "max_height": null,
            "max_width": null,
            "min_height": null,
            "min_width": null,
            "object_fit": null,
            "object_position": null,
            "order": null,
            "overflow": null,
            "overflow_x": null,
            "overflow_y": null,
            "padding": null,
            "right": null,
            "top": null,
            "visibility": null,
            "width": null
          }
        },
        "af37956dbb3a4ed8b8e3a17a2f74d571": {
          "model_module": "@jupyter-widgets/controls",
          "model_name": "DescriptionStyleModel",
          "model_module_version": "1.5.0",
          "state": {
            "_model_module": "@jupyter-widgets/controls",
            "_model_module_version": "1.5.0",
            "_model_name": "DescriptionStyleModel",
            "_view_count": null,
            "_view_module": "@jupyter-widgets/base",
            "_view_module_version": "1.2.0",
            "_view_name": "StyleView",
            "description_width": ""
          }
        },
        "aea6630033d044f8b98f0e41b0a8716e": {
          "model_module": "@jupyter-widgets/controls",
          "model_name": "HBoxModel",
          "model_module_version": "1.5.0",
          "state": {
            "_dom_classes": [],
            "_model_module": "@jupyter-widgets/controls",
            "_model_module_version": "1.5.0",
            "_model_name": "HBoxModel",
            "_view_count": null,
            "_view_module": "@jupyter-widgets/controls",
            "_view_module_version": "1.5.0",
            "_view_name": "HBoxView",
            "box_style": "",
            "children": [
              "IPY_MODEL_5144192011f941baaf18874272dce5b4",
              "IPY_MODEL_402d317c5a834381bb89fa6ada10ea00",
              "IPY_MODEL_922973c13b1842a18bc360c14ee29afb"
            ],
            "layout": "IPY_MODEL_14be16848e8743df8fd48d25ce65e077"
          }
        },
        "5144192011f941baaf18874272dce5b4": {
          "model_module": "@jupyter-widgets/controls",
          "model_name": "HTMLModel",
          "model_module_version": "1.5.0",
          "state": {
            "_dom_classes": [],
            "_model_module": "@jupyter-widgets/controls",
            "_model_module_version": "1.5.0",
            "_model_name": "HTMLModel",
            "_view_count": null,
            "_view_module": "@jupyter-widgets/controls",
            "_view_module_version": "1.5.0",
            "_view_name": "HTMLView",
            "description": "",
            "description_tooltip": null,
            "layout": "IPY_MODEL_a7167a9b89264e22bc7cd8dfa1f020fa",
            "placeholder": "​",
            "style": "IPY_MODEL_1305611d533d438b928fc70fd3c437fc",
            "value": "100%"
          }
        },
        "402d317c5a834381bb89fa6ada10ea00": {
          "model_module": "@jupyter-widgets/controls",
          "model_name": "FloatProgressModel",
          "model_module_version": "1.5.0",
          "state": {
            "_dom_classes": [],
            "_model_module": "@jupyter-widgets/controls",
            "_model_module_version": "1.5.0",
            "_model_name": "FloatProgressModel",
            "_view_count": null,
            "_view_module": "@jupyter-widgets/controls",
            "_view_module_version": "1.5.0",
            "_view_name": "ProgressView",
            "bar_style": "success",
            "description": "",
            "description_tooltip": null,
            "layout": "IPY_MODEL_4f9f447d5f6940c9b11524a5484f1041",
            "max": 1648877,
            "min": 0,
            "orientation": "horizontal",
            "style": "IPY_MODEL_c2266e3be10f498287d593bc0716b67f",
            "value": 1648877
          }
        },
        "922973c13b1842a18bc360c14ee29afb": {
          "model_module": "@jupyter-widgets/controls",
          "model_name": "HTMLModel",
          "model_module_version": "1.5.0",
          "state": {
            "_dom_classes": [],
            "_model_module": "@jupyter-widgets/controls",
            "_model_module_version": "1.5.0",
            "_model_name": "HTMLModel",
            "_view_count": null,
            "_view_module": "@jupyter-widgets/controls",
            "_view_module_version": "1.5.0",
            "_view_name": "HTMLView",
            "description": "",
            "description_tooltip": null,
            "layout": "IPY_MODEL_abf446a56f6e49e8a22ca7c257a11655",
            "placeholder": "​",
            "style": "IPY_MODEL_f33421ff19bf48c78b22f5dd63db516c",
            "value": " 1648877/1648877 [00:00&lt;00:00, 35699345.45it/s]"
          }
        },
        "14be16848e8743df8fd48d25ce65e077": {
          "model_module": "@jupyter-widgets/base",
          "model_name": "LayoutModel",
          "model_module_version": "1.2.0",
          "state": {
            "_model_module": "@jupyter-widgets/base",
            "_model_module_version": "1.2.0",
            "_model_name": "LayoutModel",
            "_view_count": null,
            "_view_module": "@jupyter-widgets/base",
            "_view_module_version": "1.2.0",
            "_view_name": "LayoutView",
            "align_content": null,
            "align_items": null,
            "align_self": null,
            "border": null,
            "bottom": null,
            "display": null,
            "flex": null,
            "flex_flow": null,
            "grid_area": null,
            "grid_auto_columns": null,
            "grid_auto_flow": null,
            "grid_auto_rows": null,
            "grid_column": null,
            "grid_gap": null,
            "grid_row": null,
            "grid_template_areas": null,
            "grid_template_columns": null,
            "grid_template_rows": null,
            "height": null,
            "justify_content": null,
            "justify_items": null,
            "left": null,
            "margin": null,
            "max_height": null,
            "max_width": null,
            "min_height": null,
            "min_width": null,
            "object_fit": null,
            "object_position": null,
            "order": null,
            "overflow": null,
            "overflow_x": null,
            "overflow_y": null,
            "padding": null,
            "right": null,
            "top": null,
            "visibility": null,
            "width": null
          }
        },
        "a7167a9b89264e22bc7cd8dfa1f020fa": {
          "model_module": "@jupyter-widgets/base",
          "model_name": "LayoutModel",
          "model_module_version": "1.2.0",
          "state": {
            "_model_module": "@jupyter-widgets/base",
            "_model_module_version": "1.2.0",
            "_model_name": "LayoutModel",
            "_view_count": null,
            "_view_module": "@jupyter-widgets/base",
            "_view_module_version": "1.2.0",
            "_view_name": "LayoutView",
            "align_content": null,
            "align_items": null,
            "align_self": null,
            "border": null,
            "bottom": null,
            "display": null,
            "flex": null,
            "flex_flow": null,
            "grid_area": null,
            "grid_auto_columns": null,
            "grid_auto_flow": null,
            "grid_auto_rows": null,
            "grid_column": null,
            "grid_gap": null,
            "grid_row": null,
            "grid_template_areas": null,
            "grid_template_columns": null,
            "grid_template_rows": null,
            "height": null,
            "justify_content": null,
            "justify_items": null,
            "left": null,
            "margin": null,
            "max_height": null,
            "max_width": null,
            "min_height": null,
            "min_width": null,
            "object_fit": null,
            "object_position": null,
            "order": null,
            "overflow": null,
            "overflow_x": null,
            "overflow_y": null,
            "padding": null,
            "right": null,
            "top": null,
            "visibility": null,
            "width": null
          }
        },
        "1305611d533d438b928fc70fd3c437fc": {
          "model_module": "@jupyter-widgets/controls",
          "model_name": "DescriptionStyleModel",
          "model_module_version": "1.5.0",
          "state": {
            "_model_module": "@jupyter-widgets/controls",
            "_model_module_version": "1.5.0",
            "_model_name": "DescriptionStyleModel",
            "_view_count": null,
            "_view_module": "@jupyter-widgets/base",
            "_view_module_version": "1.2.0",
            "_view_name": "StyleView",
            "description_width": ""
          }
        },
        "4f9f447d5f6940c9b11524a5484f1041": {
          "model_module": "@jupyter-widgets/base",
          "model_name": "LayoutModel",
          "model_module_version": "1.2.0",
          "state": {
            "_model_module": "@jupyter-widgets/base",
            "_model_module_version": "1.2.0",
            "_model_name": "LayoutModel",
            "_view_count": null,
            "_view_module": "@jupyter-widgets/base",
            "_view_module_version": "1.2.0",
            "_view_name": "LayoutView",
            "align_content": null,
            "align_items": null,
            "align_self": null,
            "border": null,
            "bottom": null,
            "display": null,
            "flex": null,
            "flex_flow": null,
            "grid_area": null,
            "grid_auto_columns": null,
            "grid_auto_flow": null,
            "grid_auto_rows": null,
            "grid_column": null,
            "grid_gap": null,
            "grid_row": null,
            "grid_template_areas": null,
            "grid_template_columns": null,
            "grid_template_rows": null,
            "height": null,
            "justify_content": null,
            "justify_items": null,
            "left": null,
            "margin": null,
            "max_height": null,
            "max_width": null,
            "min_height": null,
            "min_width": null,
            "object_fit": null,
            "object_position": null,
            "order": null,
            "overflow": null,
            "overflow_x": null,
            "overflow_y": null,
            "padding": null,
            "right": null,
            "top": null,
            "visibility": null,
            "width": null
          }
        },
        "c2266e3be10f498287d593bc0716b67f": {
          "model_module": "@jupyter-widgets/controls",
          "model_name": "ProgressStyleModel",
          "model_module_version": "1.5.0",
          "state": {
            "_model_module": "@jupyter-widgets/controls",
            "_model_module_version": "1.5.0",
            "_model_name": "ProgressStyleModel",
            "_view_count": null,
            "_view_module": "@jupyter-widgets/base",
            "_view_module_version": "1.2.0",
            "_view_name": "StyleView",
            "bar_color": null,
            "description_width": ""
          }
        },
        "abf446a56f6e49e8a22ca7c257a11655": {
          "model_module": "@jupyter-widgets/base",
          "model_name": "LayoutModel",
          "model_module_version": "1.2.0",
          "state": {
            "_model_module": "@jupyter-widgets/base",
            "_model_module_version": "1.2.0",
            "_model_name": "LayoutModel",
            "_view_count": null,
            "_view_module": "@jupyter-widgets/base",
            "_view_module_version": "1.2.0",
            "_view_name": "LayoutView",
            "align_content": null,
            "align_items": null,
            "align_self": null,
            "border": null,
            "bottom": null,
            "display": null,
            "flex": null,
            "flex_flow": null,
            "grid_area": null,
            "grid_auto_columns": null,
            "grid_auto_flow": null,
            "grid_auto_rows": null,
            "grid_column": null,
            "grid_gap": null,
            "grid_row": null,
            "grid_template_areas": null,
            "grid_template_columns": null,
            "grid_template_rows": null,
            "height": null,
            "justify_content": null,
            "justify_items": null,
            "left": null,
            "margin": null,
            "max_height": null,
            "max_width": null,
            "min_height": null,
            "min_width": null,
            "object_fit": null,
            "object_position": null,
            "order": null,
            "overflow": null,
            "overflow_x": null,
            "overflow_y": null,
            "padding": null,
            "right": null,
            "top": null,
            "visibility": null,
            "width": null
          }
        },
        "f33421ff19bf48c78b22f5dd63db516c": {
          "model_module": "@jupyter-widgets/controls",
          "model_name": "DescriptionStyleModel",
          "model_module_version": "1.5.0",
          "state": {
            "_model_module": "@jupyter-widgets/controls",
            "_model_module_version": "1.5.0",
            "_model_name": "DescriptionStyleModel",
            "_view_count": null,
            "_view_module": "@jupyter-widgets/base",
            "_view_module_version": "1.2.0",
            "_view_name": "StyleView",
            "description_width": ""
          }
        },
        "97bcf2dd0f6144c4a9ccd6d789335bd3": {
          "model_module": "@jupyter-widgets/controls",
          "model_name": "HBoxModel",
          "model_module_version": "1.5.0",
          "state": {
            "_dom_classes": [],
            "_model_module": "@jupyter-widgets/controls",
            "_model_module_version": "1.5.0",
            "_model_name": "HBoxModel",
            "_view_count": null,
            "_view_module": "@jupyter-widgets/controls",
            "_view_module_version": "1.5.0",
            "_view_name": "HBoxView",
            "box_style": "",
            "children": [
              "IPY_MODEL_45739e9d10fc4219a32102e45b624e0a",
              "IPY_MODEL_775668d3d95944778805eb94bdfdb4e4",
              "IPY_MODEL_9f82cd2602cd41dabcd1bdbef4cfad79"
            ],
            "layout": "IPY_MODEL_7371f8c9a4b3432c8bbc12f198242f62"
          }
        },
        "45739e9d10fc4219a32102e45b624e0a": {
          "model_module": "@jupyter-widgets/controls",
          "model_name": "HTMLModel",
          "model_module_version": "1.5.0",
          "state": {
            "_dom_classes": [],
            "_model_module": "@jupyter-widgets/controls",
            "_model_module_version": "1.5.0",
            "_model_name": "HTMLModel",
            "_view_count": null,
            "_view_module": "@jupyter-widgets/controls",
            "_view_module_version": "1.5.0",
            "_view_name": "HTMLView",
            "description": "",
            "description_tooltip": null,
            "layout": "IPY_MODEL_72d733e08c254a5d95e1fc022a8d8664",
            "placeholder": "​",
            "style": "IPY_MODEL_c1c5c61e647d43bea7a37f903d0f1b3f",
            "value": "100%"
          }
        },
        "775668d3d95944778805eb94bdfdb4e4": {
          "model_module": "@jupyter-widgets/controls",
          "model_name": "FloatProgressModel",
          "model_module_version": "1.5.0",
          "state": {
            "_dom_classes": [],
            "_model_module": "@jupyter-widgets/controls",
            "_model_module_version": "1.5.0",
            "_model_name": "FloatProgressModel",
            "_view_count": null,
            "_view_module": "@jupyter-widgets/controls",
            "_view_module_version": "1.5.0",
            "_view_name": "ProgressView",
            "bar_style": "success",
            "description": "",
            "description_tooltip": null,
            "layout": "IPY_MODEL_42d18f88e4b04d7ab441cee6fe6aa905",
            "max": 4542,
            "min": 0,
            "orientation": "horizontal",
            "style": "IPY_MODEL_88a67fadbc0c435e8260ecd50cc345a2",
            "value": 4542
          }
        },
        "9f82cd2602cd41dabcd1bdbef4cfad79": {
          "model_module": "@jupyter-widgets/controls",
          "model_name": "HTMLModel",
          "model_module_version": "1.5.0",
          "state": {
            "_dom_classes": [],
            "_model_module": "@jupyter-widgets/controls",
            "_model_module_version": "1.5.0",
            "_model_name": "HTMLModel",
            "_view_count": null,
            "_view_module": "@jupyter-widgets/controls",
            "_view_module_version": "1.5.0",
            "_view_name": "HTMLView",
            "description": "",
            "description_tooltip": null,
            "layout": "IPY_MODEL_d1c1394f2e9d444d8ae25db13466213d",
            "placeholder": "​",
            "style": "IPY_MODEL_463d55728265488ca034c3eb5e0c3ca5",
            "value": " 4542/4542 [00:00&lt;00:00, 138113.36it/s]"
          }
        },
        "7371f8c9a4b3432c8bbc12f198242f62": {
          "model_module": "@jupyter-widgets/base",
          "model_name": "LayoutModel",
          "model_module_version": "1.2.0",
          "state": {
            "_model_module": "@jupyter-widgets/base",
            "_model_module_version": "1.2.0",
            "_model_name": "LayoutModel",
            "_view_count": null,
            "_view_module": "@jupyter-widgets/base",
            "_view_module_version": "1.2.0",
            "_view_name": "LayoutView",
            "align_content": null,
            "align_items": null,
            "align_self": null,
            "border": null,
            "bottom": null,
            "display": null,
            "flex": null,
            "flex_flow": null,
            "grid_area": null,
            "grid_auto_columns": null,
            "grid_auto_flow": null,
            "grid_auto_rows": null,
            "grid_column": null,
            "grid_gap": null,
            "grid_row": null,
            "grid_template_areas": null,
            "grid_template_columns": null,
            "grid_template_rows": null,
            "height": null,
            "justify_content": null,
            "justify_items": null,
            "left": null,
            "margin": null,
            "max_height": null,
            "max_width": null,
            "min_height": null,
            "min_width": null,
            "object_fit": null,
            "object_position": null,
            "order": null,
            "overflow": null,
            "overflow_x": null,
            "overflow_y": null,
            "padding": null,
            "right": null,
            "top": null,
            "visibility": null,
            "width": null
          }
        },
        "72d733e08c254a5d95e1fc022a8d8664": {
          "model_module": "@jupyter-widgets/base",
          "model_name": "LayoutModel",
          "model_module_version": "1.2.0",
          "state": {
            "_model_module": "@jupyter-widgets/base",
            "_model_module_version": "1.2.0",
            "_model_name": "LayoutModel",
            "_view_count": null,
            "_view_module": "@jupyter-widgets/base",
            "_view_module_version": "1.2.0",
            "_view_name": "LayoutView",
            "align_content": null,
            "align_items": null,
            "align_self": null,
            "border": null,
            "bottom": null,
            "display": null,
            "flex": null,
            "flex_flow": null,
            "grid_area": null,
            "grid_auto_columns": null,
            "grid_auto_flow": null,
            "grid_auto_rows": null,
            "grid_column": null,
            "grid_gap": null,
            "grid_row": null,
            "grid_template_areas": null,
            "grid_template_columns": null,
            "grid_template_rows": null,
            "height": null,
            "justify_content": null,
            "justify_items": null,
            "left": null,
            "margin": null,
            "max_height": null,
            "max_width": null,
            "min_height": null,
            "min_width": null,
            "object_fit": null,
            "object_position": null,
            "order": null,
            "overflow": null,
            "overflow_x": null,
            "overflow_y": null,
            "padding": null,
            "right": null,
            "top": null,
            "visibility": null,
            "width": null
          }
        },
        "c1c5c61e647d43bea7a37f903d0f1b3f": {
          "model_module": "@jupyter-widgets/controls",
          "model_name": "DescriptionStyleModel",
          "model_module_version": "1.5.0",
          "state": {
            "_model_module": "@jupyter-widgets/controls",
            "_model_module_version": "1.5.0",
            "_model_name": "DescriptionStyleModel",
            "_view_count": null,
            "_view_module": "@jupyter-widgets/base",
            "_view_module_version": "1.2.0",
            "_view_name": "StyleView",
            "description_width": ""
          }
        },
        "42d18f88e4b04d7ab441cee6fe6aa905": {
          "model_module": "@jupyter-widgets/base",
          "model_name": "LayoutModel",
          "model_module_version": "1.2.0",
          "state": {
            "_model_module": "@jupyter-widgets/base",
            "_model_module_version": "1.2.0",
            "_model_name": "LayoutModel",
            "_view_count": null,
            "_view_module": "@jupyter-widgets/base",
            "_view_module_version": "1.2.0",
            "_view_name": "LayoutView",
            "align_content": null,
            "align_items": null,
            "align_self": null,
            "border": null,
            "bottom": null,
            "display": null,
            "flex": null,
            "flex_flow": null,
            "grid_area": null,
            "grid_auto_columns": null,
            "grid_auto_flow": null,
            "grid_auto_rows": null,
            "grid_column": null,
            "grid_gap": null,
            "grid_row": null,
            "grid_template_areas": null,
            "grid_template_columns": null,
            "grid_template_rows": null,
            "height": null,
            "justify_content": null,
            "justify_items": null,
            "left": null,
            "margin": null,
            "max_height": null,
            "max_width": null,
            "min_height": null,
            "min_width": null,
            "object_fit": null,
            "object_position": null,
            "order": null,
            "overflow": null,
            "overflow_x": null,
            "overflow_y": null,
            "padding": null,
            "right": null,
            "top": null,
            "visibility": null,
            "width": null
          }
        },
        "88a67fadbc0c435e8260ecd50cc345a2": {
          "model_module": "@jupyter-widgets/controls",
          "model_name": "ProgressStyleModel",
          "model_module_version": "1.5.0",
          "state": {
            "_model_module": "@jupyter-widgets/controls",
            "_model_module_version": "1.5.0",
            "_model_name": "ProgressStyleModel",
            "_view_count": null,
            "_view_module": "@jupyter-widgets/base",
            "_view_module_version": "1.2.0",
            "_view_name": "StyleView",
            "bar_color": null,
            "description_width": ""
          }
        },
        "d1c1394f2e9d444d8ae25db13466213d": {
          "model_module": "@jupyter-widgets/base",
          "model_name": "LayoutModel",
          "model_module_version": "1.2.0",
          "state": {
            "_model_module": "@jupyter-widgets/base",
            "_model_module_version": "1.2.0",
            "_model_name": "LayoutModel",
            "_view_count": null,
            "_view_module": "@jupyter-widgets/base",
            "_view_module_version": "1.2.0",
            "_view_name": "LayoutView",
            "align_content": null,
            "align_items": null,
            "align_self": null,
            "border": null,
            "bottom": null,
            "display": null,
            "flex": null,
            "flex_flow": null,
            "grid_area": null,
            "grid_auto_columns": null,
            "grid_auto_flow": null,
            "grid_auto_rows": null,
            "grid_column": null,
            "grid_gap": null,
            "grid_row": null,
            "grid_template_areas": null,
            "grid_template_columns": null,
            "grid_template_rows": null,
            "height": null,
            "justify_content": null,
            "justify_items": null,
            "left": null,
            "margin": null,
            "max_height": null,
            "max_width": null,
            "min_height": null,
            "min_width": null,
            "object_fit": null,
            "object_position": null,
            "order": null,
            "overflow": null,
            "overflow_x": null,
            "overflow_y": null,
            "padding": null,
            "right": null,
            "top": null,
            "visibility": null,
            "width": null
          }
        },
        "463d55728265488ca034c3eb5e0c3ca5": {
          "model_module": "@jupyter-widgets/controls",
          "model_name": "DescriptionStyleModel",
          "model_module_version": "1.5.0",
          "state": {
            "_model_module": "@jupyter-widgets/controls",
            "_model_module_version": "1.5.0",
            "_model_name": "DescriptionStyleModel",
            "_view_count": null,
            "_view_module": "@jupyter-widgets/base",
            "_view_module_version": "1.2.0",
            "_view_name": "StyleView",
            "description_width": ""
          }
        }
      }
    }
  },
  "cells": [
    {
      "cell_type": "markdown",
      "source": [
        "# About: Deep Learning '23 Assignment 1\n",
        "\n",
        "\n",
        "We will perform Image Classification task on the MNIST dataset which has 70,000 28*28 images labelled into 10 classes. \n",
        "\n",
        "**Total Marks: 60**\n",
        "\n",
        "\n",
        "**Fill these**\n",
        "\n",
        "Name: Abhishek Garg\n",
        "\n",
        "Roll Number: 22BM6JP03\n",
        "\n",
        "**Instructions:**\n",
        "\n",
        "1. We have left code cells blank for you to fill up with appropriate code. Do not add any extra code cells. Strictly follow the format and fill up the cells with the correct code. Refer to cell comments for what to fill in that cell.\n",
        "\n",
        "2. *Do not* use any training frameworks like PyTorch Lightning. This assignment will test your ability to write custom training loops.\n",
        "\n",
        "3. Save the notebook with cell outputs of all cells. The cell outputs  will be used for evaluating your submission.\n",
        "\n",
        "\n"
      ],
      "metadata": {
        "id": "FBKdMbwfvq-W"
      }
    },
    {
      "cell_type": "code",
      "source": [
        "import torch\n",
        "import torch.nn as nn\n",
        "import random\n",
        "import numpy as np\n",
        "\n",
        "from torchvision import datasets, transforms\n",
        "from torch.utils.data import random_split, DataLoader\n",
        "\n",
        "\n",
        "## Add any other imports here"
      ],
      "metadata": {
        "id": "b7yol97nxLq3"
      },
      "execution_count": 4,
      "outputs": []
    },
    {
      "cell_type": "code",
      "source": [
        "SEED=42\n",
        "torch.manual_seed(SEED)\n",
        "random.seed(SEED)\n",
        "np.random.seed(SEED)"
      ],
      "metadata": {
        "id": "Lv07aCHK0IhG"
      },
      "execution_count": 2,
      "outputs": []
    },
    {
      "cell_type": "markdown",
      "source": [
        "## Getting the data"
      ],
      "metadata": {
        "id": "HU_56fBhx2H4"
      }
    },
    {
      "cell_type": "code",
      "source": [
        "train_data = datasets.MNIST('data', train=True, download=True, transform=transforms.ToTensor())\n",
        "test_data = datasets.MNIST('data', train=False, download=True, transform=transforms.ToTensor())\n",
        "train, val = random_split(train_data, [50000, 10000], generator=torch.Generator().manual_seed(SEED))\n",
        "\n",
        "train_loader = DataLoader(train, batch_size=64, shuffle=True)\n",
        "val_loader = DataLoader(val, batch_size=64, shuffle=False)\n",
        "test_loader = DataLoader(test_data, batch_size=64, shuffle=False)\n",
        "\n",
        "print(len(train), len(val), len(test_data))"
      ],
      "metadata": {
        "colab": {
          "base_uri": "https://localhost:8080/",
          "height": 449,
          "referenced_widgets": [
            "ca3bd49ca255409a892f394d198f4e24",
            "1e99bb50bcef404982a7fcaf4ae28a18",
            "24b7e7563f174ded952408d808c78ff0",
            "63d69bf0a69340ad80e5087afab565d5",
            "9bf05af01e1a43908433fdd606ac5d99",
            "8721a014a6f3471e85271299ac4195d0",
            "2bb60899d0094b5ba75cd58b64138276",
            "f14f85fbe7e043c9859239806ec934cf",
            "f8151282b1bb47b9b09b2ebcff6e41e4",
            "b428ae4ea3e94141a5ec7cd53af9321b",
            "b3a007e16a144d1a8070dfb3f901877e",
            "a2a2d00bf1d94e2ca0c2ec35ff778178",
            "6c2899afcafd40f18e68c1f6cc358778",
            "3c5934ba3b8b43678c9b8af3f7f431a6",
            "f49d06b0b1824b84bdbf03bed191ef57",
            "486b9737a37c468ca38174981d9f67a3",
            "a4d2dd0f83554ae784e904dc244b1d10",
            "15cc1e666257430e944185be6f5189d2",
            "45def721fc6b48e7aaff0349b8d6ab2c",
            "57184698fa52447c8814ebae9bbed899",
            "acff0e3118c84f0ab30ea2c82a5deacd",
            "af37956dbb3a4ed8b8e3a17a2f74d571",
            "aea6630033d044f8b98f0e41b0a8716e",
            "5144192011f941baaf18874272dce5b4",
            "402d317c5a834381bb89fa6ada10ea00",
            "922973c13b1842a18bc360c14ee29afb",
            "14be16848e8743df8fd48d25ce65e077",
            "a7167a9b89264e22bc7cd8dfa1f020fa",
            "1305611d533d438b928fc70fd3c437fc",
            "4f9f447d5f6940c9b11524a5484f1041",
            "c2266e3be10f498287d593bc0716b67f",
            "abf446a56f6e49e8a22ca7c257a11655",
            "f33421ff19bf48c78b22f5dd63db516c",
            "97bcf2dd0f6144c4a9ccd6d789335bd3",
            "45739e9d10fc4219a32102e45b624e0a",
            "775668d3d95944778805eb94bdfdb4e4",
            "9f82cd2602cd41dabcd1bdbef4cfad79",
            "7371f8c9a4b3432c8bbc12f198242f62",
            "72d733e08c254a5d95e1fc022a8d8664",
            "c1c5c61e647d43bea7a37f903d0f1b3f",
            "42d18f88e4b04d7ab441cee6fe6aa905",
            "88a67fadbc0c435e8260ecd50cc345a2",
            "d1c1394f2e9d444d8ae25db13466213d",
            "463d55728265488ca034c3eb5e0c3ca5"
          ]
        },
        "id": "CfV1pXYtyAfW",
        "outputId": "a61f8436-ab4f-47a8-b87f-5b1d6019b8f3"
      },
      "execution_count": 3,
      "outputs": [
        {
          "output_type": "stream",
          "name": "stdout",
          "text": [
            "Downloading http://yann.lecun.com/exdb/mnist/train-images-idx3-ubyte.gz\n",
            "Downloading http://yann.lecun.com/exdb/mnist/train-images-idx3-ubyte.gz to data/MNIST/raw/train-images-idx3-ubyte.gz\n"
          ]
        },
        {
          "output_type": "display_data",
          "data": {
            "text/plain": [
              "  0%|          | 0/9912422 [00:00<?, ?it/s]"
            ],
            "application/vnd.jupyter.widget-view+json": {
              "version_major": 2,
              "version_minor": 0,
              "model_id": "ca3bd49ca255409a892f394d198f4e24"
            }
          },
          "metadata": {}
        },
        {
          "output_type": "stream",
          "name": "stdout",
          "text": [
            "Extracting data/MNIST/raw/train-images-idx3-ubyte.gz to data/MNIST/raw\n",
            "\n",
            "Downloading http://yann.lecun.com/exdb/mnist/train-labels-idx1-ubyte.gz\n",
            "Downloading http://yann.lecun.com/exdb/mnist/train-labels-idx1-ubyte.gz to data/MNIST/raw/train-labels-idx1-ubyte.gz\n"
          ]
        },
        {
          "output_type": "display_data",
          "data": {
            "text/plain": [
              "  0%|          | 0/28881 [00:00<?, ?it/s]"
            ],
            "application/vnd.jupyter.widget-view+json": {
              "version_major": 2,
              "version_minor": 0,
              "model_id": "a2a2d00bf1d94e2ca0c2ec35ff778178"
            }
          },
          "metadata": {}
        },
        {
          "output_type": "stream",
          "name": "stdout",
          "text": [
            "Extracting data/MNIST/raw/train-labels-idx1-ubyte.gz to data/MNIST/raw\n",
            "\n",
            "Downloading http://yann.lecun.com/exdb/mnist/t10k-images-idx3-ubyte.gz\n",
            "Downloading http://yann.lecun.com/exdb/mnist/t10k-images-idx3-ubyte.gz to data/MNIST/raw/t10k-images-idx3-ubyte.gz\n"
          ]
        },
        {
          "output_type": "display_data",
          "data": {
            "text/plain": [
              "  0%|          | 0/1648877 [00:00<?, ?it/s]"
            ],
            "application/vnd.jupyter.widget-view+json": {
              "version_major": 2,
              "version_minor": 0,
              "model_id": "aea6630033d044f8b98f0e41b0a8716e"
            }
          },
          "metadata": {}
        },
        {
          "output_type": "stream",
          "name": "stdout",
          "text": [
            "Extracting data/MNIST/raw/t10k-images-idx3-ubyte.gz to data/MNIST/raw\n",
            "\n",
            "Downloading http://yann.lecun.com/exdb/mnist/t10k-labels-idx1-ubyte.gz\n",
            "Downloading http://yann.lecun.com/exdb/mnist/t10k-labels-idx1-ubyte.gz to data/MNIST/raw/t10k-labels-idx1-ubyte.gz\n"
          ]
        },
        {
          "output_type": "display_data",
          "data": {
            "text/plain": [
              "  0%|          | 0/4542 [00:00<?, ?it/s]"
            ],
            "application/vnd.jupyter.widget-view+json": {
              "version_major": 2,
              "version_minor": 0,
              "model_id": "97bcf2dd0f6144c4a9ccd6d789335bd3"
            }
          },
          "metadata": {}
        },
        {
          "output_type": "stream",
          "name": "stdout",
          "text": [
            "Extracting data/MNIST/raw/t10k-labels-idx1-ubyte.gz to data/MNIST/raw\n",
            "\n",
            "50000 10000 10000\n"
          ]
        }
      ]
    },
    {
      "cell_type": "markdown",
      "source": [
        "## Defining the Model [18 marks]\n",
        "\n",
        "You will define 3 models, with 2, 3, 4 hidden layers respectively. Lets call these models A, B, C. We will be studying the comparitive performance of these 3 models on this task.\n",
        "\n",
        "Use ReLU as the activation function for all three models. Later we will experiment with other activation functions as well."
      ],
      "metadata": {
        "id": "4xqWpnwu0mzj"
      }
    },
    {
      "cell_type": "markdown",
      "source": [
        "### Model A\n",
        "\n",
        "Architecture:\n",
        "\n",
        "1. Input Layer \n",
        "2. Hidden Layer (Dimension Size - 64)\n",
        "3. Activation Function\n",
        "4. Hidden Layer (Dimension Size - 128)\n",
        "5. Activation Function\n",
        "6. Output Layer (Dimension Size = Number of Classes = 10)"
      ],
      "metadata": {
        "id": "30J_OmCoMm4S"
      }
    },
    {
      "cell_type": "code",
      "source": [
        "# Model A Definition \n",
        "class NetRelu(nn.Module):\n",
        "    \n",
        "    # Constructor\n",
        "    def __init__(self, data_input, H1_output, H2_output, Data_out):\n",
        "        super(NetRelu, self).__init__()\n",
        "        self.linear1 = nn.Linear(data_input, H1_output)\n",
        "        self.linear2 = nn.Linear(H1_output, H2_output)\n",
        "        self.linear3 = nn.Linear(H2_output, Data_out)\n",
        "    \n",
        "    # Prediction\n",
        "    def forward(self, x):\n",
        "        x = x.view(-1, 28 * 28)\n",
        "        x = torch.relu(self.linear1(x))  \n",
        "        x = torch.relu(self.linear2(x))\n",
        "        x = self.linear3(x)\n",
        "        return x\n",
        "\n",
        "\n",
        "# Fill in appropriately while maintaining the name of the variable\n",
        "model = NetRelu(28*28,64,128,10)"
      ],
      "metadata": {
        "id": "WPGlwx0502pe"
      },
      "execution_count": 14,
      "outputs": []
    },
    {
      "cell_type": "markdown",
      "source": [
        "### Model B\n",
        "\n",
        "\n",
        "Architecture:\n",
        "\n",
        "1. Input Layer \n",
        "2. Hidden Layer (Dimension Size - 64)\n",
        "3. Activation Function\n",
        "4. Hidden Layer (Dimension Size - 128)\n",
        "5. Activation Function\n",
        "6. Hidden Layer (Dimension Size - 256)\n",
        "7. Activation Function\n",
        "8. Output Layer (Dimension Size = Number of Classes = 10)"
      ],
      "metadata": {
        "id": "0K0nfqCvMqA9"
      }
    },
    {
      "cell_type": "code",
      "source": [
        "# Model B Definiton\n",
        "\n",
        "class NetRelu(nn.Module):\n",
        "    \n",
        "    # Constructor\n",
        "    def __init__(self, data_input, H1_output, H2_output, H3_output, Data_out):\n",
        "        super(NetRelu, self).__init__()\n",
        "        self.linear1 = nn.Linear(data_input, H1_output)\n",
        "        self.linear2 = nn.Linear(H1_output, H2_output)\n",
        "        self.linear3 = nn.Linear(H2_output, H3_output)\n",
        "        self.linear4 = nn.Linear(H3_output, Data_out)\n",
        "    \n",
        "    # Prediction\n",
        "    def forward(self, x):\n",
        "        x = x.view(-1, 28 * 28)\n",
        "        x = torch.relu(self.linear1(x))  \n",
        "        x = torch.relu(self.linear2(x))\n",
        "        x = torch.relu(self.linear3(x))\n",
        "        x = self.linear4(x)\n",
        "        return x\n",
        "\n",
        "# Use the same variable name\n",
        "model = NetRelu(28*28,64,128,256,10)"
      ],
      "metadata": {
        "id": "AD5W0AJ908tI"
      },
      "execution_count": 15,
      "outputs": []
    },
    {
      "cell_type": "markdown",
      "source": [
        "### Model C\n",
        "\n",
        "\n",
        "Architecture\n",
        "\n",
        "1. Input Layer \n",
        "2. Hidden Layer (Dimension Size - 64)\n",
        "3. Activation Function\n",
        "4. Hidden Layer (Dimension Size - 128)\n",
        "5. Activation Function\n",
        "6. Hidden Layer (Dimension Size - 256)\n",
        "7. Activation Function\n",
        "8. Hidden Layer (Dimension Size - 512)\n",
        "9. Activation Function\n",
        "10. Output Layer (Dimension Size = Number of Classes = 10)"
      ],
      "metadata": {
        "id": "TPDoGu9mMr_x"
      }
    },
    {
      "cell_type": "code",
      "source": [
        "# Model C Definition\n",
        "class NetRelu(nn.Module):\n",
        "    \n",
        "    # Constructor\n",
        "    def __init__(self, data_input, H1_output, H2_output, H3_output,H4_output, Data_out):\n",
        "        super(NetRelu, self).__init__()\n",
        "        self.linear1 = nn.Linear(data_input, H1_output)\n",
        "        self.linear2 = nn.Linear(H1_output, H2_output)\n",
        "        self.linear3 = nn.Linear(H2_output, H3_output)\n",
        "        self.linear4 = nn.Linear(H3_output, H4_output)\n",
        "        self.linear5 = nn.Linear(H4_output, Data_out)\n",
        "    \n",
        "    # Prediction\n",
        "    def forward(self, x):\n",
        "        x = x.view(-1, 28 * 28)\n",
        "        x = torch.relu(self.linear1(x))  \n",
        "        x = torch.relu(self.linear2(x))\n",
        "        x = torch.relu(self.linear3(x))\n",
        "        x = torch.relu(self.linear4(x))\n",
        "        x = self.linear5(x)\n",
        "        return x\n",
        "\n",
        "# Use the same variable name\n",
        "model = NetRelu(28*28,64,128,256,512,10)"
      ],
      "metadata": {
        "id": "FAaOMMjY1Jna"
      },
      "execution_count": 16,
      "outputs": []
    },
    {
      "cell_type": "markdown",
      "source": [
        "## Loss Function & Optimizer [2 marks]\n",
        "\n",
        "* Loss Function: Cross Entropy Loss\n",
        "* Optimizer : Adam\n",
        "\n",
        "Use PyTorch Library versions for these two."
      ],
      "metadata": {
        "id": "EFfgQVEz1Oqx"
      }
    },
    {
      "cell_type": "code",
      "source": [
        "# Use the same variable names\n",
        "criterion = nn.CrossEntropyLoss()\n",
        "learning_rate = 0.01\n",
        "optimizer = torch.optim.Adam(model.parameters(), lr=learning_rate)"
      ],
      "metadata": {
        "id": "-z7ogUqL1WMV"
      },
      "execution_count": 10,
      "outputs": []
    },
    {
      "cell_type": "markdown",
      "source": [
        "## Training Loop [30 marks]\n",
        "\n",
        "We give you the freedom to choose Hyperparameters like learing rate, number of epochs etc, but take care to use the **same** hyperparameters for all the 3 models. Also clearly state the hyperparameters you have chosen\n",
        "\n",
        "For each model, You need to report these metrics: Train Loss, Val Loss, Train Accuracy, Val Accuracy at the end of each epoch.\n",
        "\n",
        "Also plot the graphs of the following (in separate cells)\n",
        "1. Train Loss & Val Loss V/s Epoch\n",
        "2. Train Accuracy & Val Accuracy V/s Epoch"
      ],
      "metadata": {
        "id": "OLnwW-h31oJa"
      }
    },
    {
      "cell_type": "code",
      "source": [
        "# Define the hyperparameters (same for all 3 models) here\n",
        "learning_rate = 0.01\n",
        "num_epochs= 10\n"
      ],
      "metadata": {
        "id": "3ZVpEI-N8L5X"
      },
      "execution_count": 11,
      "outputs": []
    },
    {
      "cell_type": "markdown",
      "source": [
        "### Model A \n",
        "\n"
      ],
      "metadata": {
        "id": "UMdreKgU24od"
      }
    },
    {
      "cell_type": "code",
      "source": [
        "# Training Loop for model A\n",
        "\n",
        "def train(model, criterion, train_loader, validation_loader, optimizer, epochs=100):\n",
        "    i = 0\n",
        "    metrics = {'training_loss': [], 'validation_accuracy': []}  \n",
        "    epoch_losses_train = []\n",
        "    epoch_losses_valid = []\n",
        "    iteration_valid_losses=[]\n",
        "    \n",
        "    for epoch in range(epochs):\n",
        "        runningLoss=0\n",
        "        for i, (x, y) in enumerate(train_loader):\n",
        "            optimizer.zero_grad()\n",
        "            z = model(x.view(-1, 28 * 28))\n",
        "            loss = criterion(z, y)\n",
        "            loss.backward()\n",
        "            optimizer.step()\n",
        "            runningLoss += loss.item()\n",
        "            metrics['training_loss'].append(loss.data.item())\n",
        "        epoch_losses_train.append(runningLoss / len(train_loader))\n",
        "        \n",
        "        runningLossValid= 0\n",
        "        with torch.no_grad():\n",
        "           for i, (inputs, labels) in enumerate(val_loader):\n",
        "               outputs = model(inputs)\n",
        "               loss = criterion(outputs, labels)\n",
        "               runningLossValid += loss.item()\n",
        "               iteration_valid_losses.append(loss.item())\n",
        "           epoch_losses_valid.append(runningLossValid / len(val_loader))\n",
        "        \n",
        "        correct = 0\n",
        "        for x, y in test_loader:\n",
        "            z = model(x.view(-1, 28 * 28))\n",
        "            _, label = torch.max(z, 1)\n",
        "            correct += (label == y).sum().item()\n",
        "    \n",
        "        accuracy = 100 * (correct / len(test_data))\n",
        "        metrics['validation_accuracy'].append(accuracy)\n",
        "        print(f\"Epoch {epoch:3}. Training Loss: {epoch_losses_train[-1]:.6f},  Validation Loss: {epoch_losses_valid[-1]:.6f} , Accuracy: {correct} / {len(test_data)} [{100 * correct / len(test_data):.2f}%]\")\n",
        "            \n",
        "    \n",
        "    return metrics"
      ],
      "metadata": {
        "id": "iyJ75sLw2Z5n"
      },
      "execution_count": 17,
      "outputs": []
    },
    {
      "cell_type": "code",
      "source": [
        "training_results_relu = train(model, criterion, train_loader, test_loader, optimizer, epochs=num_epochs)"
      ],
      "metadata": {
        "id": "dM5HCk1MqQXq",
        "outputId": "1105aa40-3037-477b-aded-859be5b0c3de",
        "colab": {
          "base_uri": "https://localhost:8080/"
        }
      },
      "execution_count": 18,
      "outputs": [
        {
          "output_type": "stream",
          "name": "stdout",
          "text": [
            "Epoch   0. Training Loss: 2.302280,  Validation Loss: 2.302259 , Accuracy: 1010 / 10000 [10.10%]\n",
            "Epoch   1. Training Loss: 2.302280,  Validation Loss: 2.302259 , Accuracy: 1010 / 10000 [10.10%]\n",
            "Epoch   2. Training Loss: 2.302283,  Validation Loss: 2.302259 , Accuracy: 1010 / 10000 [10.10%]\n",
            "Epoch   3. Training Loss: 2.302272,  Validation Loss: 2.302259 , Accuracy: 1010 / 10000 [10.10%]\n",
            "Epoch   4. Training Loss: 2.302288,  Validation Loss: 2.302259 , Accuracy: 1010 / 10000 [10.10%]\n",
            "Epoch   5. Training Loss: 2.302285,  Validation Loss: 2.302259 , Accuracy: 1010 / 10000 [10.10%]\n",
            "Epoch   6. Training Loss: 2.302272,  Validation Loss: 2.302259 , Accuracy: 1010 / 10000 [10.10%]\n",
            "Epoch   7. Training Loss: 2.302284,  Validation Loss: 2.302259 , Accuracy: 1010 / 10000 [10.10%]\n",
            "Epoch   8. Training Loss: 2.302276,  Validation Loss: 2.302259 , Accuracy: 1010 / 10000 [10.10%]\n",
            "Epoch   9. Training Loss: 2.302273,  Validation Loss: 2.302259 , Accuracy: 1010 / 10000 [10.10%]\n"
          ]
        }
      ]
    },
    {
      "cell_type": "code",
      "source": [
        "# Plot Graph of Train & Val Loss vs Epoch (together in same plot) for model A\n",
        "plt.plot(training_results_relu['training_loss'], label='relu')\n",
        "plt.plot(training_results_relu['validation_accuracy'])\n",
        "plt.ylabel('loss')\n",
        "plt.title('training loss iterations')\n",
        "plt.legend()"
      ],
      "metadata": {
        "id": "Gk8Atveg2nPj"
      },
      "execution_count": null,
      "outputs": []
    },
    {
      "cell_type": "code",
      "source": [
        "# Plot Graph of Train & Val Accuracy vs Epoch (together in same plot) for model A"
      ],
      "metadata": {
        "id": "VGTWAn_22n0m"
      },
      "execution_count": null,
      "outputs": []
    },
    {
      "cell_type": "markdown",
      "source": [
        "### Model B\n"
      ],
      "metadata": {
        "id": "X-kUp7pk28n-"
      }
    },
    {
      "cell_type": "code",
      "source": [
        "# Training Loop for model B"
      ],
      "metadata": {
        "id": "jCmX8PqE22XP"
      },
      "execution_count": null,
      "outputs": []
    },
    {
      "cell_type": "code",
      "source": [
        "# Plot Graph of Train & Val Loss vs Epoch (together in same plot) for model B"
      ],
      "metadata": {
        "id": "9pfLjJrI22XQ"
      },
      "execution_count": null,
      "outputs": []
    },
    {
      "cell_type": "code",
      "source": [
        "# Plot Graph of Train & Val Accuracy vs Epoch (together in same plot) for model B"
      ],
      "metadata": {
        "id": "KOy6REpK22XQ"
      },
      "execution_count": null,
      "outputs": []
    },
    {
      "cell_type": "markdown",
      "source": [
        "### Model C\n"
      ],
      "metadata": {
        "id": "4JslKXgq3AUT"
      }
    },
    {
      "cell_type": "code",
      "source": [
        "# Training Loop for model C"
      ],
      "metadata": {
        "id": "2m3w2F5J22mq"
      },
      "execution_count": null,
      "outputs": []
    },
    {
      "cell_type": "code",
      "source": [
        "# Plot Graph of Train & Val Loss vs Epoch (together in same plot) for model C"
      ],
      "metadata": {
        "id": "eN5XtgCl22mq"
      },
      "execution_count": null,
      "outputs": []
    },
    {
      "cell_type": "code",
      "source": [
        "# Plot Graph of Train & Val Accuracy vs Epoch (together in same plot) for model C"
      ],
      "metadata": {
        "id": "xwOen7-V22mr"
      },
      "execution_count": null,
      "outputs": []
    },
    {
      "cell_type": "markdown",
      "source": [
        "## Choosing a Activation Function [10 marks]\n",
        "\n",
        "Based on the best performing model you found above, define 2 more models with these 2 activation functions (1 activation function is used throughout the model definiation). Use these Activation funcitons \n",
        "\n",
        "\n",
        "*   Tanh\n",
        "*   LeakyRELU"
      ],
      "metadata": {
        "id": "AZuT5E_r3LbK"
      }
    },
    {
      "cell_type": "code",
      "source": [
        "# Leaky ReLU model definiton\n",
        "\n",
        "# Tanh model definition\n",
        "\n",
        "\n",
        "# Maintain these variable names\n",
        "model_lrelu = ...\n",
        "model_tanh = ..."
      ],
      "metadata": {
        "id": "uhAK1dvg3vkf"
      },
      "execution_count": null,
      "outputs": []
    },
    {
      "cell_type": "markdown",
      "source": [
        "### Training \n",
        "\n",
        "Train these two models with the same hyperparameters. Train in separate cells given below, and report the same metrics descrived previously (train_loss, val_loss, train_acc, val_acc)"
      ],
      "metadata": {
        "id": "3P1fzs0P4Anx"
      }
    },
    {
      "cell_type": "code",
      "source": [
        "# Training Loop for LRELU"
      ],
      "metadata": {
        "id": "-OAT_Rx64T0a"
      },
      "execution_count": null,
      "outputs": []
    },
    {
      "cell_type": "code",
      "source": [
        "# Training Loop for TanH"
      ],
      "metadata": {
        "id": "QuobAEP44Wrz"
      },
      "execution_count": null,
      "outputs": []
    },
    {
      "cell_type": "markdown",
      "source": [
        "### Results on Test Set\n",
        "\n",
        "Report the Test Set classfication accuracy for the three activation functions (ReLU, LeakyReLU & TanH) and state which activation function gave the best performance on test set"
      ],
      "metadata": {
        "id": "WjH0LdKA4tYW"
      }
    },
    {
      "cell_type": "code",
      "source": [
        "# Define how to calculate Accuracy on Test Set"
      ],
      "metadata": {
        "id": "gFeLvSrN4vT_"
      },
      "execution_count": null,
      "outputs": []
    },
    {
      "cell_type": "code",
      "source": [
        "# Accuracy of RELU model"
      ],
      "metadata": {
        "id": "q8dhJf4W7cKu"
      },
      "execution_count": null,
      "outputs": []
    },
    {
      "cell_type": "code",
      "source": [
        "# Accuracy of TanH model"
      ],
      "metadata": {
        "id": "Uouc_R9t7cV3"
      },
      "execution_count": null,
      "outputs": []
    },
    {
      "cell_type": "code",
      "source": [
        "# Accuracy of LeakyReLU model"
      ],
      "metadata": {
        "id": "tjLBwh577chM"
      },
      "execution_count": null,
      "outputs": []
    },
    {
      "cell_type": "markdown",
      "source": [
        "Fill in these with the values you obtained from training.\n",
        "\n",
        "* ReLU model Test Set Accuracy: `....` %\n",
        "* TanH model Test Set Accuracy: `....` %\n",
        "* LeakReLU model Test Set Accuracy: `....` %"
      ],
      "metadata": {
        "id": "5xelRHJV7Lmj"
      }
    }
  ]
}