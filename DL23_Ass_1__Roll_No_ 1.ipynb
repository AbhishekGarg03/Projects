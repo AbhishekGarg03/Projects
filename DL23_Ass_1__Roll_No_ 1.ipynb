{
  "nbformat": 4,
  "nbformat_minor": 0,
  "metadata": {
    "colab": {
      "provenance": []
    },
    "kernelspec": {
      "name": "python3",
      "display_name": "Python 3"
    },
    "language_info": {
      "name": "python"
    },
    "widgets": {
      "application/vnd.jupyter.widget-state+json": {
        "526ba25883564809bbb9b567e669b602": {
          "model_module": "@jupyter-widgets/controls",
          "model_name": "HBoxModel",
          "model_module_version": "1.5.0",
          "state": {
            "_dom_classes": [],
            "_model_module": "@jupyter-widgets/controls",
            "_model_module_version": "1.5.0",
            "_model_name": "HBoxModel",
            "_view_count": null,
            "_view_module": "@jupyter-widgets/controls",
            "_view_module_version": "1.5.0",
            "_view_name": "HBoxView",
            "box_style": "",
            "children": [
              "IPY_MODEL_9c15a694f2be4cffbaafe7440deb3c10",
              "IPY_MODEL_266b9792fb814fe5bbe23ec13123c76d",
              "IPY_MODEL_960cc079ffaa48478d4bfa101600a0ff"
            ],
            "layout": "IPY_MODEL_08888029ef5d40a297d225581cbc03f2"
          }
        },
        "9c15a694f2be4cffbaafe7440deb3c10": {
          "model_module": "@jupyter-widgets/controls",
          "model_name": "HTMLModel",
          "model_module_version": "1.5.0",
          "state": {
            "_dom_classes": [],
            "_model_module": "@jupyter-widgets/controls",
            "_model_module_version": "1.5.0",
            "_model_name": "HTMLModel",
            "_view_count": null,
            "_view_module": "@jupyter-widgets/controls",
            "_view_module_version": "1.5.0",
            "_view_name": "HTMLView",
            "description": "",
            "description_tooltip": null,
            "layout": "IPY_MODEL_ca22d9cd192947779ba73ddc167cf9b6",
            "placeholder": "​",
            "style": "IPY_MODEL_b187210317e348a58997272e48d486e5",
            "value": "100%"
          }
        },
        "266b9792fb814fe5bbe23ec13123c76d": {
          "model_module": "@jupyter-widgets/controls",
          "model_name": "FloatProgressModel",
          "model_module_version": "1.5.0",
          "state": {
            "_dom_classes": [],
            "_model_module": "@jupyter-widgets/controls",
            "_model_module_version": "1.5.0",
            "_model_name": "FloatProgressModel",
            "_view_count": null,
            "_view_module": "@jupyter-widgets/controls",
            "_view_module_version": "1.5.0",
            "_view_name": "ProgressView",
            "bar_style": "success",
            "description": "",
            "description_tooltip": null,
            "layout": "IPY_MODEL_69c878ce857c46299e2d429c87830846",
            "max": 9912422,
            "min": 0,
            "orientation": "horizontal",
            "style": "IPY_MODEL_d4115047d6ae4d41a43b6dc72217c931",
            "value": 9912422
          }
        },
        "960cc079ffaa48478d4bfa101600a0ff": {
          "model_module": "@jupyter-widgets/controls",
          "model_name": "HTMLModel",
          "model_module_version": "1.5.0",
          "state": {
            "_dom_classes": [],
            "_model_module": "@jupyter-widgets/controls",
            "_model_module_version": "1.5.0",
            "_model_name": "HTMLModel",
            "_view_count": null,
            "_view_module": "@jupyter-widgets/controls",
            "_view_module_version": "1.5.0",
            "_view_name": "HTMLView",
            "description": "",
            "description_tooltip": null,
            "layout": "IPY_MODEL_a1f6029441ff4ab182cb6e9c36a986de",
            "placeholder": "​",
            "style": "IPY_MODEL_e9fa825bc2494358bbb6ac8f0aea3ba3",
            "value": " 9912422/9912422 [00:00&lt;00:00, 47252165.98it/s]"
          }
        },
        "08888029ef5d40a297d225581cbc03f2": {
          "model_module": "@jupyter-widgets/base",
          "model_name": "LayoutModel",
          "model_module_version": "1.2.0",
          "state": {
            "_model_module": "@jupyter-widgets/base",
            "_model_module_version": "1.2.0",
            "_model_name": "LayoutModel",
            "_view_count": null,
            "_view_module": "@jupyter-widgets/base",
            "_view_module_version": "1.2.0",
            "_view_name": "LayoutView",
            "align_content": null,
            "align_items": null,
            "align_self": null,
            "border": null,
            "bottom": null,
            "display": null,
            "flex": null,
            "flex_flow": null,
            "grid_area": null,
            "grid_auto_columns": null,
            "grid_auto_flow": null,
            "grid_auto_rows": null,
            "grid_column": null,
            "grid_gap": null,
            "grid_row": null,
            "grid_template_areas": null,
            "grid_template_columns": null,
            "grid_template_rows": null,
            "height": null,
            "justify_content": null,
            "justify_items": null,
            "left": null,
            "margin": null,
            "max_height": null,
            "max_width": null,
            "min_height": null,
            "min_width": null,
            "object_fit": null,
            "object_position": null,
            "order": null,
            "overflow": null,
            "overflow_x": null,
            "overflow_y": null,
            "padding": null,
            "right": null,
            "top": null,
            "visibility": null,
            "width": null
          }
        },
        "ca22d9cd192947779ba73ddc167cf9b6": {
          "model_module": "@jupyter-widgets/base",
          "model_name": "LayoutModel",
          "model_module_version": "1.2.0",
          "state": {
            "_model_module": "@jupyter-widgets/base",
            "_model_module_version": "1.2.0",
            "_model_name": "LayoutModel",
            "_view_count": null,
            "_view_module": "@jupyter-widgets/base",
            "_view_module_version": "1.2.0",
            "_view_name": "LayoutView",
            "align_content": null,
            "align_items": null,
            "align_self": null,
            "border": null,
            "bottom": null,
            "display": null,
            "flex": null,
            "flex_flow": null,
            "grid_area": null,
            "grid_auto_columns": null,
            "grid_auto_flow": null,
            "grid_auto_rows": null,
            "grid_column": null,
            "grid_gap": null,
            "grid_row": null,
            "grid_template_areas": null,
            "grid_template_columns": null,
            "grid_template_rows": null,
            "height": null,
            "justify_content": null,
            "justify_items": null,
            "left": null,
            "margin": null,
            "max_height": null,
            "max_width": null,
            "min_height": null,
            "min_width": null,
            "object_fit": null,
            "object_position": null,
            "order": null,
            "overflow": null,
            "overflow_x": null,
            "overflow_y": null,
            "padding": null,
            "right": null,
            "top": null,
            "visibility": null,
            "width": null
          }
        },
        "b187210317e348a58997272e48d486e5": {
          "model_module": "@jupyter-widgets/controls",
          "model_name": "DescriptionStyleModel",
          "model_module_version": "1.5.0",
          "state": {
            "_model_module": "@jupyter-widgets/controls",
            "_model_module_version": "1.5.0",
            "_model_name": "DescriptionStyleModel",
            "_view_count": null,
            "_view_module": "@jupyter-widgets/base",
            "_view_module_version": "1.2.0",
            "_view_name": "StyleView",
            "description_width": ""
          }
        },
        "69c878ce857c46299e2d429c87830846": {
          "model_module": "@jupyter-widgets/base",
          "model_name": "LayoutModel",
          "model_module_version": "1.2.0",
          "state": {
            "_model_module": "@jupyter-widgets/base",
            "_model_module_version": "1.2.0",
            "_model_name": "LayoutModel",
            "_view_count": null,
            "_view_module": "@jupyter-widgets/base",
            "_view_module_version": "1.2.0",
            "_view_name": "LayoutView",
            "align_content": null,
            "align_items": null,
            "align_self": null,
            "border": null,
            "bottom": null,
            "display": null,
            "flex": null,
            "flex_flow": null,
            "grid_area": null,
            "grid_auto_columns": null,
            "grid_auto_flow": null,
            "grid_auto_rows": null,
            "grid_column": null,
            "grid_gap": null,
            "grid_row": null,
            "grid_template_areas": null,
            "grid_template_columns": null,
            "grid_template_rows": null,
            "height": null,
            "justify_content": null,
            "justify_items": null,
            "left": null,
            "margin": null,
            "max_height": null,
            "max_width": null,
            "min_height": null,
            "min_width": null,
            "object_fit": null,
            "object_position": null,
            "order": null,
            "overflow": null,
            "overflow_x": null,
            "overflow_y": null,
            "padding": null,
            "right": null,
            "top": null,
            "visibility": null,
            "width": null
          }
        },
        "d4115047d6ae4d41a43b6dc72217c931": {
          "model_module": "@jupyter-widgets/controls",
          "model_name": "ProgressStyleModel",
          "model_module_version": "1.5.0",
          "state": {
            "_model_module": "@jupyter-widgets/controls",
            "_model_module_version": "1.5.0",
            "_model_name": "ProgressStyleModel",
            "_view_count": null,
            "_view_module": "@jupyter-widgets/base",
            "_view_module_version": "1.2.0",
            "_view_name": "StyleView",
            "bar_color": null,
            "description_width": ""
          }
        },
        "a1f6029441ff4ab182cb6e9c36a986de": {
          "model_module": "@jupyter-widgets/base",
          "model_name": "LayoutModel",
          "model_module_version": "1.2.0",
          "state": {
            "_model_module": "@jupyter-widgets/base",
            "_model_module_version": "1.2.0",
            "_model_name": "LayoutModel",
            "_view_count": null,
            "_view_module": "@jupyter-widgets/base",
            "_view_module_version": "1.2.0",
            "_view_name": "LayoutView",
            "align_content": null,
            "align_items": null,
            "align_self": null,
            "border": null,
            "bottom": null,
            "display": null,
            "flex": null,
            "flex_flow": null,
            "grid_area": null,
            "grid_auto_columns": null,
            "grid_auto_flow": null,
            "grid_auto_rows": null,
            "grid_column": null,
            "grid_gap": null,
            "grid_row": null,
            "grid_template_areas": null,
            "grid_template_columns": null,
            "grid_template_rows": null,
            "height": null,
            "justify_content": null,
            "justify_items": null,
            "left": null,
            "margin": null,
            "max_height": null,
            "max_width": null,
            "min_height": null,
            "min_width": null,
            "object_fit": null,
            "object_position": null,
            "order": null,
            "overflow": null,
            "overflow_x": null,
            "overflow_y": null,
            "padding": null,
            "right": null,
            "top": null,
            "visibility": null,
            "width": null
          }
        },
        "e9fa825bc2494358bbb6ac8f0aea3ba3": {
          "model_module": "@jupyter-widgets/controls",
          "model_name": "DescriptionStyleModel",
          "model_module_version": "1.5.0",
          "state": {
            "_model_module": "@jupyter-widgets/controls",
            "_model_module_version": "1.5.0",
            "_model_name": "DescriptionStyleModel",
            "_view_count": null,
            "_view_module": "@jupyter-widgets/base",
            "_view_module_version": "1.2.0",
            "_view_name": "StyleView",
            "description_width": ""
          }
        },
        "0168904f3ffc46ce944e901951f2ceeb": {
          "model_module": "@jupyter-widgets/controls",
          "model_name": "HBoxModel",
          "model_module_version": "1.5.0",
          "state": {
            "_dom_classes": [],
            "_model_module": "@jupyter-widgets/controls",
            "_model_module_version": "1.5.0",
            "_model_name": "HBoxModel",
            "_view_count": null,
            "_view_module": "@jupyter-widgets/controls",
            "_view_module_version": "1.5.0",
            "_view_name": "HBoxView",
            "box_style": "",
            "children": [
              "IPY_MODEL_f1c2d15571f748bca08840ec4a30d900",
              "IPY_MODEL_4c64a52418f64a658cca1e0eacc54237",
              "IPY_MODEL_e534af0096114d6caca8533a8a3d6da2"
            ],
            "layout": "IPY_MODEL_157da08f396240aaab55fe98b9d48fb5"
          }
        },
        "f1c2d15571f748bca08840ec4a30d900": {
          "model_module": "@jupyter-widgets/controls",
          "model_name": "HTMLModel",
          "model_module_version": "1.5.0",
          "state": {
            "_dom_classes": [],
            "_model_module": "@jupyter-widgets/controls",
            "_model_module_version": "1.5.0",
            "_model_name": "HTMLModel",
            "_view_count": null,
            "_view_module": "@jupyter-widgets/controls",
            "_view_module_version": "1.5.0",
            "_view_name": "HTMLView",
            "description": "",
            "description_tooltip": null,
            "layout": "IPY_MODEL_61d6eb735c54412dbada443371c44188",
            "placeholder": "​",
            "style": "IPY_MODEL_8b1e66cfa2db45c8b9adead1bc9488b1",
            "value": "100%"
          }
        },
        "4c64a52418f64a658cca1e0eacc54237": {
          "model_module": "@jupyter-widgets/controls",
          "model_name": "FloatProgressModel",
          "model_module_version": "1.5.0",
          "state": {
            "_dom_classes": [],
            "_model_module": "@jupyter-widgets/controls",
            "_model_module_version": "1.5.0",
            "_model_name": "FloatProgressModel",
            "_view_count": null,
            "_view_module": "@jupyter-widgets/controls",
            "_view_module_version": "1.5.0",
            "_view_name": "ProgressView",
            "bar_style": "success",
            "description": "",
            "description_tooltip": null,
            "layout": "IPY_MODEL_3f2a5a4787114a64b789ff451fb807e2",
            "max": 28881,
            "min": 0,
            "orientation": "horizontal",
            "style": "IPY_MODEL_ba2616a8d3364086b980dd0bc457ad5b",
            "value": 28881
          }
        },
        "e534af0096114d6caca8533a8a3d6da2": {
          "model_module": "@jupyter-widgets/controls",
          "model_name": "HTMLModel",
          "model_module_version": "1.5.0",
          "state": {
            "_dom_classes": [],
            "_model_module": "@jupyter-widgets/controls",
            "_model_module_version": "1.5.0",
            "_model_name": "HTMLModel",
            "_view_count": null,
            "_view_module": "@jupyter-widgets/controls",
            "_view_module_version": "1.5.0",
            "_view_name": "HTMLView",
            "description": "",
            "description_tooltip": null,
            "layout": "IPY_MODEL_d9991f70985a4cf1b72f5af54d03337d",
            "placeholder": "​",
            "style": "IPY_MODEL_31a2cf28ef1944c0b25ba8a052bfaa02",
            "value": " 28881/28881 [00:00&lt;00:00, 416636.09it/s]"
          }
        },
        "157da08f396240aaab55fe98b9d48fb5": {
          "model_module": "@jupyter-widgets/base",
          "model_name": "LayoutModel",
          "model_module_version": "1.2.0",
          "state": {
            "_model_module": "@jupyter-widgets/base",
            "_model_module_version": "1.2.0",
            "_model_name": "LayoutModel",
            "_view_count": null,
            "_view_module": "@jupyter-widgets/base",
            "_view_module_version": "1.2.0",
            "_view_name": "LayoutView",
            "align_content": null,
            "align_items": null,
            "align_self": null,
            "border": null,
            "bottom": null,
            "display": null,
            "flex": null,
            "flex_flow": null,
            "grid_area": null,
            "grid_auto_columns": null,
            "grid_auto_flow": null,
            "grid_auto_rows": null,
            "grid_column": null,
            "grid_gap": null,
            "grid_row": null,
            "grid_template_areas": null,
            "grid_template_columns": null,
            "grid_template_rows": null,
            "height": null,
            "justify_content": null,
            "justify_items": null,
            "left": null,
            "margin": null,
            "max_height": null,
            "max_width": null,
            "min_height": null,
            "min_width": null,
            "object_fit": null,
            "object_position": null,
            "order": null,
            "overflow": null,
            "overflow_x": null,
            "overflow_y": null,
            "padding": null,
            "right": null,
            "top": null,
            "visibility": null,
            "width": null
          }
        },
        "61d6eb735c54412dbada443371c44188": {
          "model_module": "@jupyter-widgets/base",
          "model_name": "LayoutModel",
          "model_module_version": "1.2.0",
          "state": {
            "_model_module": "@jupyter-widgets/base",
            "_model_module_version": "1.2.0",
            "_model_name": "LayoutModel",
            "_view_count": null,
            "_view_module": "@jupyter-widgets/base",
            "_view_module_version": "1.2.0",
            "_view_name": "LayoutView",
            "align_content": null,
            "align_items": null,
            "align_self": null,
            "border": null,
            "bottom": null,
            "display": null,
            "flex": null,
            "flex_flow": null,
            "grid_area": null,
            "grid_auto_columns": null,
            "grid_auto_flow": null,
            "grid_auto_rows": null,
            "grid_column": null,
            "grid_gap": null,
            "grid_row": null,
            "grid_template_areas": null,
            "grid_template_columns": null,
            "grid_template_rows": null,
            "height": null,
            "justify_content": null,
            "justify_items": null,
            "left": null,
            "margin": null,
            "max_height": null,
            "max_width": null,
            "min_height": null,
            "min_width": null,
            "object_fit": null,
            "object_position": null,
            "order": null,
            "overflow": null,
            "overflow_x": null,
            "overflow_y": null,
            "padding": null,
            "right": null,
            "top": null,
            "visibility": null,
            "width": null
          }
        },
        "8b1e66cfa2db45c8b9adead1bc9488b1": {
          "model_module": "@jupyter-widgets/controls",
          "model_name": "DescriptionStyleModel",
          "model_module_version": "1.5.0",
          "state": {
            "_model_module": "@jupyter-widgets/controls",
            "_model_module_version": "1.5.0",
            "_model_name": "DescriptionStyleModel",
            "_view_count": null,
            "_view_module": "@jupyter-widgets/base",
            "_view_module_version": "1.2.0",
            "_view_name": "StyleView",
            "description_width": ""
          }
        },
        "3f2a5a4787114a64b789ff451fb807e2": {
          "model_module": "@jupyter-widgets/base",
          "model_name": "LayoutModel",
          "model_module_version": "1.2.0",
          "state": {
            "_model_module": "@jupyter-widgets/base",
            "_model_module_version": "1.2.0",
            "_model_name": "LayoutModel",
            "_view_count": null,
            "_view_module": "@jupyter-widgets/base",
            "_view_module_version": "1.2.0",
            "_view_name": "LayoutView",
            "align_content": null,
            "align_items": null,
            "align_self": null,
            "border": null,
            "bottom": null,
            "display": null,
            "flex": null,
            "flex_flow": null,
            "grid_area": null,
            "grid_auto_columns": null,
            "grid_auto_flow": null,
            "grid_auto_rows": null,
            "grid_column": null,
            "grid_gap": null,
            "grid_row": null,
            "grid_template_areas": null,
            "grid_template_columns": null,
            "grid_template_rows": null,
            "height": null,
            "justify_content": null,
            "justify_items": null,
            "left": null,
            "margin": null,
            "max_height": null,
            "max_width": null,
            "min_height": null,
            "min_width": null,
            "object_fit": null,
            "object_position": null,
            "order": null,
            "overflow": null,
            "overflow_x": null,
            "overflow_y": null,
            "padding": null,
            "right": null,
            "top": null,
            "visibility": null,
            "width": null
          }
        },
        "ba2616a8d3364086b980dd0bc457ad5b": {
          "model_module": "@jupyter-widgets/controls",
          "model_name": "ProgressStyleModel",
          "model_module_version": "1.5.0",
          "state": {
            "_model_module": "@jupyter-widgets/controls",
            "_model_module_version": "1.5.0",
            "_model_name": "ProgressStyleModel",
            "_view_count": null,
            "_view_module": "@jupyter-widgets/base",
            "_view_module_version": "1.2.0",
            "_view_name": "StyleView",
            "bar_color": null,
            "description_width": ""
          }
        },
        "d9991f70985a4cf1b72f5af54d03337d": {
          "model_module": "@jupyter-widgets/base",
          "model_name": "LayoutModel",
          "model_module_version": "1.2.0",
          "state": {
            "_model_module": "@jupyter-widgets/base",
            "_model_module_version": "1.2.0",
            "_model_name": "LayoutModel",
            "_view_count": null,
            "_view_module": "@jupyter-widgets/base",
            "_view_module_version": "1.2.0",
            "_view_name": "LayoutView",
            "align_content": null,
            "align_items": null,
            "align_self": null,
            "border": null,
            "bottom": null,
            "display": null,
            "flex": null,
            "flex_flow": null,
            "grid_area": null,
            "grid_auto_columns": null,
            "grid_auto_flow": null,
            "grid_auto_rows": null,
            "grid_column": null,
            "grid_gap": null,
            "grid_row": null,
            "grid_template_areas": null,
            "grid_template_columns": null,
            "grid_template_rows": null,
            "height": null,
            "justify_content": null,
            "justify_items": null,
            "left": null,
            "margin": null,
            "max_height": null,
            "max_width": null,
            "min_height": null,
            "min_width": null,
            "object_fit": null,
            "object_position": null,
            "order": null,
            "overflow": null,
            "overflow_x": null,
            "overflow_y": null,
            "padding": null,
            "right": null,
            "top": null,
            "visibility": null,
            "width": null
          }
        },
        "31a2cf28ef1944c0b25ba8a052bfaa02": {
          "model_module": "@jupyter-widgets/controls",
          "model_name": "DescriptionStyleModel",
          "model_module_version": "1.5.0",
          "state": {
            "_model_module": "@jupyter-widgets/controls",
            "_model_module_version": "1.5.0",
            "_model_name": "DescriptionStyleModel",
            "_view_count": null,
            "_view_module": "@jupyter-widgets/base",
            "_view_module_version": "1.2.0",
            "_view_name": "StyleView",
            "description_width": ""
          }
        },
        "d2df3605674d48058ccfabd716942b1b": {
          "model_module": "@jupyter-widgets/controls",
          "model_name": "HBoxModel",
          "model_module_version": "1.5.0",
          "state": {
            "_dom_classes": [],
            "_model_module": "@jupyter-widgets/controls",
            "_model_module_version": "1.5.0",
            "_model_name": "HBoxModel",
            "_view_count": null,
            "_view_module": "@jupyter-widgets/controls",
            "_view_module_version": "1.5.0",
            "_view_name": "HBoxView",
            "box_style": "",
            "children": [
              "IPY_MODEL_b14a648da2b94309b9686ce848bf6460",
              "IPY_MODEL_33f0012deceb448dab681cee303c9491",
              "IPY_MODEL_7bf89c0f61024af0ac93207f033fe067"
            ],
            "layout": "IPY_MODEL_5063023e5b4d44889197264b2379d398"
          }
        },
        "b14a648da2b94309b9686ce848bf6460": {
          "model_module": "@jupyter-widgets/controls",
          "model_name": "HTMLModel",
          "model_module_version": "1.5.0",
          "state": {
            "_dom_classes": [],
            "_model_module": "@jupyter-widgets/controls",
            "_model_module_version": "1.5.0",
            "_model_name": "HTMLModel",
            "_view_count": null,
            "_view_module": "@jupyter-widgets/controls",
            "_view_module_version": "1.5.0",
            "_view_name": "HTMLView",
            "description": "",
            "description_tooltip": null,
            "layout": "IPY_MODEL_66c6ac79dc654ce1b8f7243edc63cfc7",
            "placeholder": "​",
            "style": "IPY_MODEL_ee78d0d49b114c52b8bf11460d374546",
            "value": "100%"
          }
        },
        "33f0012deceb448dab681cee303c9491": {
          "model_module": "@jupyter-widgets/controls",
          "model_name": "FloatProgressModel",
          "model_module_version": "1.5.0",
          "state": {
            "_dom_classes": [],
            "_model_module": "@jupyter-widgets/controls",
            "_model_module_version": "1.5.0",
            "_model_name": "FloatProgressModel",
            "_view_count": null,
            "_view_module": "@jupyter-widgets/controls",
            "_view_module_version": "1.5.0",
            "_view_name": "ProgressView",
            "bar_style": "success",
            "description": "",
            "description_tooltip": null,
            "layout": "IPY_MODEL_8d37a794c6944b6989994464aed9420a",
            "max": 1648877,
            "min": 0,
            "orientation": "horizontal",
            "style": "IPY_MODEL_98a8839b2bfe405cb97823ccbef6cc6f",
            "value": 1648877
          }
        },
        "7bf89c0f61024af0ac93207f033fe067": {
          "model_module": "@jupyter-widgets/controls",
          "model_name": "HTMLModel",
          "model_module_version": "1.5.0",
          "state": {
            "_dom_classes": [],
            "_model_module": "@jupyter-widgets/controls",
            "_model_module_version": "1.5.0",
            "_model_name": "HTMLModel",
            "_view_count": null,
            "_view_module": "@jupyter-widgets/controls",
            "_view_module_version": "1.5.0",
            "_view_name": "HTMLView",
            "description": "",
            "description_tooltip": null,
            "layout": "IPY_MODEL_dfb980fe21d44a62b856355564606e6e",
            "placeholder": "​",
            "style": "IPY_MODEL_f29efdb25efb4b0c9ab21bf02cef8c92",
            "value": " 1648877/1648877 [00:00&lt;00:00, 3240208.54it/s]"
          }
        },
        "5063023e5b4d44889197264b2379d398": {
          "model_module": "@jupyter-widgets/base",
          "model_name": "LayoutModel",
          "model_module_version": "1.2.0",
          "state": {
            "_model_module": "@jupyter-widgets/base",
            "_model_module_version": "1.2.0",
            "_model_name": "LayoutModel",
            "_view_count": null,
            "_view_module": "@jupyter-widgets/base",
            "_view_module_version": "1.2.0",
            "_view_name": "LayoutView",
            "align_content": null,
            "align_items": null,
            "align_self": null,
            "border": null,
            "bottom": null,
            "display": null,
            "flex": null,
            "flex_flow": null,
            "grid_area": null,
            "grid_auto_columns": null,
            "grid_auto_flow": null,
            "grid_auto_rows": null,
            "grid_column": null,
            "grid_gap": null,
            "grid_row": null,
            "grid_template_areas": null,
            "grid_template_columns": null,
            "grid_template_rows": null,
            "height": null,
            "justify_content": null,
            "justify_items": null,
            "left": null,
            "margin": null,
            "max_height": null,
            "max_width": null,
            "min_height": null,
            "min_width": null,
            "object_fit": null,
            "object_position": null,
            "order": null,
            "overflow": null,
            "overflow_x": null,
            "overflow_y": null,
            "padding": null,
            "right": null,
            "top": null,
            "visibility": null,
            "width": null
          }
        },
        "66c6ac79dc654ce1b8f7243edc63cfc7": {
          "model_module": "@jupyter-widgets/base",
          "model_name": "LayoutModel",
          "model_module_version": "1.2.0",
          "state": {
            "_model_module": "@jupyter-widgets/base",
            "_model_module_version": "1.2.0",
            "_model_name": "LayoutModel",
            "_view_count": null,
            "_view_module": "@jupyter-widgets/base",
            "_view_module_version": "1.2.0",
            "_view_name": "LayoutView",
            "align_content": null,
            "align_items": null,
            "align_self": null,
            "border": null,
            "bottom": null,
            "display": null,
            "flex": null,
            "flex_flow": null,
            "grid_area": null,
            "grid_auto_columns": null,
            "grid_auto_flow": null,
            "grid_auto_rows": null,
            "grid_column": null,
            "grid_gap": null,
            "grid_row": null,
            "grid_template_areas": null,
            "grid_template_columns": null,
            "grid_template_rows": null,
            "height": null,
            "justify_content": null,
            "justify_items": null,
            "left": null,
            "margin": null,
            "max_height": null,
            "max_width": null,
            "min_height": null,
            "min_width": null,
            "object_fit": null,
            "object_position": null,
            "order": null,
            "overflow": null,
            "overflow_x": null,
            "overflow_y": null,
            "padding": null,
            "right": null,
            "top": null,
            "visibility": null,
            "width": null
          }
        },
        "ee78d0d49b114c52b8bf11460d374546": {
          "model_module": "@jupyter-widgets/controls",
          "model_name": "DescriptionStyleModel",
          "model_module_version": "1.5.0",
          "state": {
            "_model_module": "@jupyter-widgets/controls",
            "_model_module_version": "1.5.0",
            "_model_name": "DescriptionStyleModel",
            "_view_count": null,
            "_view_module": "@jupyter-widgets/base",
            "_view_module_version": "1.2.0",
            "_view_name": "StyleView",
            "description_width": ""
          }
        },
        "8d37a794c6944b6989994464aed9420a": {
          "model_module": "@jupyter-widgets/base",
          "model_name": "LayoutModel",
          "model_module_version": "1.2.0",
          "state": {
            "_model_module": "@jupyter-widgets/base",
            "_model_module_version": "1.2.0",
            "_model_name": "LayoutModel",
            "_view_count": null,
            "_view_module": "@jupyter-widgets/base",
            "_view_module_version": "1.2.0",
            "_view_name": "LayoutView",
            "align_content": null,
            "align_items": null,
            "align_self": null,
            "border": null,
            "bottom": null,
            "display": null,
            "flex": null,
            "flex_flow": null,
            "grid_area": null,
            "grid_auto_columns": null,
            "grid_auto_flow": null,
            "grid_auto_rows": null,
            "grid_column": null,
            "grid_gap": null,
            "grid_row": null,
            "grid_template_areas": null,
            "grid_template_columns": null,
            "grid_template_rows": null,
            "height": null,
            "justify_content": null,
            "justify_items": null,
            "left": null,
            "margin": null,
            "max_height": null,
            "max_width": null,
            "min_height": null,
            "min_width": null,
            "object_fit": null,
            "object_position": null,
            "order": null,
            "overflow": null,
            "overflow_x": null,
            "overflow_y": null,
            "padding": null,
            "right": null,
            "top": null,
            "visibility": null,
            "width": null
          }
        },
        "98a8839b2bfe405cb97823ccbef6cc6f": {
          "model_module": "@jupyter-widgets/controls",
          "model_name": "ProgressStyleModel",
          "model_module_version": "1.5.0",
          "state": {
            "_model_module": "@jupyter-widgets/controls",
            "_model_module_version": "1.5.0",
            "_model_name": "ProgressStyleModel",
            "_view_count": null,
            "_view_module": "@jupyter-widgets/base",
            "_view_module_version": "1.2.0",
            "_view_name": "StyleView",
            "bar_color": null,
            "description_width": ""
          }
        },
        "dfb980fe21d44a62b856355564606e6e": {
          "model_module": "@jupyter-widgets/base",
          "model_name": "LayoutModel",
          "model_module_version": "1.2.0",
          "state": {
            "_model_module": "@jupyter-widgets/base",
            "_model_module_version": "1.2.0",
            "_model_name": "LayoutModel",
            "_view_count": null,
            "_view_module": "@jupyter-widgets/base",
            "_view_module_version": "1.2.0",
            "_view_name": "LayoutView",
            "align_content": null,
            "align_items": null,
            "align_self": null,
            "border": null,
            "bottom": null,
            "display": null,
            "flex": null,
            "flex_flow": null,
            "grid_area": null,
            "grid_auto_columns": null,
            "grid_auto_flow": null,
            "grid_auto_rows": null,
            "grid_column": null,
            "grid_gap": null,
            "grid_row": null,
            "grid_template_areas": null,
            "grid_template_columns": null,
            "grid_template_rows": null,
            "height": null,
            "justify_content": null,
            "justify_items": null,
            "left": null,
            "margin": null,
            "max_height": null,
            "max_width": null,
            "min_height": null,
            "min_width": null,
            "object_fit": null,
            "object_position": null,
            "order": null,
            "overflow": null,
            "overflow_x": null,
            "overflow_y": null,
            "padding": null,
            "right": null,
            "top": null,
            "visibility": null,
            "width": null
          }
        },
        "f29efdb25efb4b0c9ab21bf02cef8c92": {
          "model_module": "@jupyter-widgets/controls",
          "model_name": "DescriptionStyleModel",
          "model_module_version": "1.5.0",
          "state": {
            "_model_module": "@jupyter-widgets/controls",
            "_model_module_version": "1.5.0",
            "_model_name": "DescriptionStyleModel",
            "_view_count": null,
            "_view_module": "@jupyter-widgets/base",
            "_view_module_version": "1.2.0",
            "_view_name": "StyleView",
            "description_width": ""
          }
        },
        "0c97bf4391244a40b1c1f8b7be8aa480": {
          "model_module": "@jupyter-widgets/controls",
          "model_name": "HBoxModel",
          "model_module_version": "1.5.0",
          "state": {
            "_dom_classes": [],
            "_model_module": "@jupyter-widgets/controls",
            "_model_module_version": "1.5.0",
            "_model_name": "HBoxModel",
            "_view_count": null,
            "_view_module": "@jupyter-widgets/controls",
            "_view_module_version": "1.5.0",
            "_view_name": "HBoxView",
            "box_style": "",
            "children": [
              "IPY_MODEL_4c6aa2e1925146ae83969cb7d5397e48",
              "IPY_MODEL_c945cd9b05124dfb901895e20d0e089d",
              "IPY_MODEL_d30849aba057440186a72d3ee7b475a3"
            ],
            "layout": "IPY_MODEL_6e76022063754a4e900f5aa6a0276a2e"
          }
        },
        "4c6aa2e1925146ae83969cb7d5397e48": {
          "model_module": "@jupyter-widgets/controls",
          "model_name": "HTMLModel",
          "model_module_version": "1.5.0",
          "state": {
            "_dom_classes": [],
            "_model_module": "@jupyter-widgets/controls",
            "_model_module_version": "1.5.0",
            "_model_name": "HTMLModel",
            "_view_count": null,
            "_view_module": "@jupyter-widgets/controls",
            "_view_module_version": "1.5.0",
            "_view_name": "HTMLView",
            "description": "",
            "description_tooltip": null,
            "layout": "IPY_MODEL_668cd428eecf4c5697ff669ed21e5f8a",
            "placeholder": "​",
            "style": "IPY_MODEL_12d2dac8a055449d806c971593586369",
            "value": "100%"
          }
        },
        "c945cd9b05124dfb901895e20d0e089d": {
          "model_module": "@jupyter-widgets/controls",
          "model_name": "FloatProgressModel",
          "model_module_version": "1.5.0",
          "state": {
            "_dom_classes": [],
            "_model_module": "@jupyter-widgets/controls",
            "_model_module_version": "1.5.0",
            "_model_name": "FloatProgressModel",
            "_view_count": null,
            "_view_module": "@jupyter-widgets/controls",
            "_view_module_version": "1.5.0",
            "_view_name": "ProgressView",
            "bar_style": "success",
            "description": "",
            "description_tooltip": null,
            "layout": "IPY_MODEL_a01ea345581f40e59c3e1002ee0e6180",
            "max": 4542,
            "min": 0,
            "orientation": "horizontal",
            "style": "IPY_MODEL_460cd19c1c4846478bccba0a23b88cf8",
            "value": 4542
          }
        },
        "d30849aba057440186a72d3ee7b475a3": {
          "model_module": "@jupyter-widgets/controls",
          "model_name": "HTMLModel",
          "model_module_version": "1.5.0",
          "state": {
            "_dom_classes": [],
            "_model_module": "@jupyter-widgets/controls",
            "_model_module_version": "1.5.0",
            "_model_name": "HTMLModel",
            "_view_count": null,
            "_view_module": "@jupyter-widgets/controls",
            "_view_module_version": "1.5.0",
            "_view_name": "HTMLView",
            "description": "",
            "description_tooltip": null,
            "layout": "IPY_MODEL_5b2ec3919de849729c92c3793702a101",
            "placeholder": "​",
            "style": "IPY_MODEL_014c4c09702c4f538296e7e3af0ffe4e",
            "value": " 4542/4542 [00:00&lt;00:00, 103848.16it/s]"
          }
        },
        "6e76022063754a4e900f5aa6a0276a2e": {
          "model_module": "@jupyter-widgets/base",
          "model_name": "LayoutModel",
          "model_module_version": "1.2.0",
          "state": {
            "_model_module": "@jupyter-widgets/base",
            "_model_module_version": "1.2.0",
            "_model_name": "LayoutModel",
            "_view_count": null,
            "_view_module": "@jupyter-widgets/base",
            "_view_module_version": "1.2.0",
            "_view_name": "LayoutView",
            "align_content": null,
            "align_items": null,
            "align_self": null,
            "border": null,
            "bottom": null,
            "display": null,
            "flex": null,
            "flex_flow": null,
            "grid_area": null,
            "grid_auto_columns": null,
            "grid_auto_flow": null,
            "grid_auto_rows": null,
            "grid_column": null,
            "grid_gap": null,
            "grid_row": null,
            "grid_template_areas": null,
            "grid_template_columns": null,
            "grid_template_rows": null,
            "height": null,
            "justify_content": null,
            "justify_items": null,
            "left": null,
            "margin": null,
            "max_height": null,
            "max_width": null,
            "min_height": null,
            "min_width": null,
            "object_fit": null,
            "object_position": null,
            "order": null,
            "overflow": null,
            "overflow_x": null,
            "overflow_y": null,
            "padding": null,
            "right": null,
            "top": null,
            "visibility": null,
            "width": null
          }
        },
        "668cd428eecf4c5697ff669ed21e5f8a": {
          "model_module": "@jupyter-widgets/base",
          "model_name": "LayoutModel",
          "model_module_version": "1.2.0",
          "state": {
            "_model_module": "@jupyter-widgets/base",
            "_model_module_version": "1.2.0",
            "_model_name": "LayoutModel",
            "_view_count": null,
            "_view_module": "@jupyter-widgets/base",
            "_view_module_version": "1.2.0",
            "_view_name": "LayoutView",
            "align_content": null,
            "align_items": null,
            "align_self": null,
            "border": null,
            "bottom": null,
            "display": null,
            "flex": null,
            "flex_flow": null,
            "grid_area": null,
            "grid_auto_columns": null,
            "grid_auto_flow": null,
            "grid_auto_rows": null,
            "grid_column": null,
            "grid_gap": null,
            "grid_row": null,
            "grid_template_areas": null,
            "grid_template_columns": null,
            "grid_template_rows": null,
            "height": null,
            "justify_content": null,
            "justify_items": null,
            "left": null,
            "margin": null,
            "max_height": null,
            "max_width": null,
            "min_height": null,
            "min_width": null,
            "object_fit": null,
            "object_position": null,
            "order": null,
            "overflow": null,
            "overflow_x": null,
            "overflow_y": null,
            "padding": null,
            "right": null,
            "top": null,
            "visibility": null,
            "width": null
          }
        },
        "12d2dac8a055449d806c971593586369": {
          "model_module": "@jupyter-widgets/controls",
          "model_name": "DescriptionStyleModel",
          "model_module_version": "1.5.0",
          "state": {
            "_model_module": "@jupyter-widgets/controls",
            "_model_module_version": "1.5.0",
            "_model_name": "DescriptionStyleModel",
            "_view_count": null,
            "_view_module": "@jupyter-widgets/base",
            "_view_module_version": "1.2.0",
            "_view_name": "StyleView",
            "description_width": ""
          }
        },
        "a01ea345581f40e59c3e1002ee0e6180": {
          "model_module": "@jupyter-widgets/base",
          "model_name": "LayoutModel",
          "model_module_version": "1.2.0",
          "state": {
            "_model_module": "@jupyter-widgets/base",
            "_model_module_version": "1.2.0",
            "_model_name": "LayoutModel",
            "_view_count": null,
            "_view_module": "@jupyter-widgets/base",
            "_view_module_version": "1.2.0",
            "_view_name": "LayoutView",
            "align_content": null,
            "align_items": null,
            "align_self": null,
            "border": null,
            "bottom": null,
            "display": null,
            "flex": null,
            "flex_flow": null,
            "grid_area": null,
            "grid_auto_columns": null,
            "grid_auto_flow": null,
            "grid_auto_rows": null,
            "grid_column": null,
            "grid_gap": null,
            "grid_row": null,
            "grid_template_areas": null,
            "grid_template_columns": null,
            "grid_template_rows": null,
            "height": null,
            "justify_content": null,
            "justify_items": null,
            "left": null,
            "margin": null,
            "max_height": null,
            "max_width": null,
            "min_height": null,
            "min_width": null,
            "object_fit": null,
            "object_position": null,
            "order": null,
            "overflow": null,
            "overflow_x": null,
            "overflow_y": null,
            "padding": null,
            "right": null,
            "top": null,
            "visibility": null,
            "width": null
          }
        },
        "460cd19c1c4846478bccba0a23b88cf8": {
          "model_module": "@jupyter-widgets/controls",
          "model_name": "ProgressStyleModel",
          "model_module_version": "1.5.0",
          "state": {
            "_model_module": "@jupyter-widgets/controls",
            "_model_module_version": "1.5.0",
            "_model_name": "ProgressStyleModel",
            "_view_count": null,
            "_view_module": "@jupyter-widgets/base",
            "_view_module_version": "1.2.0",
            "_view_name": "StyleView",
            "bar_color": null,
            "description_width": ""
          }
        },
        "5b2ec3919de849729c92c3793702a101": {
          "model_module": "@jupyter-widgets/base",
          "model_name": "LayoutModel",
          "model_module_version": "1.2.0",
          "state": {
            "_model_module": "@jupyter-widgets/base",
            "_model_module_version": "1.2.0",
            "_model_name": "LayoutModel",
            "_view_count": null,
            "_view_module": "@jupyter-widgets/base",
            "_view_module_version": "1.2.0",
            "_view_name": "LayoutView",
            "align_content": null,
            "align_items": null,
            "align_self": null,
            "border": null,
            "bottom": null,
            "display": null,
            "flex": null,
            "flex_flow": null,
            "grid_area": null,
            "grid_auto_columns": null,
            "grid_auto_flow": null,
            "grid_auto_rows": null,
            "grid_column": null,
            "grid_gap": null,
            "grid_row": null,
            "grid_template_areas": null,
            "grid_template_columns": null,
            "grid_template_rows": null,
            "height": null,
            "justify_content": null,
            "justify_items": null,
            "left": null,
            "margin": null,
            "max_height": null,
            "max_width": null,
            "min_height": null,
            "min_width": null,
            "object_fit": null,
            "object_position": null,
            "order": null,
            "overflow": null,
            "overflow_x": null,
            "overflow_y": null,
            "padding": null,
            "right": null,
            "top": null,
            "visibility": null,
            "width": null
          }
        },
        "014c4c09702c4f538296e7e3af0ffe4e": {
          "model_module": "@jupyter-widgets/controls",
          "model_name": "DescriptionStyleModel",
          "model_module_version": "1.5.0",
          "state": {
            "_model_module": "@jupyter-widgets/controls",
            "_model_module_version": "1.5.0",
            "_model_name": "DescriptionStyleModel",
            "_view_count": null,
            "_view_module": "@jupyter-widgets/base",
            "_view_module_version": "1.2.0",
            "_view_name": "StyleView",
            "description_width": ""
          }
        }
      }
    }
  },
  "cells": [
    {
      "cell_type": "markdown",
      "source": [
        "# About: Deep Learning '23 Assignment 1\n",
        "\n",
        "\n",
        "We will perform Image Classification task on the MNIST dataset which has 70,000 28*28 images labelled into 10 classes. \n",
        "\n",
        "**Total Marks: 60**\n",
        "\n",
        "\n",
        "**Fill these**\n",
        "\n",
        "Name: `Abhishek Garg....................`\n",
        "\n",
        "Roll Number: `.22BM6JP03...................`\n",
        "\n",
        "**Instructions:**\n",
        "\n",
        "1. We have left code cells blank for you to fill up with appropriate code. Do not add any extra code cells. Strictly follow the format and fill up the cells with the correct code. Refer to cell comments for what to fill in that cell.\n",
        "\n",
        "2. *Do not* use any training frameworks like PyTorch Lightning. This assignment will test your ability to write custom training loops.\n",
        "\n",
        "3. Save the notebook with cell outputs of all cells. The cell outputs  will be used for evaluating your submission.\n",
        "\n",
        "\n"
      ],
      "metadata": {
        "id": "FBKdMbwfvq-W"
      }
    },
    {
      "cell_type": "code",
      "source": [
        "import torch\n",
        "import torch.nn as nn\n",
        "import random\n",
        "import numpy as np\n",
        "\n",
        "from torchvision import datasets, transforms\n",
        "from torch.utils.data import random_split, DataLoader\n",
        "\n",
        "import matplotlib.pyplot as plt\n",
        "\n",
        "\n",
        "## Add any other imports here"
      ],
      "metadata": {
        "id": "b7yol97nxLq3"
      },
      "execution_count": 24,
      "outputs": []
    },
    {
      "cell_type": "code",
      "source": [
        "SEED=42\n",
        "torch.manual_seed(SEED)\n",
        "random.seed(SEED)\n",
        "np.random.seed(SEED)"
      ],
      "metadata": {
        "id": "Lv07aCHK0IhG"
      },
      "execution_count": 6,
      "outputs": []
    },
    {
      "cell_type": "markdown",
      "source": [
        "## Getting the data"
      ],
      "metadata": {
        "id": "HU_56fBhx2H4"
      }
    },
    {
      "cell_type": "code",
      "source": [
        "train_data = datasets.MNIST('data', train=True, download=True, transform=transforms.ToTensor())\n",
        "test_data = datasets.MNIST('data', train=False, download=True, transform=transforms.ToTensor())\n",
        "train, val = random_split(train_data, [50000, 10000], generator=torch.Generator().manual_seed(SEED))\n",
        "\n",
        "train_loader = DataLoader(train, batch_size=64, shuffle=True)\n",
        "val_loader = DataLoader(val, batch_size=64, shuffle=False)\n",
        "test_loader = DataLoader(test_data, batch_size=64, shuffle=False)\n",
        "\n",
        "print(len(train), len(val), len(test_data))"
      ],
      "metadata": {
        "colab": {
          "base_uri": "https://localhost:8080/",
          "height": 449,
          "referenced_widgets": [
            "526ba25883564809bbb9b567e669b602",
            "9c15a694f2be4cffbaafe7440deb3c10",
            "266b9792fb814fe5bbe23ec13123c76d",
            "960cc079ffaa48478d4bfa101600a0ff",
            "08888029ef5d40a297d225581cbc03f2",
            "ca22d9cd192947779ba73ddc167cf9b6",
            "b187210317e348a58997272e48d486e5",
            "69c878ce857c46299e2d429c87830846",
            "d4115047d6ae4d41a43b6dc72217c931",
            "a1f6029441ff4ab182cb6e9c36a986de",
            "e9fa825bc2494358bbb6ac8f0aea3ba3",
            "0168904f3ffc46ce944e901951f2ceeb",
            "f1c2d15571f748bca08840ec4a30d900",
            "4c64a52418f64a658cca1e0eacc54237",
            "e534af0096114d6caca8533a8a3d6da2",
            "157da08f396240aaab55fe98b9d48fb5",
            "61d6eb735c54412dbada443371c44188",
            "8b1e66cfa2db45c8b9adead1bc9488b1",
            "3f2a5a4787114a64b789ff451fb807e2",
            "ba2616a8d3364086b980dd0bc457ad5b",
            "d9991f70985a4cf1b72f5af54d03337d",
            "31a2cf28ef1944c0b25ba8a052bfaa02",
            "d2df3605674d48058ccfabd716942b1b",
            "b14a648da2b94309b9686ce848bf6460",
            "33f0012deceb448dab681cee303c9491",
            "7bf89c0f61024af0ac93207f033fe067",
            "5063023e5b4d44889197264b2379d398",
            "66c6ac79dc654ce1b8f7243edc63cfc7",
            "ee78d0d49b114c52b8bf11460d374546",
            "8d37a794c6944b6989994464aed9420a",
            "98a8839b2bfe405cb97823ccbef6cc6f",
            "dfb980fe21d44a62b856355564606e6e",
            "f29efdb25efb4b0c9ab21bf02cef8c92",
            "0c97bf4391244a40b1c1f8b7be8aa480",
            "4c6aa2e1925146ae83969cb7d5397e48",
            "c945cd9b05124dfb901895e20d0e089d",
            "d30849aba057440186a72d3ee7b475a3",
            "6e76022063754a4e900f5aa6a0276a2e",
            "668cd428eecf4c5697ff669ed21e5f8a",
            "12d2dac8a055449d806c971593586369",
            "a01ea345581f40e59c3e1002ee0e6180",
            "460cd19c1c4846478bccba0a23b88cf8",
            "5b2ec3919de849729c92c3793702a101",
            "014c4c09702c4f538296e7e3af0ffe4e"
          ]
        },
        "id": "CfV1pXYtyAfW",
        "outputId": "e4660000-98ac-4fc3-8412-c348db45ab67"
      },
      "execution_count": 3,
      "outputs": [
        {
          "output_type": "stream",
          "name": "stdout",
          "text": [
            "Downloading http://yann.lecun.com/exdb/mnist/train-images-idx3-ubyte.gz\n",
            "Downloading http://yann.lecun.com/exdb/mnist/train-images-idx3-ubyte.gz to data/MNIST/raw/train-images-idx3-ubyte.gz\n"
          ]
        },
        {
          "output_type": "display_data",
          "data": {
            "text/plain": [
              "  0%|          | 0/9912422 [00:00<?, ?it/s]"
            ],
            "application/vnd.jupyter.widget-view+json": {
              "version_major": 2,
              "version_minor": 0,
              "model_id": "526ba25883564809bbb9b567e669b602"
            }
          },
          "metadata": {}
        },
        {
          "output_type": "stream",
          "name": "stdout",
          "text": [
            "Extracting data/MNIST/raw/train-images-idx3-ubyte.gz to data/MNIST/raw\n",
            "\n",
            "Downloading http://yann.lecun.com/exdb/mnist/train-labels-idx1-ubyte.gz\n",
            "Downloading http://yann.lecun.com/exdb/mnist/train-labels-idx1-ubyte.gz to data/MNIST/raw/train-labels-idx1-ubyte.gz\n"
          ]
        },
        {
          "output_type": "display_data",
          "data": {
            "text/plain": [
              "  0%|          | 0/28881 [00:00<?, ?it/s]"
            ],
            "application/vnd.jupyter.widget-view+json": {
              "version_major": 2,
              "version_minor": 0,
              "model_id": "0168904f3ffc46ce944e901951f2ceeb"
            }
          },
          "metadata": {}
        },
        {
          "output_type": "stream",
          "name": "stdout",
          "text": [
            "Extracting data/MNIST/raw/train-labels-idx1-ubyte.gz to data/MNIST/raw\n",
            "\n",
            "Downloading http://yann.lecun.com/exdb/mnist/t10k-images-idx3-ubyte.gz\n",
            "Downloading http://yann.lecun.com/exdb/mnist/t10k-images-idx3-ubyte.gz to data/MNIST/raw/t10k-images-idx3-ubyte.gz\n"
          ]
        },
        {
          "output_type": "display_data",
          "data": {
            "text/plain": [
              "  0%|          | 0/1648877 [00:00<?, ?it/s]"
            ],
            "application/vnd.jupyter.widget-view+json": {
              "version_major": 2,
              "version_minor": 0,
              "model_id": "d2df3605674d48058ccfabd716942b1b"
            }
          },
          "metadata": {}
        },
        {
          "output_type": "stream",
          "name": "stdout",
          "text": [
            "Extracting data/MNIST/raw/t10k-images-idx3-ubyte.gz to data/MNIST/raw\n",
            "\n",
            "Downloading http://yann.lecun.com/exdb/mnist/t10k-labels-idx1-ubyte.gz\n",
            "Downloading http://yann.lecun.com/exdb/mnist/t10k-labels-idx1-ubyte.gz to data/MNIST/raw/t10k-labels-idx1-ubyte.gz\n"
          ]
        },
        {
          "output_type": "display_data",
          "data": {
            "text/plain": [
              "  0%|          | 0/4542 [00:00<?, ?it/s]"
            ],
            "application/vnd.jupyter.widget-view+json": {
              "version_major": 2,
              "version_minor": 0,
              "model_id": "0c97bf4391244a40b1c1f8b7be8aa480"
            }
          },
          "metadata": {}
        },
        {
          "output_type": "stream",
          "name": "stdout",
          "text": [
            "Extracting data/MNIST/raw/t10k-labels-idx1-ubyte.gz to data/MNIST/raw\n",
            "\n",
            "50000 10000 10000\n"
          ]
        }
      ]
    },
    {
      "cell_type": "markdown",
      "source": [
        "## Defining the Model [18 marks]\n",
        "\n",
        "You will define 3 models, with 2, 3, 4 hidden layers respectively. Lets call these models A, B, C. We will be studying the comparitive performance of these 3 models on this task.\n",
        "\n",
        "Use ReLU as the activation function for all three models. Later we will experiment with other activation functions as well."
      ],
      "metadata": {
        "id": "4xqWpnwu0mzj"
      }
    },
    {
      "cell_type": "markdown",
      "source": [
        "### Model A\n",
        "\n",
        "Architecture:\n",
        "\n",
        "1. Input Layer \n",
        "2. Hidden Layer (Dimension Size - 64)\n",
        "3. Activation Function\n",
        "4. Hidden Layer (Dimension Size - 128)\n",
        "5. Activation Function\n",
        "6. Output Layer (Dimension Size = Number of Classes = 10)"
      ],
      "metadata": {
        "id": "30J_OmCoMm4S"
      }
    },
    {
      "cell_type": "code",
      "source": [
        "# Model A Definition \n",
        "\n",
        "class netrelu(nn.Module):\n",
        "  def __init__(self):\n",
        "    super(netrelu,self).__init__()\n",
        "    self.linear1 = nn.Linear(28*28,64)\n",
        "    self.linear2 = nn.Linear(64,128)\n",
        "    self.linear3 = nn.Linear(128,10)\n",
        "\n",
        "# Prediction\n",
        "  def forward(self, x):\n",
        "    x = x.view(-1, 28 * 28)\n",
        "    x = torch.relu(self.linear1(x))  \n",
        "    x = torch.relu(self.linear2(x))\n",
        "    x = self.linear3(x)\n",
        "    return x\n",
        "\n",
        "# Fill in appropriately while maintaining the name of the variable\n",
        "modelA = netrelu()"
      ],
      "metadata": {
        "id": "WPGlwx0502pe"
      },
      "execution_count": 8,
      "outputs": []
    },
    {
      "cell_type": "markdown",
      "source": [
        "### Model B\n",
        "\n",
        "\n",
        "Architecture:\n",
        "\n",
        "1. Input Layer \n",
        "2. Hidden Layer (Dimension Size - 64)\n",
        "3. Activation Function\n",
        "4. Hidden Layer (Dimension Size - 128)\n",
        "5. Activation Function\n",
        "6. Hidden Layer (Dimension Size - 256)\n",
        "7. Activation Function\n",
        "8. Output Layer (Dimension Size = Number of Classes = 10)"
      ],
      "metadata": {
        "id": "0K0nfqCvMqA9"
      }
    },
    {
      "cell_type": "code",
      "source": [
        "# Model B Definiton\n",
        "\n",
        "class netrelu2(nn.Module):\n",
        "  def __init__(self):\n",
        "    super(netrelu2,self).__init__()\n",
        "    self.linear1 = nn.Linear(28*28,64)\n",
        "    self.linear2 = nn.Linear(64,128)\n",
        "    self.linear3 = nn.Linear(128,256)\n",
        "    self.linear4 = nn.Linear(256,10)\n",
        "\n",
        "# Prediction\n",
        "  def forward(self, x):\n",
        "    x = x.view(-1, 28 * 28)\n",
        "    x = torch.relu(self.linear1(x))  \n",
        "    x = torch.relu(self.linear2(x))\n",
        "    x = torch.relu(self.linear3(x))\n",
        "    x = self.linear4(x)\n",
        "    return x\n",
        "# Use the same variable name\n",
        "modelB = netrelu2()"
      ],
      "metadata": {
        "id": "AD5W0AJ908tI"
      },
      "execution_count": 9,
      "outputs": []
    },
    {
      "cell_type": "markdown",
      "source": [
        "### Model C\n",
        "\n",
        "\n",
        "Architecture\n",
        "\n",
        "1. Input Layer \n",
        "2. Hidden Layer (Dimension Size - 64)\n",
        "3. Activation Function\n",
        "4. Hidden Layer (Dimension Size - 128)\n",
        "5. Activation Function\n",
        "6. Hidden Layer (Dimension Size - 256)\n",
        "7. Activation Function\n",
        "8. Hidden Layer (Dimension Size - 512)\n",
        "9. Activation Function\n",
        "10. Output Layer (Dimension Size = Number of Classes = 10)"
      ],
      "metadata": {
        "id": "TPDoGu9mMr_x"
      }
    },
    {
      "cell_type": "code",
      "source": [
        "# Model C Definition\n",
        "\n",
        "class netrelu3(nn.Module):\n",
        "  def __init__(self):\n",
        "    super(netrelu3,self).__init__()\n",
        "    self.linear1 = nn.Linear(28*28,64)\n",
        "    self.linear2 = nn.Linear(64,128)\n",
        "    self.linear3 = nn.Linear(128,256)\n",
        "    self.linear4 = nn.Linear(256,512)\n",
        "    self.linear5 = nn.Linear(512,10)\n",
        "\n",
        "# Prediction\n",
        "  def forward(self, x):\n",
        "    x = x.view(-1, 28 * 28)\n",
        "    x = torch.relu(self.linear1(x))  \n",
        "    x = torch.relu(self.linear2(x))\n",
        "    x = torch.relu(self.linear3(x))\n",
        "    x = torch.relu(self.linear4(x))\n",
        "    x = self.linear5(x)\n",
        "    return x\n",
        "\n",
        "# Use the same variable name\n",
        "modelC = netrelu3()"
      ],
      "metadata": {
        "id": "FAaOMMjY1Jna"
      },
      "execution_count": 11,
      "outputs": []
    },
    {
      "cell_type": "markdown",
      "source": [
        "## Loss Function & Optimizer [2 marks]\n",
        "\n",
        "* Loss Function: Cross Entropy Loss\n",
        "* Optimizer : Adam\n",
        "\n",
        "Use PyTorch Library versions for these two."
      ],
      "metadata": {
        "id": "EFfgQVEz1Oqx"
      }
    },
    {
      "cell_type": "code",
      "source": [
        "# Use the same variable names\n",
        "\n",
        "criterion = nn.CrossEntropyLoss()\n",
        "model = netrelu()\n",
        "optimizer = torch.optim.Adam(model.parameters(), lr=learning_rate)"
      ],
      "metadata": {
        "id": "-z7ogUqL1WMV"
      },
      "execution_count": 21,
      "outputs": []
    },
    {
      "cell_type": "markdown",
      "source": [
        "## Training Loop [30 marks]\n",
        "\n",
        "We give you the freedom to choose Hyperparameters like learing rate, number of epochs etc, but take care to use the **same** hyperparameters for all the 3 models. Also clearly state the hyperparameters you have chosen\n",
        "\n",
        "For each model, You need to report these metrics: Train Loss, Val Loss, Train Accuracy, Val Accuracy at the end of each epoch.\n",
        "\n",
        "Also plot the graphs of the following (in separate cells)\n",
        "1. Train Loss & Val Loss V/s Epoch\n",
        "2. Train Accuracy & Val Accuracy V/s Epoch"
      ],
      "metadata": {
        "id": "OLnwW-h31oJa"
      }
    },
    {
      "cell_type": "code",
      "source": [
        "# Define the hyperparameters (same for all 3 models) here\n",
        "learning_rate =0.5\n",
        "num_epochs = 10\n"
      ],
      "metadata": {
        "id": "3ZVpEI-N8L5X"
      },
      "execution_count": 20,
      "outputs": []
    },
    {
      "cell_type": "markdown",
      "source": [
        "### Model A \n",
        "\n"
      ],
      "metadata": {
        "id": "UMdreKgU24od"
      }
    },
    {
      "cell_type": "code",
      "source": [
        "# Training Loop for model A\n",
        "\n",
        "iteration_train_losses = []\n",
        "iteration_valid_losses = []\n",
        "\n",
        "# Losses per epoch\n",
        "epoch_losses_train = []\n",
        "epoch_losses_valid = []\n",
        "\n",
        "for epoch in range(num_epochs):\n",
        "    runningLoss = 0\n",
        "    for i, (inputs, labels) in enumerate(train_loader):\n",
        "        # Clear gradients w.r.t. parameters\n",
        "        optimizer.zero_grad()\n",
        "\n",
        "        # Forward pass to get output/logits)\n",
        "        outputs = model(inputs)\n",
        "\n",
        "        # Calculate Loss: binary cross entropy loss\n",
        "        loss = criterion(outputs, labels)\n",
        "\n",
        "        # Getting gradients w.r.t. parameters\n",
        "        loss.backward()\n",
        "\n",
        "        runningLoss += loss.item()\n",
        "\n",
        "        iteration_train_losses.append(loss.item())\n",
        "\n",
        "        # Updating parameters\n",
        "        optimizer.step()\n",
        "\n",
        "  \n",
        "    epoch_losses_train.append(runningLoss / len(train_loader))\n",
        "\n",
        "    # Validation Loss after every epoch\n",
        "    runningLossValid = 0\n",
        "    with torch.no_grad():\n",
        "      for i, (inputs, labels) in enumerate(val_loader):\n",
        "          outputs = model(inputs)\n",
        "          loss = criterion(outputs, labels)\n",
        "          runningLossValid += loss.item()\n",
        "          iteration_valid_losses.append(loss.item())\n",
        "      epoch_losses_valid.append(runningLossValid / len(val_loader))\n",
        "      \n",
        "    print(f\"Epoch {epoch:3}. Training Loss: {epoch_losses_train[-1]:.6f},  Validation Loss: {epoch_losses_valid[-1]:.6f}\")\n",
        "\n"
      ],
      "metadata": {
        "id": "iyJ75sLw2Z5n",
        "colab": {
          "base_uri": "https://localhost:8080/"
        },
        "outputId": "7bc9022e-bd4b-41cd-a37b-fc3ad863b1d6"
      },
      "execution_count": 22,
      "outputs": [
        {
          "output_type": "stream",
          "name": "stdout",
          "text": [
            "Epoch   0. Training Loss: 8.532523,  Validation Loss: 2.338137\n",
            "Epoch   1. Training Loss: 2.339395,  Validation Loss: 2.342028\n",
            "Epoch   2. Training Loss: 2.341969,  Validation Loss: 2.331751\n",
            "Epoch   3. Training Loss: 2.343045,  Validation Loss: 2.350224\n",
            "Epoch   4. Training Loss: 2.337938,  Validation Loss: 2.319258\n",
            "Epoch   5. Training Loss: 2.342104,  Validation Loss: 2.333342\n",
            "Epoch   6. Training Loss: 2.341497,  Validation Loss: 2.348332\n",
            "Epoch   7. Training Loss: 2.343965,  Validation Loss: 2.369963\n",
            "Epoch   8. Training Loss: 2.338446,  Validation Loss: 2.331605\n",
            "Epoch   9. Training Loss: 2.340529,  Validation Loss: 2.371265\n"
          ]
        }
      ]
    },
    {
      "cell_type": "code",
      "source": [
        "# Plot Graph of Train & Val Loss vs Epoch (together in same plot) for model A\n",
        "plt.rcParams[\"figure.figsize\"] = (20,8)\n",
        "\n",
        "plt.plot(epoch_losses_train)\n",
        "plt.plot(epoch_losses_valid)\n",
        "plt.xlabel('Epoch #')\n",
        "plt.ylabel('Losses')\n",
        "plt.legend(['Train','Valid'])\n",
        "plt.title('Train vs Valid Losses')\n",
        "plt.show()"
      ],
      "metadata": {
        "id": "Gk8Atveg2nPj",
        "colab": {
          "base_uri": "https://localhost:8080/",
          "height": 513
        },
        "outputId": "b4cb74b6-4a04-44c4-bdc0-b6a684d34fbd"
      },
      "execution_count": 25,
      "outputs": [
        {
          "output_type": "display_data",
          "data": {
            "text/plain": [
              "<Figure size 1440x576 with 1 Axes>"
            ],
            "image/png": "[encoded data removed]"
          },
          "metadata": {
            "needs_background": "light"
          }
        }
      ]
    },
    {
      "cell_type": "code",
      "source": [
        "# Plot Graph of Train & Val Accuracy vs Epoch (together in same plot) for model A"
      ],
      "metadata": {
        "id": "VGTWAn_22n0m"
      },
      "execution_count": null,
      "outputs": []
    },
    {
      "cell_type": "markdown",
      "source": [
        "### Model B\n"
      ],
      "metadata": {
        "id": "X-kUp7pk28n-"
      }
    },
    {
      "cell_type": "code",
      "source": [
        "# Training Loop for model B"
      ],
      "metadata": {
        "id": "jCmX8PqE22XP"
      },
      "execution_count": null,
      "outputs": []
    },
    {
      "cell_type": "code",
      "source": [
        "# Plot Graph of Train & Val Loss vs Epoch (together in same plot) for model B"
      ],
      "metadata": {
        "id": "9pfLjJrI22XQ"
      },
      "execution_count": null,
      "outputs": []
    },
    {
      "cell_type": "code",
      "source": [
        "# Plot Graph of Train & Val Accuracy vs Epoch (together in same plot) for model B"
      ],
      "metadata": {
        "id": "KOy6REpK22XQ"
      },
      "execution_count": null,
      "outputs": []
    },
    {
      "cell_type": "markdown",
      "source": [
        "### Model C\n"
      ],
      "metadata": {
        "id": "4JslKXgq3AUT"
      }
    },
    {
      "cell_type": "code",
      "source": [
        "# Training Loop for model C"
      ],
      "metadata": {
        "id": "2m3w2F5J22mq"
      },
      "execution_count": null,
      "outputs": []
    },
    {
      "cell_type": "code",
      "source": [
        "# Plot Graph of Train & Val Loss vs Epoch (together in same plot) for model C"
      ],
      "metadata": {
        "id": "eN5XtgCl22mq"
      },
      "execution_count": null,
      "outputs": []
    },
    {
      "cell_type": "code",
      "source": [
        "# Plot Graph of Train & Val Accuracy vs Epoch (together in same plot) for model C"
      ],
      "metadata": {
        "id": "xwOen7-V22mr"
      },
      "execution_count": null,
      "outputs": []
    },
    {
      "cell_type": "markdown",
      "source": [
        "## Choosing a Activation Function [10 marks]\n",
        "\n",
        "Based on the best performing model you found above, define 2 more models with these 2 activation functions (1 activation function is used throughout the model definiation). Use these Activation funcitons \n",
        "\n",
        "\n",
        "*   Tanh\n",
        "*   LeakyRELU"
      ],
      "metadata": {
        "id": "AZuT5E_r3LbK"
      }
    },
    {
      "cell_type": "code",
      "source": [
        "# Leaky ReLU model definiton\n",
        "\n",
        "# Tanh model definition\n",
        "\n",
        "\n",
        "# Maintain these variable names\n",
        "model_lrelu = ...\n",
        "model_tanh = ..."
      ],
      "metadata": {
        "id": "uhAK1dvg3vkf"
      },
      "execution_count": null,
      "outputs": []
    },
    {
      "cell_type": "markdown",
      "source": [
        "### Training \n",
        "\n",
        "Train these two models with the same hyperparameters. Train in separate cells given below, and report the same metrics descrived previously (train_loss, val_loss, train_acc, val_acc)"
      ],
      "metadata": {
        "id": "3P1fzs0P4Anx"
      }
    },
    {
      "cell_type": "code",
      "source": [
        "# Training Loop for LRELU"
      ],
      "metadata": {
        "id": "-OAT_Rx64T0a"
      },
      "execution_count": null,
      "outputs": []
    },
    {
      "cell_type": "code",
      "source": [
        "# Training Loop for TanH"
      ],
      "metadata": {
        "id": "QuobAEP44Wrz"
      },
      "execution_count": null,
      "outputs": []
    },
    {
      "cell_type": "markdown",
      "source": [
        "### Results on Test Set\n",
        "\n",
        "Report the Test Set classfication accuracy for the three activation functions (ReLU, LeakyReLU & TanH) and state which activation function gave the best performance on test set"
      ],
      "metadata": {
        "id": "WjH0LdKA4tYW"
      }
    },
    {
      "cell_type": "code",
      "source": [
        "# Define how to calculate Accuracy on Test Set"
      ],
      "metadata": {
        "id": "gFeLvSrN4vT_"
      },
      "execution_count": null,
      "outputs": []
    },
    {
      "cell_type": "code",
      "source": [
        "# Accuracy of RELU model"
      ],
      "metadata": {
        "id": "q8dhJf4W7cKu"
      },
      "execution_count": null,
      "outputs": []
    },
    {
      "cell_type": "code",
      "source": [
        "# Accuracy of TanH model"
      ],
      "metadata": {
        "id": "Uouc_R9t7cV3"
      },
      "execution_count": null,
      "outputs": []
    },
    {
      "cell_type": "code",
      "source": [
        "# Accuracy of LeakyReLU model"
      ],
      "metadata": {
        "id": "tjLBwh577chM"
      },
      "execution_count": null,
      "outputs": []
    },
    {
      "cell_type": "markdown",
      "source": [
        "Fill in these with the values you obtained from training.\n",
        "\n",
        "* ReLU model Test Set Accuracy: `....` %\n",
        "* TanH model Test Set Accuracy: `....` %\n",
        "* LeakReLU model Test Set Accuracy: `....` %"
      ],
      "metadata": {
        "id": "5xelRHJV7Lmj"
      }
    }
  ]
}