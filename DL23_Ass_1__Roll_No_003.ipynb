{
  "nbformat": 4,
  "nbformat_minor": 0,
  "metadata": {
    "colab": {
      "provenance": []
    },
    "kernelspec": {
      "name": "python3",
      "display_name": "Python 3"
    },
    "language_info": {
      "name": "python"
    }
  },
  "cells": [
    {
      "cell_type": "markdown",
      "source": [
        "# About: Deep Learning '23 Assignment 1\n",
        "\n",
        "\n",
        "We will perform Image Classification task on the MNIST dataset which has 70,000 28*28 images labelled into 10 classes. \n",
        "\n",
        "**Total Marks: 60**\n",
        "\n",
        "\n",
        "**Fill these**\n",
        "\n",
        "Name: Abhishek Garg\n",
        "\n",
        "Roll Number: 22BM6JP03\n",
        "\n",
        "**Instructions:**\n",
        "\n",
        "1. We have left code cells blank for you to fill up with appropriate code. Do not add any extra code cells. Strictly follow the format and fill up the cells with the correct code. Refer to cell comments for what to fill in that cell.\n",
        "\n",
        "2. *Do not* use any training frameworks like PyTorch Lightning. This assignment will test your ability to write custom training loops.\n",
        "\n",
        "3. Save the notebook with cell outputs of all cells. The cell outputs  will be used for evaluating your submission.\n",
        "\n",
        "\n"
      ],
      "metadata": {
        "id": "FBKdMbwfvq-W"
      }
    },
    {
      "cell_type": "code",
      "source": [
        "import torch\n",
        "import torch.nn as nn\n",
        "import random\n",
        "import numpy as np\n",
        "import torch.nn.functional as F\n",
        "import matplotlib.pyplot as plt\n",
        "\n",
        "from torchvision import datasets, transforms\n",
        "from torch.utils.data import random_split, DataLoader\n",
        "\n",
        "\n",
        "## Add any other imports here"
      ],
      "metadata": {
        "id": "b7yol97nxLq3"
      },
      "execution_count": 148,
      "outputs": []
    },
    {
      "cell_type": "code",
      "source": [
        "SEED=42\n",
        "torch.manual_seed(SEED)\n",
        "random.seed(SEED)\n",
        "np.random.seed(SEED)"
      ],
      "metadata": {
        "id": "Lv07aCHK0IhG"
      },
      "execution_count": 149,
      "outputs": []
    },
    {
      "cell_type": "markdown",
      "source": [
        "## Getting the data"
      ],
      "metadata": {
        "id": "HU_56fBhx2H4"
      }
    },
    {
      "cell_type": "code",
      "source": [
        "train_data = datasets.MNIST('data', train=True, download=True, transform=transforms.ToTensor())\n",
        "test_data = datasets.MNIST('data', train=False, download=True, transform=transforms.ToTensor())\n",
        "train, val = random_split(train_data, [50000, 10000], generator=torch.Generator().manual_seed(SEED))\n",
        "\n",
        "train_loader = DataLoader(train, batch_size=64, shuffle=True)\n",
        "val_loader = DataLoader(val, batch_size=64, shuffle=False)\n",
        "test_loader = DataLoader(test_data, batch_size=64, shuffle=False)\n",
        "\n",
        "train_len = len(train)\n",
        "val_len= len(val)\n",
        "test_len =len(test_data)\n",
        "print(len(train), len(val), len(test_data))"
      ],
      "metadata": {
        "colab": {
          "base_uri": "https://localhost:8080/"
        },
        "id": "CfV1pXYtyAfW",
        "outputId": "acee511c-8fb7-4577-ebb0-2e8a11304ad3"
      },
      "execution_count": 150,
      "outputs": [
        {
          "output_type": "stream",
          "name": "stdout",
          "text": [
            "50000 10000 10000\n"
          ]
        }
      ]
    },
    {
      "cell_type": "markdown",
      "source": [
        "## Defining the Model [18 marks]\n",
        "\n",
        "You will define 3 models, with 2, 3, 4 hidden layers respectively. Lets call these models A, B, C. We will be studying the comparitive performance of these 3 models on this task.\n",
        "\n",
        "Use ReLU as the activation function for all three models. Later we will experiment with other activation functions as well."
      ],
      "metadata": {
        "id": "4xqWpnwu0mzj"
      }
    },
    {
      "cell_type": "markdown",
      "source": [
        "### Model A\n",
        "\n",
        "Architecture:\n",
        "\n",
        "1. Input Layer \n",
        "2. Hidden Layer (Dimension Size - 64)\n",
        "3. Activation Function\n",
        "4. Hidden Layer (Dimension Size - 128)\n",
        "5. Activation Function\n",
        "6. Output Layer (Dimension Size = Number of Classes = 10)"
      ],
      "metadata": {
        "id": "30J_OmCoMm4S"
      }
    },
    {
      "cell_type": "code",
      "source": [
        "# Model A Definition \n",
        "class NetRelu(nn.Module):\n",
        "    \n",
        "    # Constructor\n",
        "    def __init__(self, data_input, H1_output, H2_output, Data_out):\n",
        "        super(NetRelu, self).__init__()\n",
        "        self.linear1 = nn.Linear(data_input, H1_output)\n",
        "        self.linear2 = nn.Linear(H1_output, H2_output)\n",
        "        self.linear3 = nn.Linear(H2_output, Data_out)\n",
        "    \n",
        "    # Prediction\n",
        "    def forward(self, x):\n",
        "        x = torch.relu(self.linear1(x))  \n",
        "        x = torch.relu(self.linear2(x))\n",
        "        x = self.linear3(x)\n",
        "        #x= torch.sigmoid(x)\n",
        "        return x\n",
        "\n",
        "\n",
        "# Fill in appropriately while maintaining the name of the variable\n",
        "data_input= 28*28\n",
        "H1_output= 64\n",
        "H2_output=128\n",
        "Data_out= 10"
      ],
      "metadata": {
        "id": "WPGlwx0502pe"
      },
      "execution_count": 57,
      "outputs": []
    },
    {
      "cell_type": "markdown",
      "source": [
        "### Model B\n",
        "\n",
        "\n",
        "Architecture:\n",
        "\n",
        "1. Input Layer \n",
        "2. Hidden Layer (Dimension Size - 64)\n",
        "3. Activation Function\n",
        "4. Hidden Layer (Dimension Size - 128)\n",
        "5. Activation Function\n",
        "6. Hidden Layer (Dimension Size - 256)\n",
        "7. Activation Function\n",
        "8. Output Layer (Dimension Size = Number of Classes = 10)"
      ],
      "metadata": {
        "id": "0K0nfqCvMqA9"
      }
    },
    {
      "cell_type": "code",
      "source": [
        "# Model B Definiton\n",
        "\n",
        "class NetRelu(nn.Module):\n",
        "  \n",
        "  # Constructor\n",
        "  def __init__(self, data_input, H1_output, H2_output, H3_output, Data_out):\n",
        "      super(NetRelu, self).__init__()\n",
        "      self.linear1 = nn.Linear(data_input, H1_output)\n",
        "      self.linear2 = nn.Linear(H1_output, H2_output)\n",
        "      self.linear3 = nn.Linear(H2_output, H3_output)\n",
        "      self.linear4 = nn.Linear(H3_output, Data_out)\n",
        "  \n",
        "  # Prediction\n",
        "  def forward(self, x):\n",
        "      x = torch.relu(self.linear1(x))  \n",
        "      x = torch.relu(self.linear2(x))\n",
        "      x = torch.relu(self.linear3(x))\n",
        "      x = self.linear4(x)\n",
        "      #x= torch.sigmoid(x)\n",
        "      return x\n",
        "\n",
        "# Use the same variable name\n",
        "data_input= 28*28\n",
        "H1_output= 64\n",
        "H2_output=128\n",
        "H3_output= 256\n",
        "Data_out= 10\n",
        "#modelB = NetRelu(28*28,64,128,256,10)"
      ],
      "metadata": {
        "id": "AD5W0AJ908tI"
      },
      "execution_count": 63,
      "outputs": []
    },
    {
      "cell_type": "markdown",
      "source": [
        "### Model C\n",
        "\n",
        "\n",
        "Architecture\n",
        "\n",
        "1. Input Layer \n",
        "2. Hidden Layer (Dimension Size - 64)\n",
        "3. Activation Function\n",
        "4. Hidden Layer (Dimension Size - 128)\n",
        "5. Activation Function\n",
        "6. Hidden Layer (Dimension Size - 256)\n",
        "7. Activation Function\n",
        "8. Hidden Layer (Dimension Size - 512)\n",
        "9. Activation Function\n",
        "10. Output Layer (Dimension Size = Number of Classes = 10)"
      ],
      "metadata": {
        "id": "TPDoGu9mMr_x"
      }
    },
    {
      "cell_type": "code",
      "source": [
        "# Model C Definition\n",
        "class NetRelu(nn.Module):\n",
        "    \n",
        "    # Constructor\n",
        "    def __init__(self, data_input, H1_output, H2_output, H3_output,H4_output, Data_out):\n",
        "        super(NetRelu, self).__init__()\n",
        "        self.linear1 = nn.Linear(data_input, H1_output)\n",
        "        self.linear2 = nn.Linear(H1_output, H2_output)\n",
        "        self.linear3 = nn.Linear(H2_output, H3_output)\n",
        "        self.linear4 = nn.Linear(H3_output, H4_output)\n",
        "        self.linear5 = nn.Linear(H4_output, Data_out)\n",
        "    \n",
        "    # Prediction\n",
        "    def forward(self, x):\n",
        "        x = torch.relu(self.linear1(x))  \n",
        "        x = torch.relu(self.linear2(x))\n",
        "        x = torch.relu(self.linear3(x))\n",
        "        x = torch.relu(self.linear4(x))\n",
        "        x = self.linear5(x)\n",
        "        #x= torch.sigmoid(x)\n",
        "        return x\n",
        "\n",
        "# Use the same variable name\n",
        "data_input= 28*28\n",
        "H1_output= 64\n",
        "H2_output=128\n",
        "H3_output= 256\n",
        "H4_output= 512\n",
        "Data_out= 10\n",
        "#modelC = NetRelu(28*28,64,128,256,512,10)"
      ],
      "metadata": {
        "id": "FAaOMMjY1Jna"
      },
      "execution_count": 69,
      "outputs": []
    },
    {
      "cell_type": "markdown",
      "source": [
        "## Loss Function & Optimizer [2 marks]\n",
        "\n",
        "* Loss Function: Cross Entropy Loss\n",
        "* Optimizer : Adam\n",
        "\n",
        "Use PyTorch Library versions for these two."
      ],
      "metadata": {
        "id": "EFfgQVEz1Oqx"
      }
    },
    {
      "cell_type": "code",
      "source": [
        "# Use the same variable names\n",
        "criterion = nn.CrossEntropyLoss()\n",
        "learning_rate = 0.05\n",
        "optimizer = torch.optim.Adam(modelA.parameters(), lr=learning_rate)"
      ],
      "metadata": {
        "id": "-z7ogUqL1WMV"
      },
      "execution_count": 105,
      "outputs": []
    },
    {
      "cell_type": "markdown",
      "source": [
        "## Training Loop [30 marks]\n",
        "\n",
        "We give you the freedom to choose Hyperparameters like learing rate, number of epochs etc, but take care to use the **same** hyperparameters for all the 3 models. Also clearly state the hyperparameters you have chosen\n",
        "\n",
        "For each model, You need to report these metrics: Train Loss, Val Loss, Train Accuracy, Val Accuracy at the end of each epoch.\n",
        "\n",
        "Also plot the graphs of the following (in separate cells)\n",
        "1. Train Loss & Val Loss V/s Epoch\n",
        "2. Train Accuracy & Val Accuracy V/s Epoch"
      ],
      "metadata": {
        "id": "OLnwW-h31oJa"
      }
    },
    {
      "cell_type": "code",
      "source": [
        "# Define the hyperparameters (same for all 3 models) here\n",
        "num_epochs= 10\n"
      ],
      "metadata": {
        "id": "3ZVpEI-N8L5X"
      },
      "execution_count": 106,
      "outputs": []
    },
    {
      "cell_type": "markdown",
      "source": [
        "### Model A \n",
        "\n"
      ],
      "metadata": {
        "id": "UMdreKgU24od"
      }
    },
    {
      "cell_type": "code",
      "source": [
        "def train(model, criterion, train_loader, validation_loader, optimizer, epochs):\n",
        "    i = 0\n",
        "    metrics = {'training_loss': [], 'validation_loss': [], \n",
        "               'training_accuracy': [], 'validation_accuracy': []}\n",
        "    \n",
        "    epoch_losses_train =[]\n",
        "    epoch_losses_valid =[] \n",
        "    iteration_valid_losses=[]\n",
        "    \n",
        "    for epoch in range(epochs):\n",
        "        runningLoss=0\n",
        "        t_correct= 0\n",
        "        for i, (x, y) in enumerate(train_loader):\n",
        "            optimizer.zero_grad()\n",
        "            z = model(x.view(-1, 28 * 28))\n",
        "            loss = criterion(z, y)\n",
        "            loss.backward()\n",
        "            optimizer.step()\n",
        "            runningLoss += loss.item()\n",
        "        metrics['training_loss'].append(runningLoss / len(train_loader))        \n",
        "        epoch_losses_train.append(runningLoss / len(train_loader))\n",
        "  \n",
        "        runningLossValid= 0\n",
        "        with torch.no_grad():\n",
        "           for i, (inputs, labels) in enumerate(val_loader):\n",
        "               outputs = model(inputs.view(-1, 28 * 28))\n",
        "               loss = criterion(outputs, labels)\n",
        "               runningLossValid += loss.item()\n",
        "               iteration_valid_losses.append(loss.item())\n",
        "           epoch_losses_valid.append(runningLossValid / len(val_loader))\n",
        "           metrics['validation_loss'].append(runningLossValid / len(val_loader))\n",
        "        \n",
        "        with torch.no_grad():\n",
        "          correct = 0\n",
        "          for x, y in train_loader:\n",
        "              z = model(x.view(-1, 28 * 28))\n",
        "              _, label = torch.max(z, 1)\n",
        "              correct += (label == y).sum().item()\n",
        "          accuracy = 100 * (correct / train_len)\n",
        "          metrics['training_accuracy'].append(accuracy)\n",
        "\n",
        "          with torch.no_grad():\n",
        "              t_correct = 0\n",
        "              for x, y in val_loader:\n",
        "                  z = model(x.view(-1, 28 * 28))\n",
        "                  _, label = torch.max(z, 1)\n",
        "                  t_correct += (label == y).sum().item()\n",
        "          \n",
        "              accuracy1 = 100 * (t_correct / val_len)\n",
        "              metrics['validation_accuracy'].append(accuracy1)\n",
        "          \n",
        "        print(f\"Epoch {epoch:3}. Training Loss: {epoch_losses_train[-1]:.6f},  Validation Loss: {epoch_losses_valid[-1]:.6f}\")\n",
        "        print(f\"Training Accuracy: {correct} / {train_len} [{100 * correct / train_len:.2f}%], Validation Accuracy: {t_correct} / {val_len} [{100 * t_correct / val_len:.2f}%]\")    \n",
        "    \n",
        "    return metrics"
      ],
      "metadata": {
        "id": "h2wwQRV_dWoA"
      },
      "execution_count": 151,
      "outputs": []
    },
    {
      "cell_type": "code",
      "source": [
        "criterion = nn.CrossEntropyLoss()\n",
        "learning_rate = 0.005\n",
        "modelRelu = NetRelu(data_input, H1_output, H2_output, Data_out)\n",
        "optimizer = torch.optim.Adam(modelRelu.parameters(), lr=learning_rate)\n",
        "train_val_result = train(modelRelu, criterion, train_loader, test_loader, optimizer, epochs=num_epochs)"
      ],
      "metadata": {
        "colab": {
          "base_uri": "https://localhost:8080/"
        },
        "id": "9DLmdrOKQb8H",
        "outputId": "8f383c17-a6f1-47e6-b1d1-45f9387ed148"
      },
      "execution_count": 60,
      "outputs": [
        {
          "metadata": {
            "tags": null
          },
          "name": "stdout",
          "output_type": "stream",
          "text": [
            "Epoch   0. Training Loss: 0.256671,  Validation Loss: 0.164772\n",
            "Training Accuracy: 48061 / 50000 [96.12%], Validation Accuracy: 9520 / 10000 [95.20%]\n",
            "Epoch   1. Training Loss: 0.126679,  Validation Loss: 0.142488\n",
            "Training Accuracy: 48423 / 50000 [96.85%], Validation Accuracy: 9578 / 10000 [95.78%]\n",
            "Epoch   2. Training Loss: 0.103266,  Validation Loss: 0.128193\n",
            "Training Accuracy: 48737 / 50000 [97.47%], Validation Accuracy: 9632 / 10000 [96.32%]\n",
            "Epoch   3. Training Loss: 0.083942,  Validation Loss: 0.124525\n",
            "Training Accuracy: 49019 / 50000 [98.04%], Validation Accuracy: 9636 / 10000 [96.36%]\n",
            "Epoch   4. Training Loss: 0.073842,  Validation Loss: 0.130366\n",
            "Training Accuracy: 49074 / 50000 [98.15%], Validation Accuracy: 9664 / 10000 [96.64%]\n",
            "Epoch   5. Training Loss: 0.066263,  Validation Loss: 0.131184\n",
            "Training Accuracy: 49220 / 50000 [98.44%], Validation Accuracy: 9673 / 10000 [96.73%]\n",
            "Epoch   6. Training Loss: 0.062103,  Validation Loss: 0.147728\n",
            "Training Accuracy: 49055 / 50000 [98.11%], Validation Accuracy: 9664 / 10000 [96.64%]\n",
            "Epoch   7. Training Loss: 0.062438,  Validation Loss: 0.128487\n",
            "Training Accuracy: 49260 / 50000 [98.52%], Validation Accuracy: 9689 / 10000 [96.89%]\n",
            "Epoch   8. Training Loss: 0.054609,  Validation Loss: 0.143044\n",
            "Training Accuracy: 49399 / 50000 [98.80%], Validation Accuracy: 9699 / 10000 [96.99%]\n",
            "Epoch   9. Training Loss: 0.046539,  Validation Loss: 0.163630\n",
            "Training Accuracy: 49386 / 50000 [98.77%], Validation Accuracy: 9693 / 10000 [96.93%]\n"
          ]
        }
      ]
    },
    {
      "cell_type": "code",
      "source": [
        "# Plot Graph of Train & Val Loss vs Epoch (together in same plot) for model A\n",
        "plt.plot(train_val_result['training_loss'], label = 'train_relu') \n",
        "plt.plot(train_val_result['validation_loss'], label = 'val_relu')\n",
        "plt.ylabel('Loss')\n",
        "plt.xlabel('Iteration')   \n",
        "plt.legend()"
      ],
      "metadata": {
        "id": "Gk8Atveg2nPj",
        "colab": {
          "base_uri": "https://localhost:8080/",
          "height": 297
        },
        "outputId": "e4db365b-b78e-4962-c7ff-e6b6f20ad8b8"
      },
      "execution_count": 61,
      "outputs": [
        {
          "output_type": "execute_result",
          "data": {
            "text/plain": [
              "<matplotlib.legend.Legend at 0x7efc95139cd0>"
            ]
          },
          "metadata": {},
          "execution_count": 61
        },
        {
          "output_type": "display_data",
          "data": {
            "text/plain": [
              "<Figure size 432x288 with 1 Axes>"
            ],
            "image/png": "[encoded data removed]"
          },
          "metadata": {
            "needs_background": "light"
          }
        }
      ]
    },
    {
      "cell_type": "code",
      "source": [
        "# Plot Graph of Train & Val Accuracy vs Epoch (together in same plot) for model A\n",
        "plt.plot(train_val_result['training_accuracy'], label = 'train_relu') \n",
        "plt.plot(train_val_result['validation_accuracy'], label = 'val_relu')\n",
        "plt.ylabel('Loss')\n",
        "plt.xlabel('Iteration')   \n",
        "plt.legend()"
      ],
      "metadata": {
        "id": "VGTWAn_22n0m",
        "colab": {
          "base_uri": "https://localhost:8080/",
          "height": 297
        },
        "outputId": "0bf1ee7c-04cc-4f9a-f0f0-0e38c25aface"
      },
      "execution_count": 62,
      "outputs": [
        {
          "output_type": "execute_result",
          "data": {
            "text/plain": [
              "<matplotlib.legend.Legend at 0x7efc95233a30>"
            ]
          },
          "metadata": {},
          "execution_count": 62
        },
        {
          "output_type": "display_data",
          "data": {
            "text/plain": [
              "<Figure size 432x288 with 1 Axes>"
            ],
            "image/png": "[encoded data removed]"
          },
          "metadata": {
            "needs_background": "light"
          }
        }
      ]
    },
    {
      "cell_type": "markdown",
      "source": [
        "### Model B\n"
      ],
      "metadata": {
        "id": "X-kUp7pk28n-"
      }
    },
    {
      "cell_type": "code",
      "source": [
        "# Training Loop for model B\n",
        "\n",
        "criterion = nn.CrossEntropyLoss()\n",
        "learning_rate = 0.005\n",
        "modelRelu = NetRelu(data_input, H1_output, H2_output,H3_output, Data_out)\n",
        "optimizer = torch.optim.Adam(modelRelu.parameters(), lr=learning_rate)\n",
        "train_val_result = train(modelRelu, criterion, train_loader, test_loader, optimizer, epochs=num_epochs)"
      ],
      "metadata": {
        "colab": {
          "base_uri": "https://localhost:8080/"
        },
        "id": "5RWdTrErFGNq",
        "outputId": "e0c6bfe0-4373-40f8-e7ae-fd08321de06f"
      },
      "execution_count": 65,
      "outputs": [
        {
          "output_type": "stream",
          "name": "stdout",
          "text": [
            "Epoch   0. Training Loss: 0.286363,  Validation Loss: 0.180666\n",
            "Training Accuracy: 47847 / 50000 [95.69%], Validation Accuracy: 9498 / 10000 [94.98%]\n",
            "Epoch   1. Training Loss: 0.144846,  Validation Loss: 0.147810\n",
            "Training Accuracy: 48397 / 50000 [96.79%], Validation Accuracy: 9588 / 10000 [95.88%]\n",
            "Epoch   2. Training Loss: 0.112076,  Validation Loss: 0.141214\n",
            "Training Accuracy: 48676 / 50000 [97.35%], Validation Accuracy: 9610 / 10000 [96.10%]\n",
            "Epoch   3. Training Loss: 0.101335,  Validation Loss: 0.161176\n",
            "Training Accuracy: 48543 / 50000 [97.09%], Validation Accuracy: 9575 / 10000 [95.75%]\n",
            "Epoch   4. Training Loss: 0.085773,  Validation Loss: 0.154292\n",
            "Training Accuracy: 48869 / 50000 [97.74%], Validation Accuracy: 9614 / 10000 [96.14%]\n",
            "Epoch   5. Training Loss: 0.083708,  Validation Loss: 0.152495\n",
            "Training Accuracy: 49022 / 50000 [98.04%], Validation Accuracy: 9641 / 10000 [96.41%]\n",
            "Epoch   6. Training Loss: 0.079900,  Validation Loss: 0.148055\n",
            "Training Accuracy: 49067 / 50000 [98.13%], Validation Accuracy: 9674 / 10000 [96.74%]\n",
            "Epoch   7. Training Loss: 0.065918,  Validation Loss: 0.147743\n",
            "Training Accuracy: 49193 / 50000 [98.39%], Validation Accuracy: 9656 / 10000 [96.56%]\n",
            "Epoch   8. Training Loss: 0.070940,  Validation Loss: 0.157259\n",
            "Training Accuracy: 49174 / 50000 [98.35%], Validation Accuracy: 9644 / 10000 [96.44%]\n",
            "Epoch   9. Training Loss: 0.063530,  Validation Loss: 0.138290\n",
            "Training Accuracy: 49247 / 50000 [98.49%], Validation Accuracy: 9678 / 10000 [96.78%]\n"
          ]
        }
      ]
    },
    {
      "cell_type": "code",
      "source": [
        "# Plot Graph of Train & Val Loss vs Epoch (together in same plot) for model B\n",
        "plt.plot(train_val_result['training_loss'], label = 'train_relu') \n",
        "plt.plot(train_val_result['validation_loss'], label = 'val_relu')\n",
        "plt.ylabel('Loss')\n",
        "plt.xlabel('Iteration')   \n",
        "plt.legend()"
      ],
      "metadata": {
        "id": "9pfLjJrI22XQ",
        "colab": {
          "base_uri": "https://localhost:8080/",
          "height": 297
        },
        "outputId": "f8d96310-11f7-4c8d-86c0-ca2382781f18"
      },
      "execution_count": 66,
      "outputs": [
        {
          "output_type": "execute_result",
          "data": {
            "text/plain": [
              "<matplotlib.legend.Legend at 0x7efc951edb50>"
            ]
          },
          "metadata": {},
          "execution_count": 66
        },
        {
          "output_type": "display_data",
          "data": {
            "text/plain": [
              "<Figure size 432x288 with 1 Axes>"
            ],
            "image/png": "[encoded data removed]"
          },
          "metadata": {
            "needs_background": "light"
          }
        }
      ]
    },
    {
      "cell_type": "code",
      "source": [
        "# Plot Graph of Train & Val Accuracy vs Epoch (together in same plot) for model B\n",
        "plt.plot(train_val_result['training_accuracy'], label = 'train_relu') \n",
        "plt.plot(train_val_result['validation_accuracy'], label = 'val_relu')\n",
        "plt.ylabel('Loss')\n",
        "plt.xlabel('Iteration')   \n",
        "plt.legend()"
      ],
      "metadata": {
        "id": "KOy6REpK22XQ",
        "colab": {
          "base_uri": "https://localhost:8080/",
          "height": 297
        },
        "outputId": "d1821a48-9dbd-4105-8ba7-a3a4cacf0906"
      },
      "execution_count": 67,
      "outputs": [
        {
          "output_type": "execute_result",
          "data": {
            "text/plain": [
              "<matplotlib.legend.Legend at 0x7efc95215ac0>"
            ]
          },
          "metadata": {},
          "execution_count": 67
        },
        {
          "output_type": "display_data",
          "data": {
            "text/plain": [
              "<Figure size 432x288 with 1 Axes>"
            ],
            "image/png": "[encoded data removed]"
          },
          "metadata": {
            "needs_background": "light"
          }
        }
      ]
    },
    {
      "cell_type": "markdown",
      "source": [
        "### Model C\n"
      ],
      "metadata": {
        "id": "4JslKXgq3AUT"
      }
    },
    {
      "cell_type": "code",
      "source": [
        "# Training Loop for model C\n",
        "\n",
        "criterion = nn.CrossEntropyLoss()\n",
        "learning_rate = 0.005\n",
        "modelRelu = NetRelu(data_input, H1_output, H2_output,H3_output,H4_output, Data_out)\n",
        "optimizer = torch.optim.Adam(modelRelu.parameters(), lr=learning_rate)\n",
        "train_val_result = train(modelRelu, criterion, train_loader, test_loader, optimizer, epochs=num_epochs)"
      ],
      "metadata": {
        "colab": {
          "base_uri": "https://localhost:8080/"
        },
        "id": "aJ6TDVgZXpKf",
        "outputId": "ccab001b-063b-4bf4-8eb2-23ef2a47556b"
      },
      "execution_count": 71,
      "outputs": [
        {
          "metadata": {
            "tags": null
          },
          "name": "stdout",
          "output_type": "stream",
          "text": [
            "Epoch   0. Training Loss: 0.328034,  Validation Loss: 0.234561\n",
            "Training Accuracy: 47569 / 50000 [95.14%], Validation Accuracy: 9421 / 10000 [94.21%]\n",
            "Epoch   1. Training Loss: 0.177294,  Validation Loss: 0.184989\n",
            "Training Accuracy: 48037 / 50000 [96.07%], Validation Accuracy: 9511 / 10000 [95.11%]\n",
            "Epoch   2. Training Loss: 0.145172,  Validation Loss: 0.194354\n",
            "Training Accuracy: 48268 / 50000 [96.54%], Validation Accuracy: 9528 / 10000 [95.28%]\n",
            "Epoch   3. Training Loss: 0.121631,  Validation Loss: 0.167893\n",
            "Training Accuracy: 48329 / 50000 [96.66%], Validation Accuracy: 9570 / 10000 [95.70%]\n",
            "Epoch   4. Training Loss: 0.118038,  Validation Loss: 0.179378\n",
            "Training Accuracy: 48499 / 50000 [97.00%], Validation Accuracy: 9552 / 10000 [95.52%]\n",
            "Epoch   5. Training Loss: 0.098166,  Validation Loss: 0.160414\n",
            "Training Accuracy: 48993 / 50000 [97.99%], Validation Accuracy: 9650 / 10000 [96.50%]\n",
            "Epoch   6. Training Loss: 0.090817,  Validation Loss: 0.161372\n",
            "Training Accuracy: 48872 / 50000 [97.74%], Validation Accuracy: 9619 / 10000 [96.19%]\n",
            "Epoch   7. Training Loss: 0.090772,  Validation Loss: 0.146701\n",
            "Training Accuracy: 48993 / 50000 [97.99%], Validation Accuracy: 9640 / 10000 [96.40%]\n",
            "Epoch   8. Training Loss: 0.080347,  Validation Loss: 0.171824\n",
            "Training Accuracy: 48984 / 50000 [97.97%], Validation Accuracy: 9635 / 10000 [96.35%]\n",
            "Epoch   9. Training Loss: 0.083161,  Validation Loss: 0.188199\n",
            "Training Accuracy: 48972 / 50000 [97.94%], Validation Accuracy: 9626 / 10000 [96.26%]\n"
          ]
        }
      ]
    },
    {
      "cell_type": "code",
      "source": [
        "# Plot Graph of Train & Val Loss vs Epoch (together in same plot) for model C\n",
        "plt.plot(train_val_result['training_loss'], label = 'train_relu') \n",
        "plt.plot(train_val_result['validation_loss'], label = 'val_relu')\n",
        "plt.ylabel('Loss')\n",
        "plt.xlabel('Iteration')   \n",
        "plt.legend()"
      ],
      "metadata": {
        "id": "eN5XtgCl22mq",
        "colab": {
          "base_uri": "https://localhost:8080/",
          "height": 297
        },
        "outputId": "ffa890fe-3eb6-4c72-b3f6-6968d678b7f2"
      },
      "execution_count": 72,
      "outputs": [
        {
          "output_type": "execute_result",
          "data": {
            "text/plain": [
              "<matplotlib.legend.Legend at 0x7efc94a47a00>"
            ]
          },
          "metadata": {},
          "execution_count": 72
        },
        {
          "output_type": "display_data",
          "data": {
            "text/plain": [
              "<Figure size 432x288 with 1 Axes>"
            ],
            "image/png": "[encoded data removed]"
          },
          "metadata": {
            "needs_background": "light"
          }
        }
      ]
    },
    {
      "cell_type": "code",
      "source": [
        "# Plot Graph of Train & Val Accuracy vs Epoch (together in same plot) for model C\n",
        "plt.plot(train_val_result['training_accuracy'], label = 'train_relu') \n",
        "plt.plot(train_val_result['validation_accuracy'], label = 'val_relu')\n",
        "plt.ylabel('Loss')\n",
        "plt.xlabel('Iteration')   \n",
        "plt.legend()"
      ],
      "metadata": {
        "id": "xwOen7-V22mr",
        "colab": {
          "base_uri": "https://localhost:8080/",
          "height": 297
        },
        "outputId": "8f62b8dd-277e-49d5-da76-a64b8a6bc4f7"
      },
      "execution_count": 73,
      "outputs": [
        {
          "output_type": "execute_result",
          "data": {
            "text/plain": [
              "<matplotlib.legend.Legend at 0x7efc94a62040>"
            ]
          },
          "metadata": {},
          "execution_count": 73
        },
        {
          "output_type": "display_data",
          "data": {
            "text/plain": [
              "<Figure size 432x288 with 1 Axes>"
            ],
            "image/png": "[encoded data removed]"
          },
          "metadata": {
            "needs_background": "light"
          }
        }
      ]
    },
    {
      "cell_type": "markdown",
      "source": [
        "## Choosing a Activation Function [10 marks]\n",
        "\n",
        "Based on the best performing model you found above, define 2 more models with these 2 activation functions (1 activation function is used throughout the model definiation). Use these Activation funcitons \n",
        "\n",
        "\n",
        "*   Tanh\n",
        "*   LeakyRELU"
      ],
      "metadata": {
        "id": "AZuT5E_r3LbK"
      }
    },
    {
      "cell_type": "code",
      "source": [
        "data_input= 28*28\n",
        "H1_output= 64\n",
        "H2_output=128\n",
        "H3_output = 256\n",
        "H4_output =512\n",
        "Data_out= 10"
      ],
      "metadata": {
        "id": "cL60ZX6W9dnS"
      },
      "execution_count": 172,
      "outputs": []
    },
    {
      "cell_type": "code",
      "source": [
        "# Tanh model definiton\n",
        "\n",
        "class NetTanh(nn.Module):\n",
        "    def __init__(self,data_input, H1_output, H2_output, H3_output,H4_output, Data_out):\n",
        "        super(NetTanh, self).__init__()\n",
        "        self.linear1 = nn.Linear(data_input, H1_output)\n",
        "        self.linear2 = nn.Linear(H1_output, H2_output)\n",
        "        self.linear3 = nn.Linear(H2_output, H3_output)\n",
        "        self.linear4 = nn.Linear(H3_output, H4_output)\n",
        "        self.linear5 = nn.Linear(H4_output, Data_out)\n",
        "                           \n",
        "    def forward(self, x):\n",
        "        #x = x.view(-1, 28 * 28)\n",
        "        x = torch.tanh(self.linear1(x))\n",
        "        x = torch.tanh(self.linear2(x))\n",
        "        x = torch.tanh(self.linear3(x))\n",
        "        x = torch.tanh(self.linear4(x))\n",
        "        x = self.linear5(x)\n",
        "        return x\n",
        "\n",
        "\n",
        "# Fill in appropriately while maintaining the name of the variable\n",
        "data_input= 28*28\n",
        "H1_output= 64\n",
        "H2_output=128\n",
        "H3_output = 256\n",
        "H4_output =512\n",
        "Data_out= 10\n",
        "\n",
        "# Tanh model definition\n",
        "\n",
        "\n",
        "# Maintain these variable names\n",
        "model_lrelu = ...\n",
        "model_tanh = ..."
      ],
      "metadata": {
        "id": "uhAK1dvg3vkf"
      },
      "execution_count": 168,
      "outputs": []
    },
    {
      "cell_type": "code",
      "source": [
        "class NetLeakyReLU(nn.Module):\n",
        "    def __init__(self,data_input, H1_output, H2_output, H3_output,H4_output, Data_out):\n",
        "        super(NetLeakyReLU, self).__init__()\n",
        "        self.linear1 = nn.Linear(data_input, H1_output)\n",
        "        self.linear2 = nn.Linear(H1_output, H2_output)\n",
        "        self.linear3 = nn.Linear(H2_output, H3_output)\n",
        "        self.linear4 = nn.Linear(H3_output, H4_output)\n",
        "        self.linear5 = nn.Linear(H4_output, Data_out)\n",
        "        \n",
        "    def forward(self, x):\n",
        "        #x = x.view(-1, 28 * 28)\n",
        "        x = nn.LeakyReLU(self.linear1(x))\n",
        "        x = nn.LeakyReLU(self.linear2(x))\n",
        "        x = nn.LeakyReLU(self.linear3(x))\n",
        "        x = nn.LeakyReLU(self.linear4(x))\n",
        "        x = self.linear5(x)\n",
        "        return x\n",
        "\n",
        "\n"
      ],
      "metadata": {
        "id": "KILVwSMl22cM"
      },
      "execution_count": 176,
      "outputs": []
    },
    {
      "cell_type": "code",
      "source": [
        "\n",
        "num_epochs =10\n",
        "criterion = nn.CrossEntropyLoss()\n",
        "learning_rate = 0.005\n",
        "modelLRelu = NetLeakyReLU(data_input, H1_output, H2_output,H3_output,H4_output, Data_out)\n",
        "#model =ModelLeakyReLU()\n",
        "optimizer = torch.optim.Adam(modelLRelu.parameters(), lr=learning_rate)\n",
        "train_val_result = train(modelLRelu, criterion, train_loader, test_loader, optimizer, epochs=num_epochs)\n"
      ],
      "metadata": {
        "colab": {
          "base_uri": "https://localhost:8080/",
          "height": 353
        },
        "id": "74_1i1HBBAmI",
        "outputId": "5faa765a-cd83-4af1-d56e-67ff1611a720"
      },
      "execution_count": 178,
      "outputs": [
        {
          "output_type": "error",
          "ename": "TypeError",
          "evalue": "ignored",
          "traceback": [
            "\u001b[0;31m---------------------------------------------------------------------------\u001b[0m",
            "\u001b[0;31mTypeError\u001b[0m                                 Traceback (most recent call last)",
            "\u001b[0;32m<ipython-input-178-9ef926a5af05>\u001b[0m in \u001b[0;36m<module>\u001b[0;34m\u001b[0m\n\u001b[1;32m      5\u001b[0m \u001b[0;31m#model =ModelLeakyReLU()\u001b[0m\u001b[0;34m\u001b[0m\u001b[0;34m\u001b[0m\u001b[0;34m\u001b[0m\u001b[0m\n\u001b[1;32m      6\u001b[0m \u001b[0moptimizer\u001b[0m \u001b[0;34m=\u001b[0m \u001b[0mtorch\u001b[0m\u001b[0;34m.\u001b[0m\u001b[0moptim\u001b[0m\u001b[0;34m.\u001b[0m\u001b[0mAdam\u001b[0m\u001b[0;34m(\u001b[0m\u001b[0mmodelLRelu\u001b[0m\u001b[0;34m.\u001b[0m\u001b[0mparameters\u001b[0m\u001b[0;34m(\u001b[0m\u001b[0;34m)\u001b[0m\u001b[0;34m,\u001b[0m \u001b[0mlr\u001b[0m\u001b[0;34m=\u001b[0m\u001b[0mlearning_rate\u001b[0m\u001b[0;34m)\u001b[0m\u001b[0;34m\u001b[0m\u001b[0;34m\u001b[0m\u001b[0m\n\u001b[0;32m----> 7\u001b[0;31m \u001b[0mtrain_val_result\u001b[0m \u001b[0;34m=\u001b[0m \u001b[0mtrain\u001b[0m\u001b[0;34m(\u001b[0m\u001b[0mmodelLRelu\u001b[0m\u001b[0;34m,\u001b[0m \u001b[0mcriterion\u001b[0m\u001b[0;34m,\u001b[0m \u001b[0mtrain_loader\u001b[0m\u001b[0;34m,\u001b[0m \u001b[0mtest_loader\u001b[0m\u001b[0;34m,\u001b[0m \u001b[0moptimizer\u001b[0m\u001b[0;34m,\u001b[0m \u001b[0mepochs\u001b[0m\u001b[0;34m=\u001b[0m\u001b[0mnum_epochs\u001b[0m\u001b[0;34m)\u001b[0m\u001b[0;34m\u001b[0m\u001b[0;34m\u001b[0m\u001b[0m\n\u001b[0m",
            "\u001b[0;32m<ipython-input-151-2e324c937534>\u001b[0m in \u001b[0;36mtrain\u001b[0;34m(model, criterion, train_loader, validation_loader, optimizer, epochs)\u001b[0m\n\u001b[1;32m     13\u001b[0m         \u001b[0;32mfor\u001b[0m \u001b[0mi\u001b[0m\u001b[0;34m,\u001b[0m \u001b[0;34m(\u001b[0m\u001b[0mx\u001b[0m\u001b[0;34m,\u001b[0m \u001b[0my\u001b[0m\u001b[0;34m)\u001b[0m \u001b[0;32min\u001b[0m \u001b[0menumerate\u001b[0m\u001b[0;34m(\u001b[0m\u001b[0mtrain_loader\u001b[0m\u001b[0;34m)\u001b[0m\u001b[0;34m:\u001b[0m\u001b[0;34m\u001b[0m\u001b[0;34m\u001b[0m\u001b[0m\n\u001b[1;32m     14\u001b[0m             \u001b[0moptimizer\u001b[0m\u001b[0;34m.\u001b[0m\u001b[0mzero_grad\u001b[0m\u001b[0;34m(\u001b[0m\u001b[0;34m)\u001b[0m\u001b[0;34m\u001b[0m\u001b[0;34m\u001b[0m\u001b[0m\n\u001b[0;32m---> 15\u001b[0;31m             \u001b[0mz\u001b[0m \u001b[0;34m=\u001b[0m \u001b[0mmodel\u001b[0m\u001b[0;34m(\u001b[0m\u001b[0mx\u001b[0m\u001b[0;34m.\u001b[0m\u001b[0mview\u001b[0m\u001b[0;34m(\u001b[0m\u001b[0;34m-\u001b[0m\u001b[0;36m1\u001b[0m\u001b[0;34m,\u001b[0m \u001b[0;36m28\u001b[0m \u001b[0;34m*\u001b[0m \u001b[0;36m28\u001b[0m\u001b[0;34m)\u001b[0m\u001b[0;34m)\u001b[0m\u001b[0;34m\u001b[0m\u001b[0;34m\u001b[0m\u001b[0m\n\u001b[0m\u001b[1;32m     16\u001b[0m             \u001b[0mloss\u001b[0m \u001b[0;34m=\u001b[0m \u001b[0mcriterion\u001b[0m\u001b[0;34m(\u001b[0m\u001b[0mz\u001b[0m\u001b[0;34m,\u001b[0m \u001b[0my\u001b[0m\u001b[0;34m)\u001b[0m\u001b[0;34m\u001b[0m\u001b[0;34m\u001b[0m\u001b[0m\n\u001b[1;32m     17\u001b[0m             \u001b[0mloss\u001b[0m\u001b[0;34m.\u001b[0m\u001b[0mbackward\u001b[0m\u001b[0;34m(\u001b[0m\u001b[0;34m)\u001b[0m\u001b[0;34m\u001b[0m\u001b[0;34m\u001b[0m\u001b[0m\n",
            "\u001b[0;32m/usr/local/lib/python3.8/dist-packages/torch/nn/modules/module.py\u001b[0m in \u001b[0;36m_call_impl\u001b[0;34m(self, *input, **kwargs)\u001b[0m\n\u001b[1;32m   1192\u001b[0m         if not (self._backward_hooks or self._forward_hooks or self._forward_pre_hooks or _global_backward_hooks\n\u001b[1;32m   1193\u001b[0m                 or _global_forward_hooks or _global_forward_pre_hooks):\n\u001b[0;32m-> 1194\u001b[0;31m             \u001b[0;32mreturn\u001b[0m \u001b[0mforward_call\u001b[0m\u001b[0;34m(\u001b[0m\u001b[0;34m*\u001b[0m\u001b[0minput\u001b[0m\u001b[0;34m,\u001b[0m \u001b[0;34m**\u001b[0m\u001b[0mkwargs\u001b[0m\u001b[0;34m)\u001b[0m\u001b[0;34m\u001b[0m\u001b[0;34m\u001b[0m\u001b[0m\n\u001b[0m\u001b[1;32m   1195\u001b[0m         \u001b[0;31m# Do not call functions when jit is used\u001b[0m\u001b[0;34m\u001b[0m\u001b[0;34m\u001b[0m\u001b[0;34m\u001b[0m\u001b[0m\n\u001b[1;32m   1196\u001b[0m         \u001b[0mfull_backward_hooks\u001b[0m\u001b[0;34m,\u001b[0m \u001b[0mnon_full_backward_hooks\u001b[0m \u001b[0;34m=\u001b[0m \u001b[0;34m[\u001b[0m\u001b[0;34m]\u001b[0m\u001b[0;34m,\u001b[0m \u001b[0;34m[\u001b[0m\u001b[0;34m]\u001b[0m\u001b[0;34m\u001b[0m\u001b[0;34m\u001b[0m\u001b[0m\n",
            "\u001b[0;32m<ipython-input-176-abe0c1ab05c6>\u001b[0m in \u001b[0;36mforward\u001b[0;34m(self, x)\u001b[0m\n\u001b[1;32m     11\u001b[0m         \u001b[0;31m#x = x.view(-1, 28 * 28)\u001b[0m\u001b[0;34m\u001b[0m\u001b[0;34m\u001b[0m\u001b[0;34m\u001b[0m\u001b[0m\n\u001b[1;32m     12\u001b[0m         \u001b[0mx\u001b[0m \u001b[0;34m=\u001b[0m \u001b[0mnn\u001b[0m\u001b[0;34m.\u001b[0m\u001b[0mLeakyReLU\u001b[0m\u001b[0;34m(\u001b[0m\u001b[0mself\u001b[0m\u001b[0;34m.\u001b[0m\u001b[0mlinear1\u001b[0m\u001b[0;34m(\u001b[0m\u001b[0mx\u001b[0m\u001b[0;34m)\u001b[0m\u001b[0;34m)\u001b[0m\u001b[0;34m\u001b[0m\u001b[0;34m\u001b[0m\u001b[0m\n\u001b[0;32m---> 13\u001b[0;31m         \u001b[0mx\u001b[0m \u001b[0;34m=\u001b[0m \u001b[0mnn\u001b[0m\u001b[0;34m.\u001b[0m\u001b[0mLeakyReLU\u001b[0m\u001b[0;34m(\u001b[0m\u001b[0mself\u001b[0m\u001b[0;34m.\u001b[0m\u001b[0mlinear2\u001b[0m\u001b[0;34m(\u001b[0m\u001b[0mx\u001b[0m\u001b[0;34m)\u001b[0m\u001b[0;34m)\u001b[0m\u001b[0;34m\u001b[0m\u001b[0;34m\u001b[0m\u001b[0m\n\u001b[0m\u001b[1;32m     14\u001b[0m         \u001b[0mx\u001b[0m \u001b[0;34m=\u001b[0m \u001b[0mnn\u001b[0m\u001b[0;34m.\u001b[0m\u001b[0mLeakyReLU\u001b[0m\u001b[0;34m(\u001b[0m\u001b[0mself\u001b[0m\u001b[0;34m.\u001b[0m\u001b[0mlinear3\u001b[0m\u001b[0;34m(\u001b[0m\u001b[0mx\u001b[0m\u001b[0;34m)\u001b[0m\u001b[0;34m)\u001b[0m\u001b[0;34m\u001b[0m\u001b[0;34m\u001b[0m\u001b[0m\n\u001b[1;32m     15\u001b[0m         \u001b[0mx\u001b[0m \u001b[0;34m=\u001b[0m \u001b[0mnn\u001b[0m\u001b[0;34m.\u001b[0m\u001b[0mLeakyReLU\u001b[0m\u001b[0;34m(\u001b[0m\u001b[0mself\u001b[0m\u001b[0;34m.\u001b[0m\u001b[0mlinear4\u001b[0m\u001b[0;34m(\u001b[0m\u001b[0mx\u001b[0m\u001b[0;34m)\u001b[0m\u001b[0;34m)\u001b[0m\u001b[0;34m\u001b[0m\u001b[0;34m\u001b[0m\u001b[0m\n",
            "\u001b[0;32m/usr/local/lib/python3.8/dist-packages/torch/nn/modules/module.py\u001b[0m in \u001b[0;36m_call_impl\u001b[0;34m(self, *input, **kwargs)\u001b[0m\n\u001b[1;32m   1192\u001b[0m         if not (self._backward_hooks or self._forward_hooks or self._forward_pre_hooks or _global_backward_hooks\n\u001b[1;32m   1193\u001b[0m                 or _global_forward_hooks or _global_forward_pre_hooks):\n\u001b[0;32m-> 1194\u001b[0;31m             \u001b[0;32mreturn\u001b[0m \u001b[0mforward_call\u001b[0m\u001b[0;34m(\u001b[0m\u001b[0;34m*\u001b[0m\u001b[0minput\u001b[0m\u001b[0;34m,\u001b[0m \u001b[0;34m**\u001b[0m\u001b[0mkwargs\u001b[0m\u001b[0;34m)\u001b[0m\u001b[0;34m\u001b[0m\u001b[0;34m\u001b[0m\u001b[0m\n\u001b[0m\u001b[1;32m   1195\u001b[0m         \u001b[0;31m# Do not call functions when jit is used\u001b[0m\u001b[0;34m\u001b[0m\u001b[0;34m\u001b[0m\u001b[0;34m\u001b[0m\u001b[0m\n\u001b[1;32m   1196\u001b[0m         \u001b[0mfull_backward_hooks\u001b[0m\u001b[0;34m,\u001b[0m \u001b[0mnon_full_backward_hooks\u001b[0m \u001b[0;34m=\u001b[0m \u001b[0;34m[\u001b[0m\u001b[0;34m]\u001b[0m\u001b[0;34m,\u001b[0m \u001b[0;34m[\u001b[0m\u001b[0;34m]\u001b[0m\u001b[0;34m\u001b[0m\u001b[0;34m\u001b[0m\u001b[0m\n",
            "\u001b[0;32m/usr/local/lib/python3.8/dist-packages/torch/nn/modules/linear.py\u001b[0m in \u001b[0;36mforward\u001b[0;34m(self, input)\u001b[0m\n\u001b[1;32m    112\u001b[0m \u001b[0;34m\u001b[0m\u001b[0m\n\u001b[1;32m    113\u001b[0m     \u001b[0;32mdef\u001b[0m \u001b[0mforward\u001b[0m\u001b[0;34m(\u001b[0m\u001b[0mself\u001b[0m\u001b[0;34m,\u001b[0m \u001b[0minput\u001b[0m\u001b[0;34m:\u001b[0m \u001b[0mTensor\u001b[0m\u001b[0;34m)\u001b[0m \u001b[0;34m->\u001b[0m \u001b[0mTensor\u001b[0m\u001b[0;34m:\u001b[0m\u001b[0;34m\u001b[0m\u001b[0;34m\u001b[0m\u001b[0m\n\u001b[0;32m--> 114\u001b[0;31m         \u001b[0;32mreturn\u001b[0m \u001b[0mF\u001b[0m\u001b[0;34m.\u001b[0m\u001b[0mlinear\u001b[0m\u001b[0;34m(\u001b[0m\u001b[0minput\u001b[0m\u001b[0;34m,\u001b[0m \u001b[0mself\u001b[0m\u001b[0;34m.\u001b[0m\u001b[0mweight\u001b[0m\u001b[0;34m,\u001b[0m \u001b[0mself\u001b[0m\u001b[0;34m.\u001b[0m\u001b[0mbias\u001b[0m\u001b[0;34m)\u001b[0m\u001b[0;34m\u001b[0m\u001b[0;34m\u001b[0m\u001b[0m\n\u001b[0m\u001b[1;32m    115\u001b[0m \u001b[0;34m\u001b[0m\u001b[0m\n\u001b[1;32m    116\u001b[0m     \u001b[0;32mdef\u001b[0m \u001b[0mextra_repr\u001b[0m\u001b[0;34m(\u001b[0m\u001b[0mself\u001b[0m\u001b[0;34m)\u001b[0m \u001b[0;34m->\u001b[0m \u001b[0mstr\u001b[0m\u001b[0;34m:\u001b[0m\u001b[0;34m\u001b[0m\u001b[0;34m\u001b[0m\u001b[0m\n",
            "\u001b[0;31mTypeError\u001b[0m: linear(): argument 'input' (position 1) must be Tensor, not LeakyReLU"
          ]
        }
      ]
    },
    {
      "cell_type": "markdown",
      "source": [
        "### Training \n",
        "\n",
        "Train these two models with the same hyperparameters. Train in separate cells given below, and report the same metrics descrived previously (train_loss, val_loss, train_acc, val_acc)"
      ],
      "metadata": {
        "id": "3P1fzs0P4Anx"
      }
    },
    {
      "cell_type": "code",
      "source": [
        "# Training Loop for Tanh\n",
        "\n",
        "criterion = nn.CrossEntropyLoss()\n",
        "learning_rate = 0.005\n",
        "modelTanh = NetTanh(data_input, H1_output, H2_output,H3_output,H4_output, Data_out)\n",
        "#modelLRelu= NetTanh()\n",
        "optimizer = torch.optim.Adam(modelTanh.parameters(), lr=learning_rate)\n",
        "train_val_result = train(modelTanh, criterion, train_loader, test_loader, optimizer, epochs=10)\n"
      ],
      "metadata": {
        "id": "-OAT_Rx64T0a",
        "colab": {
          "base_uri": "https://localhost:8080/"
        },
        "outputId": "1e6fb28c-23f3-4ef7-c52f-589645c3410c"
      },
      "execution_count": 153,
      "outputs": [
        {
          "output_type": "stream",
          "name": "stdout",
          "text": [
            "Epoch   0. Training Loss: 0.394716,  Validation Loss: 0.286798\n",
            "Training Accuracy: 46474 / 50000 [92.95%], Validation Accuracy: 9218 / 10000 [92.18%]\n",
            "Epoch   1. Training Loss: 0.249737,  Validation Loss: 0.244648\n",
            "Training Accuracy: 47509 / 50000 [95.02%], Validation Accuracy: 9367 / 10000 [93.67%]\n",
            "Epoch   2. Training Loss: 0.214770,  Validation Loss: 0.266105\n",
            "Training Accuracy: 47257 / 50000 [94.51%], Validation Accuracy: 9365 / 10000 [93.65%]\n",
            "Epoch   3. Training Loss: 0.213641,  Validation Loss: 0.243754\n",
            "Training Accuracy: 47545 / 50000 [95.09%], Validation Accuracy: 9414 / 10000 [94.14%]\n",
            "Epoch   4. Training Loss: 0.206385,  Validation Loss: 0.296978\n",
            "Training Accuracy: 47241 / 50000 [94.48%], Validation Accuracy: 9322 / 10000 [93.22%]\n",
            "Epoch   5. Training Loss: 0.213713,  Validation Loss: 0.235481\n",
            "Training Accuracy: 47899 / 50000 [95.80%], Validation Accuracy: 9450 / 10000 [94.50%]\n",
            "Epoch   6. Training Loss: 0.213702,  Validation Loss: 0.234171\n",
            "Training Accuracy: 47675 / 50000 [95.35%], Validation Accuracy: 9450 / 10000 [94.50%]\n",
            "Epoch   7. Training Loss: 0.201595,  Validation Loss: 0.253012\n",
            "Training Accuracy: 47759 / 50000 [95.52%], Validation Accuracy: 9456 / 10000 [94.56%]\n",
            "Epoch   8. Training Loss: 0.200372,  Validation Loss: 0.298307\n",
            "Training Accuracy: 47299 / 50000 [94.60%], Validation Accuracy: 9335 / 10000 [93.35%]\n",
            "Epoch   9. Training Loss: 0.201759,  Validation Loss: 0.276356\n",
            "Training Accuracy: 47417 / 50000 [94.83%], Validation Accuracy: 9364 / 10000 [93.64%]\n"
          ]
        }
      ]
    },
    {
      "cell_type": "code",
      "source": [
        "# Training Loop for LeakyReLU\n",
        "num_epochs =10\n",
        "criterion = nn.CrossEntropyLoss()\n",
        "learning_rate = 0.005\n",
        "modelLRelu = NetLeakyReLU(data_input, H1_output, H2_output,H3_output,H4_output, Data_out)\n",
        "#model =ModelLeakyReLU()\n",
        "optimizer = torch.optim.Adam(modelLRelu.parameters(), lr=learning_rate)\n",
        "train_val_result = train(modelLRelu, criterion, train_loader, test_loader, optimizer, epochs=num_epochs)\n"
      ],
      "metadata": {
        "id": "QuobAEP44Wrz",
        "colab": {
          "base_uri": "https://localhost:8080/"
        },
        "outputId": "2405ac1b-e45b-4e57-d762-f9138375ce70"
      },
      "execution_count": 156,
      "outputs": [
        {
          "output_type": "stream",
          "name": "stdout",
          "text": [
            "Epoch   0. Training Loss: 0.321619,  Validation Loss: 0.197272\n",
            "Training Accuracy: 47768 / 50000 [95.54%], Validation Accuracy: 9466 / 10000 [94.66%]\n",
            "Epoch   1. Training Loss: 0.167222,  Validation Loss: 0.183397\n",
            "Training Accuracy: 48347 / 50000 [96.69%], Validation Accuracy: 9516 / 10000 [95.16%]\n",
            "Epoch   2. Training Loss: 0.135961,  Validation Loss: 0.173140\n",
            "Training Accuracy: 48400 / 50000 [96.80%], Validation Accuracy: 9541 / 10000 [95.41%]\n",
            "Epoch   3. Training Loss: 0.116464,  Validation Loss: 0.167657\n",
            "Training Accuracy: 48690 / 50000 [97.38%], Validation Accuracy: 9598 / 10000 [95.98%]\n",
            "Epoch   4. Training Loss: 0.105997,  Validation Loss: 0.156977\n",
            "Training Accuracy: 49013 / 50000 [98.03%], Validation Accuracy: 9632 / 10000 [96.32%]\n",
            "Epoch   5. Training Loss: 0.092854,  Validation Loss: 0.143032\n",
            "Training Accuracy: 49029 / 50000 [98.06%], Validation Accuracy: 9644 / 10000 [96.44%]\n",
            "Epoch   6. Training Loss: 0.094652,  Validation Loss: 0.194716\n",
            "Training Accuracy: 48247 / 50000 [96.49%], Validation Accuracy: 9533 / 10000 [95.33%]\n",
            "Epoch   7. Training Loss: 0.086810,  Validation Loss: 0.146740\n",
            "Training Accuracy: 49062 / 50000 [98.12%], Validation Accuracy: 9656 / 10000 [96.56%]\n",
            "Epoch   8. Training Loss: 0.080261,  Validation Loss: 0.156136\n",
            "Training Accuracy: 49105 / 50000 [98.21%], Validation Accuracy: 9642 / 10000 [96.42%]\n",
            "Epoch   9. Training Loss: 0.081497,  Validation Loss: 0.158848\n",
            "Training Accuracy: 49097 / 50000 [98.19%], Validation Accuracy: 9664 / 10000 [96.64%]\n"
          ]
        }
      ]
    },
    {
      "cell_type": "markdown",
      "source": [
        "### Results on Test Set\n",
        "\n",
        "Report the Test Set classfication accuracy for the three activation functions (ReLU, LeakyReLU & TanH) and state which activation function gave the best performance on test set"
      ],
      "metadata": {
        "id": "WjH0LdKA4tYW"
      }
    },
    {
      "cell_type": "code",
      "source": [
        "# Define how to calculate Accuracy on Test Set\n",
        "epochs=10\n",
        "for epoch in range(epochs):\n",
        "  with torch.no_grad():\n",
        "      t_correct = 0\n",
        "      for x, y in test_loader:\n",
        "          z = modelRelu(x.view(-1, 28 * 28))\n",
        "          _, label = torch.max(z, 1)\n",
        "          t_correct += (label == y).sum().item()\n",
        "      accuracy1 = 100 * (t_correct / len(test_data))"
      ],
      "metadata": {
        "id": "gFeLvSrN4vT_"
      },
      "execution_count": 78,
      "outputs": []
    },
    {
      "cell_type": "code",
      "source": [
        "# Accuracy of RELU model\n",
        "epochs=10\n",
        "for epoch in range(epochs):\n",
        "  with torch.no_grad():\n",
        "      t_correct = 0\n",
        "      for x, y in test_loader:\n",
        "          z = modelRelu(x.view(-1, 28 * 28))\n",
        "          _, label = torch.max(z, 1)\n",
        "          t_correct += (label == y).sum().item()\n",
        "      accuracy1 = 100 * (t_correct / len(test_data))\n",
        "print(\"Test Accuracy of Relu function\",accuracy1)"
      ],
      "metadata": {
        "id": "q8dhJf4W7cKu",
        "colab": {
          "base_uri": "https://localhost:8080/"
        },
        "outputId": "eb109988-d08a-44ee-cee1-7981ce0676a0"
      },
      "execution_count": 79,
      "outputs": [
        {
          "output_type": "stream",
          "name": "stdout",
          "text": [
            "Test Accuracy of Relu function 97.17\n"
          ]
        }
      ]
    },
    {
      "cell_type": "code",
      "source": [
        "# Accuracy of TanH model\n",
        "epochs=10\n",
        "for epoch in range(epochs):\n",
        "  with torch.no_grad():\n",
        "      t_correct = 0\n",
        "      for x, y in test_loader:\n",
        "          z = modelTanh(x.view(-1, 28 * 28))\n",
        "          _, label = torch.max(z, 1)\n",
        "          t_correct += (label == y).sum().item()\n",
        "      accuracy2 = 100 * (t_correct / len(test_data))\n",
        "print(\"Test Accuracy of Tanh function\",accuracy2)"
      ],
      "metadata": {
        "id": "Uouc_R9t7cV3",
        "colab": {
          "base_uri": "https://localhost:8080/"
        },
        "outputId": "f944fc84-0eb5-4582-d8d7-4e12efaac550"
      },
      "execution_count": 154,
      "outputs": [
        {
          "output_type": "stream",
          "name": "stdout",
          "text": [
            "Test Accuracy of Tanh function 93.64\n"
          ]
        }
      ]
    },
    {
      "cell_type": "code",
      "source": [
        "# Accuracy of LeakyReLU model\n",
        "epochs=10\n",
        "for epoch in range(epochs):\n",
        "  with torch.no_grad():\n",
        "      t_correct = 0\n",
        "      for x, y in test_loader:\n",
        "          z = modelLRelu(x.view(-1, 28 * 28))\n",
        "          _, label = torch.max(z, 1)\n",
        "          t_correct += (label == y).sum().item()\n",
        "      accuracy2 = 100 * (t_correct / len(test_data))\n",
        "print(\"Test Accuracy of leakyReLU function\",accuracy2)"
      ],
      "metadata": {
        "id": "tjLBwh577chM",
        "colab": {
          "base_uri": "https://localhost:8080/"
        },
        "outputId": "8b713a47-303f-40aa-df6e-ff83a78618c7"
      },
      "execution_count": 157,
      "outputs": [
        {
          "output_type": "stream",
          "name": "stdout",
          "text": [
            "Test Accuracy of leakyReLU function 96.71\n"
          ]
        }
      ]
    },
    {
      "cell_type": "markdown",
      "source": [
        "Fill in these with the values you obtained from training.\n",
        "\n",
        "* ReLU model Test Set Accuracy: `...97.17`.` %\n",
        "* TanH model Test Set Accuracy: `.93.64...` %\n",
        "* LeakReLU model Test Set Accuracy: `.96.71...` %"
      ],
      "metadata": {
        "id": "5xelRHJV7Lmj"
      }
    }
  ]
}