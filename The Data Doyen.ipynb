{
 "cells": [
  {
   "cell_type": "code",
   "execution_count": 1,
   "id": "98433675",
   "metadata": {},
   "outputs": [],
   "source": [
    "import pandas as pd\n",
    "import numpy as np\n",
    "import matplotlib.pyplot as plt\n",
    "import ipywidgets as widgets"
   ]
  },
  {
   "cell_type": "code",
   "execution_count": 2,
   "id": "52fb1d24",
   "metadata": {},
   "outputs": [],
   "source": [
    "df = pd.read_csv(\"cc.csv\")"
   ]
  },
  {
   "cell_type": "code",
   "execution_count": 3,
   "id": "0ce5e067",
   "metadata": {},
   "outputs": [],
   "source": [
    "df.columns = df.columns.str.replace(\" \",\"_\")\n",
    "df.columns = df.columns.str.replace(\"-\",\"_\")\n",
    "df.columns = df.columns.str.lower()"
   ]
  },
  {
   "cell_type": "code",
   "execution_count": 4,
   "id": "4cb69973",
   "metadata": {},
   "outputs": [
    {
     "data": {
      "text/plain": [
       "Index(['date_received', 'product', 'sub_product', 'issue', 'sub_issue',\n",
       "       'consumer_complaint_narrative', 'company_public_response', 'company',\n",
       "       'state', 'zip_code', 'tags', 'consumer_consent_provided?',\n",
       "       'submitted_via', 'date_sent_to_company', 'company_response_to_consumer',\n",
       "       'timely_response?', 'consumer_disputed?', 'complaint_id'],\n",
       "      dtype='object')"
      ]
     },
     "execution_count": 4,
     "metadata": {},
     "output_type": "execute_result"
    }
   ],
   "source": [
    "df.columns"
   ]
  },
  {
   "cell_type": "code",
   "execution_count": 5,
   "id": "d0bb366c",
   "metadata": {},
   "outputs": [
    {
     "data": {
      "text/plain": [
       "date_received                   object\n",
       "product                         object\n",
       "sub_product                     object\n",
       "issue                           object\n",
       "sub_issue                       object\n",
       "consumer_complaint_narrative    object\n",
       "company_public_response         object\n",
       "company                         object\n",
       "state                           object\n",
       "zip_code                        object\n",
       "tags                            object\n",
       "consumer_consent_provided?      object\n",
       "submitted_via                   object\n",
       "date_sent_to_company            object\n",
       "company_response_to_consumer    object\n",
       "timely_response?                object\n",
       "consumer_disputed?              object\n",
       "complaint_id                     int64\n",
       "dtype: object"
      ]
     },
     "execution_count": 5,
     "metadata": {},
     "output_type": "execute_result"
    }
   ],
   "source": [
    "df.dtypes"
   ]
  },
  {
   "cell_type": "code",
   "execution_count": 6,
   "id": "7b29d2f3",
   "metadata": {},
   "outputs": [
    {
     "data": {
      "text/plain": [
       "array(['Credit reporting', 'Debt collection', 'Credit card', 'Mortgage',\n",
       "       'Bank account or service', 'Student loan', 'Money transfers',\n",
       "       'Consumer Loan', 'Prepaid card', 'Other financial service',\n",
       "       'Payday loan',\n",
       "       'Credit reporting, credit repair services, or other personal consumer reports',\n",
       "       'Money transfer, virtual currency, or money service',\n",
       "       'Checking or savings account',\n",
       "       'Payday loan, title loan, or personal loan',\n",
       "       'Credit card or prepaid card', 'Vehicle loan or lease',\n",
       "       'Virtual currency'], dtype=object)"
      ]
     },
     "execution_count": 6,
     "metadata": {},
     "output_type": "execute_result"
    }
   ],
   "source": [
    "df['product'].unique()"
   ]
  },
  {
   "cell_type": "code",
   "execution_count": 7,
   "id": "7bb6af40",
   "metadata": {},
   "outputs": [],
   "source": [
    "loan_col= ['Debt collection','Mortgage','Student loan','Consumer Loan','Payday loan','Payday loan, title loan, or personal loan','Vehicle loan or lease','Bank account or service']"
   ]
  },
  {
   "cell_type": "code",
   "execution_count": 8,
   "id": "6b5f5a91",
   "metadata": {},
   "outputs": [],
   "source": [
    "df_l_c =df[df['product'].isin (loan_col)]"
   ]
  },
  {
   "cell_type": "code",
   "execution_count": 9,
   "id": "f95f24a2",
   "metadata": {},
   "outputs": [
    {
     "data": {
      "text/plain": [
       "(532928, 18)"
      ]
     },
     "execution_count": 9,
     "metadata": {},
     "output_type": "execute_result"
    }
   ],
   "source": [
    "df_l_c.shape"
   ]
  },
  {
   "cell_type": "code",
   "execution_count": 10,
   "id": "d741fd3d",
   "metadata": {},
   "outputs": [
    {
     "data": {
      "text/plain": [
       "<bound method NDFrame.head of                                                               1       \\\n",
       "date_received                                             04/19/2017   \n",
       "product                                              Debt collection   \n",
       "sub_product                    Other (i.e. phone, health club, etc.)   \n",
       "issue                                Disclosure verification of debt   \n",
       "sub_issue                     Not disclosed as an attempt to collect   \n",
       "consumer_complaint_narrative                                     NaN   \n",
       "company_public_response                                          NaN   \n",
       "company                                Security Credit Services, LLC   \n",
       "state                                                             IL   \n",
       "zip_code                                                       60643   \n",
       "tags                                                             NaN   \n",
       "consumer_consent_provided?                                       NaN   \n",
       "submitted_via                                                    Web   \n",
       "date_sent_to_company                                      04/20/2017   \n",
       "company_response_to_consumer                 Closed with explanation   \n",
       "timely_response?                                                 Yes   \n",
       "consumer_disputed?                                                No   \n",
       "complaint_id                                                 2441777   \n",
       "\n",
       "                                                                         3       \\\n",
       "date_received                                                        04/14/2017   \n",
       "product                                                                Mortgage   \n",
       "sub_product                                                      Other mortgage   \n",
       "issue                                  Loan modification,collection,foreclosure   \n",
       "sub_issue                                                                   NaN   \n",
       "consumer_complaint_narrative                                                NaN   \n",
       "company_public_response       Company believes it acted appropriately as aut...   \n",
       "company                                                Shellpoint Partners, LLC   \n",
       "state                                                                        CA   \n",
       "zip_code                                                                  90305   \n",
       "tags                                                                        NaN   \n",
       "consumer_consent_provided?                                                  NaN   \n",
       "submitted_via                                                          Referral   \n",
       "date_sent_to_company                                                 04/14/2017   \n",
       "company_response_to_consumer                            Closed with explanation   \n",
       "timely_response?                                                            Yes   \n",
       "consumer_disputed?                                                           No   \n",
       "complaint_id                                                            2436165   \n",
       "\n",
       "                                                             5       \\\n",
       "date_received                                            04/18/2017   \n",
       "product                                             Debt collection   \n",
       "sub_product                   Other (i.e. phone, health club, etc.)   \n",
       "issue                               Disclosure verification of debt   \n",
       "sub_issue                      Not given enough info to verify debt   \n",
       "consumer_complaint_narrative                                    NaN   \n",
       "company_public_response                                         NaN   \n",
       "company                                        Rubin & Rothman, LLC   \n",
       "state                                                            NY   \n",
       "zip_code                                                      14063   \n",
       "tags                                                            NaN   \n",
       "consumer_consent_provided?                                      NaN   \n",
       "submitted_via                                              Referral   \n",
       "date_sent_to_company                                     04/19/2017   \n",
       "company_response_to_consumer                            In progress   \n",
       "timely_response?                                                Yes   \n",
       "consumer_disputed?                                               No   \n",
       "complaint_id                                                2440364   \n",
       "\n",
       "                                                                6       \\\n",
       "date_received                                               04/18/2017   \n",
       "product                                                       Mortgage   \n",
       "sub_product                                             Other mortgage   \n",
       "issue                         Loan servicing, payments, escrow account   \n",
       "sub_issue                                                          NaN   \n",
       "consumer_complaint_narrative                                       NaN   \n",
       "company_public_response                                            NaN   \n",
       "company                                            QUICKEN LOANS, INC.   \n",
       "state                                                               FL   \n",
       "zip_code                                                         33772   \n",
       "tags                                                    Older American   \n",
       "consumer_consent_provided?                                         NaN   \n",
       "submitted_via                                                 Referral   \n",
       "date_sent_to_company                                        04/19/2017   \n",
       "company_response_to_consumer                               In progress   \n",
       "timely_response?                                                   Yes   \n",
       "consumer_disputed?                                                  No   \n",
       "complaint_id                                                   2441409   \n",
       "\n",
       "                                                                         7       \\\n",
       "date_received                                                        05/18/2016   \n",
       "product                                                                Mortgage   \n",
       "sub_product                                                      Other mortgage   \n",
       "issue                                  Loan modification,collection,foreclosure   \n",
       "sub_issue                                                                   NaN   \n",
       "consumer_complaint_narrative                                                NaN   \n",
       "company_public_response       Company has responded to the consumer and the ...   \n",
       "company                                  WELLS FARGO BANK, NATIONAL ASSOCIATION   \n",
       "state                                                                        NJ   \n",
       "zip_code                                                                   8618   \n",
       "tags                                                                        NaN   \n",
       "consumer_consent_provided?                                                  NaN   \n",
       "submitted_via                                                          Referral   \n",
       "date_sent_to_company                                                 05/23/2016   \n",
       "company_response_to_consumer                            Closed with explanation   \n",
       "timely_response?                                                            Yes   \n",
       "consumer_disputed?                                                           No   \n",
       "complaint_id                                                            1931957   \n",
       "\n",
       "                                                                         8       \\\n",
       "date_received                                                        03/17/2017   \n",
       "product                                                 Bank account or service   \n",
       "sub_product                                                    Checking account   \n",
       "issue                                  Making/receiving payments, sending money   \n",
       "sub_issue                                                                   NaN   \n",
       "consumer_complaint_narrative                                                NaN   \n",
       "company_public_response       Company believes it acted appropriately as aut...   \n",
       "company                                  UNITED SERVICES AUTOMOBILE ASSOCIATION   \n",
       "state                                                                        WI   \n",
       "zip_code                                                                  54005   \n",
       "tags                                                                        NaN   \n",
       "consumer_consent_provided?                                                  NaN   \n",
       "submitted_via                                                          Referral   \n",
       "date_sent_to_company                                                 03/20/2017   \n",
       "company_response_to_consumer                            Closed with explanation   \n",
       "timely_response?                                                            Yes   \n",
       "consumer_disputed?                                                           No   \n",
       "complaint_id                                                            2393048   \n",
       "\n",
       "                                                                         9       \\\n",
       "date_received                                                        11/18/2016   \n",
       "product                                                                Mortgage   \n",
       "sub_product                                         Conventional fixed mortgage   \n",
       "issue                                              Settlement process and costs   \n",
       "sub_issue                                                                   NaN   \n",
       "consumer_complaint_narrative  Started the refinance of home mortgage process...   \n",
       "company_public_response                                                     NaN   \n",
       "company                                          AMERICAN NEIGHBORHOOD MORTGAGE   \n",
       "state                                                                        NJ   \n",
       "zip_code                                                                  088XX   \n",
       "tags                                                                        NaN   \n",
       "consumer_consent_provided?                                     Consent provided   \n",
       "submitted_via                                                               Web   \n",
       "date_sent_to_company                                                 11/21/2016   \n",
       "company_response_to_consumer                        Closed with monetary relief   \n",
       "timely_response?                                                             No   \n",
       "consumer_disputed?                                                           No   \n",
       "complaint_id                                                            2216206   \n",
       "\n",
       "                                                              10      \\\n",
       "date_received                                             04/15/2017   \n",
       "product                                                 Student loan   \n",
       "sub_product                           Federal student loan servicing   \n",
       "issue                             Dealing with my lender or servicer   \n",
       "sub_issue                     Received bad information about my loan   \n",
       "consumer_complaint_narrative                                     NaN   \n",
       "company_public_response                                          NaN   \n",
       "company                                                    AES/PHEAA   \n",
       "state                                                             CA   \n",
       "zip_code                                                       946XX   \n",
       "tags                                                             NaN   \n",
       "consumer_consent_provided?                                       NaN   \n",
       "submitted_via                                                    Web   \n",
       "date_sent_to_company                                      04/15/2017   \n",
       "company_response_to_consumer                 Closed with explanation   \n",
       "timely_response?                                                 Yes   \n",
       "consumer_disputed?                                                No   \n",
       "complaint_id                                                 2436894   \n",
       "\n",
       "                                                             12      \\\n",
       "date_received                                            11/17/2016   \n",
       "product                                             Debt collection   \n",
       "sub_product                   Other (i.e. phone, health club, etc.)   \n",
       "issue                               Disclosure verification of debt   \n",
       "sub_issue                      Not given enough info to verify debt   \n",
       "consumer_complaint_narrative                                    NaN   \n",
       "company_public_response                                         NaN   \n",
       "company                                                   PMGI, LLC   \n",
       "state                                                            CA   \n",
       "zip_code                                                      92356   \n",
       "tags                                                            NaN   \n",
       "consumer_consent_provided?                                      NaN   \n",
       "submitted_via                                           Postal mail   \n",
       "date_sent_to_company                                     11/18/2016   \n",
       "company_response_to_consumer        Closed with non-monetary relief   \n",
       "timely_response?                                                 No   \n",
       "consumer_disputed?                                               No   \n",
       "complaint_id                                                2214174   \n",
       "\n",
       "                                                                13      ...  \\\n",
       "date_received                                               04/17/2017  ...   \n",
       "product                                                       Mortgage  ...   \n",
       "sub_product                     Conventional adjustable mortgage (ARM)  ...   \n",
       "issue                         Loan modification,collection,foreclosure  ...   \n",
       "sub_issue                                                          NaN  ...   \n",
       "consumer_complaint_narrative                                       NaN  ...   \n",
       "company_public_response                                            NaN  ...   \n",
       "company                                           Ditech Financial LLC  ...   \n",
       "state                                                               CA  ...   \n",
       "zip_code                                                         913XX  ...   \n",
       "tags                                                               NaN  ...   \n",
       "consumer_consent_provided?                                       Other  ...   \n",
       "submitted_via                                                      Web  ...   \n",
       "date_sent_to_company                                        04/18/2017  ...   \n",
       "company_response_to_consumer                   Closed with explanation  ...   \n",
       "timely_response?                                                   Yes  ...   \n",
       "consumer_disputed?                                                  No  ...   \n",
       "complaint_id                                                   2438698  ...   \n",
       "\n",
       "                                                                777948  \\\n",
       "date_received                                               07-01-2012   \n",
       "product                                                       Mortgage   \n",
       "sub_product                                Conventional fixed mortgage   \n",
       "issue                         Loan modification,collection,foreclosure   \n",
       "sub_issue                                                          NaN   \n",
       "consumer_complaint_narrative                                       NaN   \n",
       "company_public_response                                            NaN   \n",
       "company                          BANK OF AMERICA, NATIONAL ASSOCIATION   \n",
       "state                                                               DC   \n",
       "zip_code                                                         20002   \n",
       "tags                                                               NaN   \n",
       "consumer_consent_provided?                                         NaN   \n",
       "submitted_via                                                      Web   \n",
       "date_sent_to_company                                        07-06-2012   \n",
       "company_response_to_consumer                   Closed with explanation   \n",
       "timely_response?                                                   Yes   \n",
       "consumer_disputed?                                                 Yes   \n",
       "complaint_id                                                    110718   \n",
       "\n",
       "                                                                777949  \\\n",
       "date_received                                               03-06-2012   \n",
       "product                                                       Mortgage   \n",
       "sub_product                                Conventional fixed mortgage   \n",
       "issue                         Loan servicing, payments, escrow account   \n",
       "sub_issue                                                          NaN   \n",
       "consumer_complaint_narrative                                       NaN   \n",
       "company_public_response                                            NaN   \n",
       "company                                       OCWEN LOAN SERVICING LLC   \n",
       "state                                                               OH   \n",
       "zip_code                                                         44143   \n",
       "tags                                                               NaN   \n",
       "consumer_consent_provided?                                         NaN   \n",
       "submitted_via                                                      Web   \n",
       "date_sent_to_company                                        03/23/2012   \n",
       "company_response_to_consumer                     Closed without relief   \n",
       "timely_response?                                                   Yes   \n",
       "consumer_disputed?                                                  No   \n",
       "complaint_id                                                     30671   \n",
       "\n",
       "                                                                777950  \\\n",
       "date_received                                               07/26/2013   \n",
       "product                                                       Mortgage   \n",
       "sub_product                                               FHA mortgage   \n",
       "issue                         Loan servicing, payments, escrow account   \n",
       "sub_issue                                                          NaN   \n",
       "consumer_complaint_narrative                                       NaN   \n",
       "company_public_response                                            NaN   \n",
       "company                                                 CITIBANK, N.A.   \n",
       "state                                                               NC   \n",
       "zip_code                                                         28056   \n",
       "tags                                                               NaN   \n",
       "consumer_consent_provided?                                         NaN   \n",
       "submitted_via                                                      Web   \n",
       "date_sent_to_company                                        07/29/2013   \n",
       "company_response_to_consumer                   Closed with explanation   \n",
       "timely_response?                                                   Yes   \n",
       "consumer_disputed?                                                  No   \n",
       "complaint_id                                                    467750   \n",
       "\n",
       "                                                        777951  \\\n",
       "date_received                                       09/26/2014   \n",
       "product                                          Consumer Loan   \n",
       "sub_product                                       Vehicle loan   \n",
       "issue                               Managing the loan or lease   \n",
       "sub_issue                                                  NaN   \n",
       "consumer_complaint_narrative                               NaN   \n",
       "company_public_response                                    NaN   \n",
       "company                       HSBC NORTH AMERICA HOLDINGS INC.   \n",
       "state                                                       NY   \n",
       "zip_code                                                 12572   \n",
       "tags                                                       NaN   \n",
       "consumer_consent_provided?                                 NaN   \n",
       "submitted_via                                              Web   \n",
       "date_sent_to_company                                09/26/2014   \n",
       "company_response_to_consumer           Closed with explanation   \n",
       "timely_response?                                           Yes   \n",
       "consumer_disputed?                                          No   \n",
       "complaint_id                                           1046323   \n",
       "\n",
       "                                                                         777952  \\\n",
       "date_received                                                        04/19/2016   \n",
       "product                                                 Bank account or service   \n",
       "sub_product                                                    Checking account   \n",
       "issue                                                  Deposits and withdrawals   \n",
       "sub_issue                                                                   NaN   \n",
       "consumer_complaint_narrative                                                NaN   \n",
       "company_public_response       Company has responded to the consumer and the ...   \n",
       "company                                   BANK OF AMERICA, NATIONAL ASSOCIATION   \n",
       "state                                                                        MA   \n",
       "zip_code                                                                   2724   \n",
       "tags                                                                        NaN   \n",
       "consumer_consent_provided?                                                  NaN   \n",
       "submitted_via                                                          Referral   \n",
       "date_sent_to_company                                                 04/21/2016   \n",
       "company_response_to_consumer                        Closed with monetary relief   \n",
       "timely_response?                                                            Yes   \n",
       "consumer_disputed?                                                           No   \n",
       "complaint_id                                                            1887605   \n",
       "\n",
       "                                                             777953  \\\n",
       "date_received                                            01/22/2016   \n",
       "product                                             Debt collection   \n",
       "sub_product                   Other (i.e. phone, health club, etc.)   \n",
       "issue                               Disclosure verification of debt   \n",
       "sub_issue                      Not given enough info to verify debt   \n",
       "consumer_complaint_narrative                                    NaN   \n",
       "company_public_response                                         NaN   \n",
       "company                                        JPMORGAN CHASE & CO.   \n",
       "state                                                            IA   \n",
       "zip_code                                                      50311   \n",
       "tags                                                            NaN   \n",
       "consumer_consent_provided?                                      NaN   \n",
       "submitted_via                                              Referral   \n",
       "date_sent_to_company                                     01/25/2016   \n",
       "company_response_to_consumer                Closed with explanation   \n",
       "timely_response?                                                Yes   \n",
       "consumer_disputed?                                               No   \n",
       "complaint_id                                                1754648   \n",
       "\n",
       "                                                                777955  \\\n",
       "date_received                                               06/28/2013   \n",
       "product                                                       Mortgage   \n",
       "sub_product                                             Other mortgage   \n",
       "issue                         Loan servicing, payments, escrow account   \n",
       "sub_issue                                                          NaN   \n",
       "consumer_complaint_narrative                                       NaN   \n",
       "company_public_response                                            NaN   \n",
       "company                                        ARVEST BANK GROUP, INC.   \n",
       "state                                                               NY   \n",
       "zip_code                                                         11423   \n",
       "tags                                                               NaN   \n",
       "consumer_consent_provided?                                         NaN   \n",
       "submitted_via                                                 Referral   \n",
       "date_sent_to_company                                        07-02-2013   \n",
       "company_response_to_consumer                   Closed with explanation   \n",
       "timely_response?                                                   Yes   \n",
       "consumer_disputed?                                                  No   \n",
       "complaint_id                                                    445400   \n",
       "\n",
       "                                                                777956  \\\n",
       "date_received                                               02/13/2013   \n",
       "product                                                       Mortgage   \n",
       "sub_product                                             Other mortgage   \n",
       "issue                         Loan modification,collection,foreclosure   \n",
       "sub_issue                                                          NaN   \n",
       "consumer_complaint_narrative                                       NaN   \n",
       "company_public_response                                            NaN   \n",
       "company                          BANK OF AMERICA, NATIONAL ASSOCIATION   \n",
       "state                                                               DE   \n",
       "zip_code                                                         19803   \n",
       "tags                                                               NaN   \n",
       "consumer_consent_provided?                                         NaN   \n",
       "submitted_via                                                 Referral   \n",
       "date_sent_to_company                                        02/15/2013   \n",
       "company_response_to_consumer           Closed with non-monetary relief   \n",
       "timely_response?                                                   Yes   \n",
       "consumer_disputed?                                                  No   \n",
       "complaint_id                                                    317273   \n",
       "\n",
       "                                                                777957  \\\n",
       "date_received                                               09/15/2014   \n",
       "product                                                       Mortgage   \n",
       "sub_product                     Conventional adjustable mortgage (ARM)   \n",
       "issue                         Loan servicing, payments, escrow account   \n",
       "sub_issue                                                          NaN   \n",
       "consumer_complaint_narrative                                       NaN   \n",
       "company_public_response                                            NaN   \n",
       "company                                           Ditech Financial LLC   \n",
       "state                                                               MO   \n",
       "zip_code                                                         64053   \n",
       "tags                                                               NaN   \n",
       "consumer_consent_provided?                                         NaN   \n",
       "submitted_via                                                      Web   \n",
       "date_sent_to_company                                        09/19/2014   \n",
       "company_response_to_consumer                   Closed with explanation   \n",
       "timely_response?                                                   Yes   \n",
       "consumer_disputed?                                                 Yes   \n",
       "complaint_id                                                   1029658   \n",
       "\n",
       "                                                                777958  \n",
       "date_received                                               06/18/2013  \n",
       "product                                                       Mortgage  \n",
       "sub_product                                Conventional fixed mortgage  \n",
       "issue                         Loan servicing, payments, escrow account  \n",
       "sub_issue                                                          NaN  \n",
       "consumer_complaint_narrative                                       NaN  \n",
       "company_public_response                                            NaN  \n",
       "company                          BANK OF AMERICA, NATIONAL ASSOCIATION  \n",
       "state                                                               FL  \n",
       "zip_code                                                         32536  \n",
       "tags                                                               NaN  \n",
       "consumer_consent_provided?                                         NaN  \n",
       "submitted_via                                                      Web  \n",
       "date_sent_to_company                                        06/19/2013  \n",
       "company_response_to_consumer           Closed with non-monetary relief  \n",
       "timely_response?                                                   Yes  \n",
       "consumer_disputed?                                                  No  \n",
       "complaint_id                                                    435354  \n",
       "\n",
       "[18 rows x 532928 columns]>"
      ]
     },
     "execution_count": 10,
     "metadata": {},
     "output_type": "execute_result"
    }
   ],
   "source": [
    "df_l_c.T.head"
   ]
  },
  {
   "cell_type": "code",
   "execution_count": 11,
   "id": "e681a7eb",
   "metadata": {},
   "outputs": [
    {
     "data": {
      "text/plain": [
       "date_received                        0\n",
       "product                              0\n",
       "sub_product                       5543\n",
       "issue                                0\n",
       "sub_issue                       357356\n",
       "consumer_complaint_narrative    426787\n",
       "company_public_response         414104\n",
       "company                              0\n",
       "state                             4320\n",
       "zip_code                          4352\n",
       "tags                            456926\n",
       "consumer_consent_provided?      348501\n",
       "submitted_via                        0\n",
       "date_sent_to_company                 0\n",
       "company_response_to_consumer         0\n",
       "timely_response?                     0\n",
       "consumer_disputed?                4351\n",
       "complaint_id                         0\n",
       "dtype: int64"
      ]
     },
     "execution_count": 11,
     "metadata": {},
     "output_type": "execute_result"
    }
   ],
   "source": [
    "df_l_c.isnull().sum()"
   ]
  },
  {
   "cell_type": "code",
   "execution_count": 12,
   "id": "da7ee9fd",
   "metadata": {},
   "outputs": [
    {
     "name": "stderr",
     "output_type": "stream",
     "text": [
      "C:\\Users\\dall\\AppData\\Local\\Temp\\ipykernel_7988\\1347063932.py:1: SettingWithCopyWarning: \n",
      "A value is trying to be set on a copy of a slice from a DataFrame.\n",
      "Try using .loc[row_indexer,col_indexer] = value instead\n",
      "\n",
      "See the caveats in the documentation: https://pandas.pydata.org/pandas-docs/stable/user_guide/indexing.html#returning-a-view-versus-a-copy\n",
      "  df_l_c.sub_product=df_l_c.sub_product.str.replace(\" \",\"_\")\n",
      "C:\\Users\\dall\\AppData\\Local\\Temp\\ipykernel_7988\\1347063932.py:2: SettingWithCopyWarning: \n",
      "A value is trying to be set on a copy of a slice from a DataFrame.\n",
      "Try using .loc[row_indexer,col_indexer] = value instead\n",
      "\n",
      "See the caveats in the documentation: https://pandas.pydata.org/pandas-docs/stable/user_guide/indexing.html#returning-a-view-versus-a-copy\n",
      "  df_l_c.sub_product=df_l_c.sub_product.str.lower()\n"
     ]
    }
   ],
   "source": [
    "df_l_c.sub_product=df_l_c.sub_product.str.replace(\" \",\"_\")\n",
    "df_l_c.sub_product=df_l_c.sub_product.str.lower()"
   ]
  },
  {
   "cell_type": "code",
   "execution_count": 13,
   "id": "c3c557ec",
   "metadata": {},
   "outputs": [
    {
     "data": {
      "text/plain": [
       "array(['other_(i.e._phone,_health_club,_etc.)', 'other_mortgage',\n",
       "       'checking_account', 'conventional_fixed_mortgage',\n",
       "       'federal_student_loan_servicing',\n",
       "       'conventional_adjustable_mortgage_(arm)',\n",
       "       '(cd)_certificate_of_deposit', 'other_bank_product/service',\n",
       "       'non-federal_student_loan', 'vehicle_loan', 'installment_loan',\n",
       "       'payday_loan', 'auto', 'credit_card', 'fha_mortgage', 'medical',\n",
       "       'home_equity_loan_or_line_of_credit', 'mortgage', 'i_do_not_know',\n",
       "       'vehicle_lease', 'savings_account', 'pawn_loan',\n",
       "       'cashing_a_check_without_an_account', 'personal_line_of_credit',\n",
       "       'federal_student_loan', nan, 'other_type_of_mortgage',\n",
       "       'reverse_mortgage', 'va_mortgage', 'title_loan',\n",
       "       'conventional_home_mortgage', 'medical_debt', 'credit_card_debt',\n",
       "       'other_debt', 'payday_loan_debt', 'private_student_loan_debt',\n",
       "       'federal_student_loan_debt', 'loan', 'mortgage_debt', 'auto_debt',\n",
       "       'home_equity_loan_or_line_of_credit_(heloc)', 'lease',\n",
       "       'private_student_loan', 'second_mortgage'], dtype=object)"
      ]
     },
     "execution_count": 13,
     "metadata": {},
     "output_type": "execute_result"
    }
   ],
   "source": [
    "df_l_c.sub_product.unique()"
   ]
  },
  {
   "cell_type": "code",
   "execution_count": 14,
   "id": "8c00850d",
   "metadata": {},
   "outputs": [],
   "source": [
    "# for i in loan_col:\n",
    "#     print(df_l_c[df_l_c[df['product'] is i]].sub_product)"
   ]
  },
  {
   "cell_type": "code",
   "execution_count": 15,
   "id": "2643895e",
   "metadata": {},
   "outputs": [
    {
     "data": {
      "text/plain": [
       "array(['vehicle_loan', 'installment_loan', 'vehicle_lease', 'pawn_loan',\n",
       "       'personal_line_of_credit', 'title_loan'], dtype=object)"
      ]
     },
     "execution_count": 15,
     "metadata": {},
     "output_type": "execute_result"
    }
   ],
   "source": [
    "df_l_c[df_l_c['product'] == 'Consumer Loan'].sub_product.unique()"
   ]
  },
  {
   "cell_type": "code",
   "execution_count": 16,
   "id": "64e4d84e",
   "metadata": {},
   "outputs": [],
   "source": [
    "sub_arr= df_l_c['sub_product'].unique()"
   ]
  },
  {
   "cell_type": "code",
   "execution_count": 17,
   "id": "d50afdb6",
   "metadata": {},
   "outputs": [
    {
     "data": {
      "text/plain": [
       "array(['other_(i.e._phone,_health_club,_etc.)', 'other_mortgage',\n",
       "       'checking_account', 'conventional_fixed_mortgage',\n",
       "       'federal_student_loan_servicing',\n",
       "       'conventional_adjustable_mortgage_(arm)',\n",
       "       '(cd)_certificate_of_deposit', 'other_bank_product/service',\n",
       "       'non-federal_student_loan', 'vehicle_loan', 'installment_loan',\n",
       "       'payday_loan', 'auto', 'credit_card', 'fha_mortgage', 'medical',\n",
       "       'home_equity_loan_or_line_of_credit', 'mortgage', 'i_do_not_know',\n",
       "       'vehicle_lease', 'savings_account', 'pawn_loan',\n",
       "       'cashing_a_check_without_an_account', 'personal_line_of_credit',\n",
       "       'federal_student_loan', nan, 'other_type_of_mortgage',\n",
       "       'reverse_mortgage', 'va_mortgage', 'title_loan',\n",
       "       'conventional_home_mortgage', 'medical_debt', 'credit_card_debt',\n",
       "       'other_debt', 'payday_loan_debt', 'private_student_loan_debt',\n",
       "       'federal_student_loan_debt', 'loan', 'mortgage_debt', 'auto_debt',\n",
       "       'home_equity_loan_or_line_of_credit_(heloc)', 'lease',\n",
       "       'private_student_loan', 'second_mortgage'], dtype=object)"
      ]
     },
     "execution_count": 17,
     "metadata": {},
     "output_type": "execute_result"
    }
   ],
   "source": [
    "sub_arr"
   ]
  },
  {
   "cell_type": "code",
   "execution_count": 18,
   "id": "960dd412",
   "metadata": {},
   "outputs": [
    {
     "data": {
      "text/plain": [
       "Mortgage                                                                        228167\n",
       "Debt collection                                                                 148016\n",
       "Credit reporting                                                                140405\n",
       "Credit card                                                                      89189\n",
       "Bank account or service                                                          86206\n",
       "Student loan                                                                     33044\n",
       "Consumer Loan                                                                    31591\n",
       "Payday loan                                                                       5543\n",
       "Money transfers                                                                   5355\n",
       "Prepaid card                                                                      3817\n",
       "Credit reporting, credit repair services, or other personal consumer reports      3490\n",
       "Other financial service                                                           1051\n",
       "Credit card or prepaid card                                                        919\n",
       "Checking or savings account                                                        664\n",
       "Vehicle loan or lease                                                              221\n",
       "Payday loan, title loan, or personal loan                                          140\n",
       "Money transfer, virtual currency, or money service                                 123\n",
       "Virtual currency                                                                    18\n",
       "Name: product, dtype: int64"
      ]
     },
     "execution_count": 18,
     "metadata": {},
     "output_type": "execute_result"
    }
   ],
   "source": [
    "df['product'].value_counts()"
   ]
  },
  {
   "cell_type": "code",
   "execution_count": null,
   "id": "0472ae57",
   "metadata": {},
   "outputs": [],
   "source": []
  },
  {
   "cell_type": "code",
   "execution_count": 19,
   "id": "316253c8",
   "metadata": {},
   "outputs": [
    {
     "data": {
      "text/plain": [
       "18"
      ]
     },
     "execution_count": 19,
     "metadata": {},
     "output_type": "execute_result"
    }
   ],
   "source": [
    "\n",
    "df['product'].nunique()"
   ]
  },
  {
   "cell_type": "code",
   "execution_count": 20,
   "id": "be2800ef",
   "metadata": {
    "scrolled": true
   },
   "outputs": [],
   "source": [
    "issue= df_l_c.issue.unique()"
   ]
  },
  {
   "cell_type": "code",
   "execution_count": 21,
   "id": "8f500dfe",
   "metadata": {},
   "outputs": [],
   "source": [
    "a= ['Debt collection', 'Mortgage', 'Student loan','Consumer Loan','Payday loan',\n",
    "         'Payday loan, title loan, or personal loan','Vehicle loan or lease','Bank account or service']"
   ]
  },
  {
   "cell_type": "code",
   "execution_count": 22,
   "id": "e5373414",
   "metadata": {},
   "outputs": [],
   "source": [
    "sub_prod=['other_(i.e._phone,_health_club,_etc.)', 'other_mortgage',\n",
    "       'conventional_fixed_mortgage', 'federal_student_loan_servicing',\n",
    "       'conventional_adjustable_mortgage_(arm)',\n",
    "       'non-federal_student_loan', 'vehicle_loan', 'installment_loan',\n",
    "       'payday_loan', 'auto', 'credit_card', 'fha_mortgage', 'medical',\n",
    "       'home_equity_loan_or_line_of_credit', 'mortgage', 'i_do_not_know',\n",
    "       'vehicle_lease', 'pawn_loan', 'personal_line_of_credit',\n",
    "       'federal_student_loan', 'nan', 'other_type_of_mortgage',\n",
    "       'reverse_mortgage', 'va_mortgage', 'title_loan',\n",
    "       'conventional_home_mortgage', 'medical_debt', 'credit_card_debt',\n",
    "       'other_debt', 'payday_loan_debt', 'private_student_loan_debt',\n",
    "       'federal_student_loan_debt', 'loan', 'mortgage_debt', 'auto_debt',\n",
    "       'home_equity_loan_or_line_of_credit_(heloc)', 'lease',\n",
    "       'private_student_loan', 'second_mortgage']"
   ]
  },
  {
   "cell_type": "code",
   "execution_count": 23,
   "id": "027633a7",
   "metadata": {},
   "outputs": [],
   "source": [
    "def product_subproduct(b):    \n",
    "    fig = plt.figure()\n",
    "    plt.yticks(fontsize = 20)\n",
    "    fig.set_figheight(10)\n",
    "    fig.set_figwidth(15)\n",
    "    y_axis= df_l_c[df_l_c['product'] == b].sub_product.value_counts()\n",
    "    print(df_l_c[df_l_c['product'] == b].sub_product.value_counts())\n",
    "    x_axis= df_l_c[df_l_c['product'] == b].sub_product.unique()\n",
    "    plt.barh(x_axis,y_axis)\n",
    "\n"
   ]
  },
  {
   "cell_type": "code",
   "execution_count": 24,
   "id": "03af48d4",
   "metadata": {},
   "outputs": [],
   "source": [
    "def product_issue(b):\n",
    "    fig = plt.figure()\n",
    "    plt.yticks(fontsize = 20)\n",
    "    fig.set_figheight(10)\n",
    "    fig.set_figwidth(15)\n",
    "    y_axis= df_l_c[df_l_c['product'] == b].issue.value_counts()\n",
    "    print(df_l_c[df_l_c['product'] == b].issue.value_counts())\n",
    "    x_axis= df_l_c[df_l_c['product'] == b].issue.unique()\n",
    "    plt.barh(x_axis,y_axis)\n",
    "    "
   ]
  },
  {
   "cell_type": "code",
   "execution_count": 40,
   "id": "075eecf3",
   "metadata": {},
   "outputs": [],
   "source": [
    "def sub_product_issue(sub):\n",
    "    fig = plt.figure()\n",
    "    plt.yticks(fontsize = 20)\n",
    "    fig.set_figheight(10)\n",
    "    fig.set_figwidth(15)\n",
    "    y_axis= df_l_c[df_l_c['sub_product'] == sub].issue.value_counts()\n",
    "    print(df_l_c[df_l_c['sub_product'] == sub].issue.value_counts())\n",
    "    x_axis= df_l_c[df_l_c['sub_product'] == sub].issue.unique()\n",
    "    p1=plt.barh(x_axis,y_axis)\n",
    "    plt.show()"
   ]
  },
  {
   "cell_type": "code",
   "execution_count": 41,
   "id": "f7c9d990",
   "metadata": {},
   "outputs": [],
   "source": [
    "def issue_sub_issue(sub1):\n",
    "    fig = plt.figure()\n",
    "    plt.yticks(fontsize = 20)\n",
    "    fig.set_figheight(10)\n",
    "    fig.set_figwidth(15)\n",
    "    y_axis= df_l_c[df_l_c['issue'] == sub1].sub_issue.value_counts()\n",
    "    print(df_l_c[df_l_c['issue'] == sub1].sub_issue.value_counts())\n",
    "    x_axis= df_l_c[df_l_c['issue'] == sub1].sub_issue.unique()\n",
    "    p1=plt.barh(x_axis,y_axis)\n",
    "    plt.show()"
   ]
  },
  {
   "cell_type": "code",
   "execution_count": 42,
   "id": "0f916e74",
   "metadata": {},
   "outputs": [
    {
     "data": {
      "application/vnd.jupyter.widget-view+json": {
       "model_id": "6158ab39d63f4ee181f0f6fdd5ded697",
       "version_major": 2,
       "version_minor": 0
      },
      "text/plain": [
       "interactive(children=(Dropdown(description='b', options=('Debt collection', 'Mortgage', 'Student loan', 'Consu…"
      ]
     },
     "metadata": {},
     "output_type": "display_data"
    },
    {
     "data": {
      "text/plain": [
       "<function __main__.product_subproduct(b)>"
      ]
     },
     "execution_count": 42,
     "metadata": {},
     "output_type": "execute_result"
    }
   ],
   "source": [
    "#product to sub_product\n",
    "widgets.interact(product_subproduct,b=a)"
   ]
  },
  {
   "cell_type": "code",
   "execution_count": 43,
   "id": "5e1f8ea4",
   "metadata": {},
   "outputs": [
    {
     "data": {
      "application/vnd.jupyter.widget-view+json": {
       "model_id": "154b303b43eb45abb4dbf4ac9984d6de",
       "version_major": 2,
       "version_minor": 0
      },
      "text/plain": [
       "interactive(children=(Dropdown(description='sub', options=('other_(i.e._phone,_health_club,_etc.)', 'other_mor…"
      ]
     },
     "metadata": {},
     "output_type": "display_data"
    }
   ],
   "source": [
    "#sub_product to Issues\n",
    "widgets.interactive(sub_product_issue,sub=sub_prod)"
   ]
  },
  {
   "cell_type": "code",
   "execution_count": 44,
   "id": "b146187f",
   "metadata": {},
   "outputs": [
    {
     "data": {
      "application/vnd.jupyter.widget-view+json": {
       "model_id": "5f4a5628765544df8477b784d53a08ad",
       "version_major": 2,
       "version_minor": 0
      },
      "text/plain": [
       "interactive(children=(Dropdown(description='b', options=('Debt collection', 'Mortgage', 'Student loan', 'Consu…"
      ]
     },
     "metadata": {},
     "output_type": "display_data"
    }
   ],
   "source": [
    "#product to Issues\n",
    "widgets.interactive(product_issue,b=a)"
   ]
  },
  {
   "cell_type": "code",
   "execution_count": 45,
   "id": "dcb5db57",
   "metadata": {},
   "outputs": [
    {
     "data": {
      "application/vnd.jupyter.widget-view+json": {
       "model_id": "6d9772a24a1d452a84932e09009fc393",
       "version_major": 2,
       "version_minor": 0
      },
      "text/plain": [
       "interactive(children=(Dropdown(description='sub1', options=('Disclosure verification of debt', 'Loan modificat…"
      ]
     },
     "metadata": {},
     "output_type": "display_data"
    }
   ],
   "source": [
    "widgets.interactive(issue_sub_issue,sub1=issue)"
   ]
  },
  {
   "cell_type": "code",
   "execution_count": 46,
   "id": "dafca906",
   "metadata": {},
   "outputs": [
    {
     "data": {
      "text/plain": [
       "array(['Loan modification,collection,foreclosure',\n",
       "       'Loan servicing, payments, escrow account',\n",
       "       'Settlement process and costs', 'Other',\n",
       "       'Application, originator, mortgage broker',\n",
       "       'Struggling to pay mortgage', 'Credit decision / Underwriting',\n",
       "       'Trouble during payment process',\n",
       "       'Applying for a mortgage or refinancing an existing mortgage',\n",
       "       'Closing on a mortgage', 'Incorrect information on your report',\n",
       "       \"Problem with a credit reporting company's investigation into an existing problem\",\n",
       "       'Credit monitoring or identity theft protection services',\n",
       "       'Applying for a mortgage',\n",
       "       'Unable to get your credit report or credit score'], dtype=object)"
      ]
     },
     "execution_count": 46,
     "metadata": {},
     "output_type": "execute_result"
    }
   ],
   "source": [
    "df_l_c[df_l_c['product'] =='Mortgage'].issue.unique()"
   ]
  },
  {
   "cell_type": "code",
   "execution_count": 47,
   "id": "633017ab",
   "metadata": {},
   "outputs": [
    {
     "data": {
      "text/plain": [
       "Index(['date_received', 'product', 'sub_product', 'issue', 'sub_issue',\n",
       "       'consumer_complaint_narrative', 'company_public_response', 'company',\n",
       "       'state', 'zip_code', 'tags', 'consumer_consent_provided?',\n",
       "       'submitted_via', 'date_sent_to_company', 'company_response_to_consumer',\n",
       "       'timely_response?', 'consumer_disputed?', 'complaint_id'],\n",
       "      dtype='object')"
      ]
     },
     "execution_count": 47,
     "metadata": {},
     "output_type": "execute_result"
    }
   ],
   "source": [
    "df_l_c.columns\n"
   ]
  },
  {
   "cell_type": "code",
   "execution_count": 48,
   "id": "adc31f3e",
   "metadata": {},
   "outputs": [],
   "source": [
    "colls=['product','sub_product']"
   ]
  },
  {
   "cell_type": "code",
   "execution_count": null,
   "id": "91e674d8",
   "metadata": {},
   "outputs": [],
   "source": []
  },
  {
   "cell_type": "code",
   "execution_count": 49,
   "id": "638480ac",
   "metadata": {},
   "outputs": [
    {
     "data": {
      "text/plain": [
       "product                                    sub_product                               \n",
       "Bank account or service                    checking_account                              0.684964\n",
       "                                           other_bank_product/service                    0.206726\n",
       "                                           savings_account                               0.061423\n",
       "                                           (cd)_certificate_of_deposit                   0.039638\n",
       "                                           cashing_a_check_without_an_account            0.007250\n",
       "Consumer Loan                              vehicle_loan                                  0.562534\n",
       "                                           installment_loan                              0.275363\n",
       "                                           vehicle_lease                                 0.084043\n",
       "                                           personal_line_of_credit                       0.057770\n",
       "                                           title_loan                                    0.017315\n",
       "                                           pawn_loan                                     0.002976\n",
       "Debt collection                            other_(i.e._phone,_health_club,_etc.)         0.300873\n",
       "                                           i_do_not_know                                 0.204883\n",
       "                                           credit_card                                   0.193884\n",
       "                                           medical                                       0.143241\n",
       "                                           payday_loan                                   0.051163\n",
       "                                           mortgage                                      0.032483\n",
       "                                           auto                                          0.025355\n",
       "                                           non-federal_student_loan                      0.019464\n",
       "                                           federal_student_loan                          0.016721\n",
       "                                           other_debt                                    0.004506\n",
       "                                           medical_debt                                  0.003175\n",
       "                                           credit_card_debt                              0.002202\n",
       "                                           payday_loan_debt                              0.000628\n",
       "                                           auto_debt                                     0.000486\n",
       "                                           federal_student_loan_debt                     0.000331\n",
       "                                           mortgage_debt                                 0.000324\n",
       "                                           private_student_loan_debt                     0.000277\n",
       "Mortgage                                   other_mortgage                                0.379643\n",
       "                                           conventional_fixed_mortgage                   0.309453\n",
       "                                           conventional_adjustable_mortgage_(arm)        0.111243\n",
       "                                           fha_mortgage                                  0.108793\n",
       "                                           home_equity_loan_or_line_of_credit            0.050963\n",
       "                                           va_mortgage                                   0.022996\n",
       "                                           reverse_mortgage                              0.009340\n",
       "                                           conventional_home_mortgage                    0.003182\n",
       "                                           second_mortgage                               0.002901\n",
       "                                           other_type_of_mortgage                        0.001074\n",
       "                                           home_equity_loan_or_line_of_credit_(heloc)    0.000412\n",
       "Payday loan, title loan, or personal loan  installment_loan                              0.364286\n",
       "                                           personal_line_of_credit                       0.278571\n",
       "                                           payday_loan                                   0.250000\n",
       "                                           title_loan                                    0.107143\n",
       "Student loan                               non-federal_student_loan                      0.674253\n",
       "                                           federal_student_loan_servicing                0.318908\n",
       "                                           private_student_loan                          0.006839\n",
       "Vehicle loan or lease                      loan                                          0.846154\n",
       "                                           lease                                         0.153846\n",
       "Name: sub_product, dtype: float64"
      ]
     },
     "execution_count": 49,
     "metadata": {},
     "output_type": "execute_result"
    }
   ],
   "source": [
    "df_l_c.groupby('product').sub_product.value_counts(normalize =True)"
   ]
  },
  {
   "cell_type": "code",
   "execution_count": 50,
   "id": "9bcf98c0",
   "metadata": {},
   "outputs": [
    {
     "data": {
      "text/plain": [
       "product                  issue                                                                           \n",
       "Bank account or service  Account opening, closing, or management                                             0.440364\n",
       "                         Deposits and withdrawals                                                            0.265063\n",
       "                         Problems caused by my funds being low                                               0.137403\n",
       "                         Making/receiving payments, sending money                                            0.085887\n",
       "                         Using a debit or ATM card                                                           0.071283\n",
       "                                                                                                               ...   \n",
       "Vehicle loan or lease    Problems at the end of the loan or lease                                            0.199095\n",
       "                         Getting a loan or lease                                                             0.085973\n",
       "                         Incorrect information on your report                                                0.076923\n",
       "                         Problem with a credit reporting company's investigation into an existing problem    0.027149\n",
       "                         Credit monitoring or identity theft protection services                             0.004525\n",
       "Name: issue, Length: 92, dtype: float64"
      ]
     },
     "execution_count": 50,
     "metadata": {},
     "output_type": "execute_result"
    }
   ],
   "source": [
    "df_l_c.groupby(['product']).issue.value_counts(normalize =True)"
   ]
  },
  {
   "cell_type": "code",
   "execution_count": 51,
   "id": "49f7dcfb",
   "metadata": {},
   "outputs": [
    {
     "data": {
      "text/html": [
       "<div>\n",
       "<style scoped>\n",
       "    .dataframe tbody tr th:only-of-type {\n",
       "        vertical-align: middle;\n",
       "    }\n",
       "\n",
       "    .dataframe tbody tr th {\n",
       "        vertical-align: top;\n",
       "    }\n",
       "\n",
       "    .dataframe thead th {\n",
       "        text-align: right;\n",
       "    }\n",
       "</style>\n",
       "<table border=\"1\" class=\"dataframe\">\n",
       "  <thead>\n",
       "    <tr style=\"text-align: right;\">\n",
       "      <th></th>\n",
       "      <th>date_received</th>\n",
       "      <th>sub_product</th>\n",
       "      <th>issue</th>\n",
       "      <th>sub_issue</th>\n",
       "      <th>consumer_complaint_narrative</th>\n",
       "      <th>company_public_response</th>\n",
       "      <th>company</th>\n",
       "      <th>state</th>\n",
       "      <th>zip_code</th>\n",
       "      <th>tags</th>\n",
       "      <th>consumer_consent_provided?</th>\n",
       "      <th>submitted_via</th>\n",
       "      <th>date_sent_to_company</th>\n",
       "      <th>company_response_to_consumer</th>\n",
       "      <th>timely_response?</th>\n",
       "      <th>consumer_disputed?</th>\n",
       "      <th>complaint_id</th>\n",
       "    </tr>\n",
       "    <tr>\n",
       "      <th>product</th>\n",
       "      <th></th>\n",
       "      <th></th>\n",
       "      <th></th>\n",
       "      <th></th>\n",
       "      <th></th>\n",
       "      <th></th>\n",
       "      <th></th>\n",
       "      <th></th>\n",
       "      <th></th>\n",
       "      <th></th>\n",
       "      <th></th>\n",
       "      <th></th>\n",
       "      <th></th>\n",
       "      <th></th>\n",
       "      <th></th>\n",
       "      <th></th>\n",
       "      <th></th>\n",
       "    </tr>\n",
       "  </thead>\n",
       "  <tbody>\n",
       "    <tr>\n",
       "      <th>Bank account or service</th>\n",
       "      <td>86206</td>\n",
       "      <td>86206</td>\n",
       "      <td>86206</td>\n",
       "      <td>0</td>\n",
       "      <td>14500</td>\n",
       "      <td>24013</td>\n",
       "      <td>86206</td>\n",
       "      <td>84650</td>\n",
       "      <td>84643</td>\n",
       "      <td>11826</td>\n",
       "      <td>23443</td>\n",
       "      <td>86206</td>\n",
       "      <td>86206</td>\n",
       "      <td>86206</td>\n",
       "      <td>86206</td>\n",
       "      <td>86206</td>\n",
       "      <td>86206</td>\n",
       "    </tr>\n",
       "    <tr>\n",
       "      <th>Consumer Loan</th>\n",
       "      <td>31591</td>\n",
       "      <td>31591</td>\n",
       "      <td>31591</td>\n",
       "      <td>0</td>\n",
       "      <td>9029</td>\n",
       "      <td>7707</td>\n",
       "      <td>31591</td>\n",
       "      <td>31411</td>\n",
       "      <td>31411</td>\n",
       "      <td>5225</td>\n",
       "      <td>14705</td>\n",
       "      <td>31591</td>\n",
       "      <td>31591</td>\n",
       "      <td>31591</td>\n",
       "      <td>31591</td>\n",
       "      <td>31591</td>\n",
       "      <td>31591</td>\n",
       "    </tr>\n",
       "    <tr>\n",
       "      <th>Debt collection</th>\n",
       "      <td>148016</td>\n",
       "      <td>148016</td>\n",
       "      <td>148016</td>\n",
       "      <td>148016</td>\n",
       "      <td>38741</td>\n",
       "      <td>38682</td>\n",
       "      <td>148016</td>\n",
       "      <td>147198</td>\n",
       "      <td>147189</td>\n",
       "      <td>23974</td>\n",
       "      <td>68937</td>\n",
       "      <td>148016</td>\n",
       "      <td>148016</td>\n",
       "      <td>148016</td>\n",
       "      <td>148016</td>\n",
       "      <td>145839</td>\n",
       "      <td>148016</td>\n",
       "    </tr>\n",
       "    <tr>\n",
       "      <th>Mortgage</th>\n",
       "      <td>228167</td>\n",
       "      <td>228167</td>\n",
       "      <td>228167</td>\n",
       "      <td>0</td>\n",
       "      <td>32000</td>\n",
       "      <td>43425</td>\n",
       "      <td>228167</td>\n",
       "      <td>226630</td>\n",
       "      <td>226615</td>\n",
       "      <td>31416</td>\n",
       "      <td>56784</td>\n",
       "      <td>228167</td>\n",
       "      <td>228167</td>\n",
       "      <td>228167</td>\n",
       "      <td>228167</td>\n",
       "      <td>226887</td>\n",
       "      <td>228167</td>\n",
       "    </tr>\n",
       "    <tr>\n",
       "      <th>Payday loan</th>\n",
       "      <td>5543</td>\n",
       "      <td>0</td>\n",
       "      <td>5543</td>\n",
       "      <td>0</td>\n",
       "      <td>1695</td>\n",
       "      <td>1086</td>\n",
       "      <td>5543</td>\n",
       "      <td>5523</td>\n",
       "      <td>5523</td>\n",
       "      <td>929</td>\n",
       "      <td>2898</td>\n",
       "      <td>5543</td>\n",
       "      <td>5543</td>\n",
       "      <td>5543</td>\n",
       "      <td>5543</td>\n",
       "      <td>5543</td>\n",
       "      <td>5543</td>\n",
       "    </tr>\n",
       "    <tr>\n",
       "      <th>Payday loan, title loan, or personal loan</th>\n",
       "      <td>140</td>\n",
       "      <td>140</td>\n",
       "      <td>140</td>\n",
       "      <td>13</td>\n",
       "      <td>0</td>\n",
       "      <td>38</td>\n",
       "      <td>140</td>\n",
       "      <td>138</td>\n",
       "      <td>137</td>\n",
       "      <td>28</td>\n",
       "      <td>12</td>\n",
       "      <td>140</td>\n",
       "      <td>140</td>\n",
       "      <td>140</td>\n",
       "      <td>140</td>\n",
       "      <td>0</td>\n",
       "      <td>140</td>\n",
       "    </tr>\n",
       "    <tr>\n",
       "      <th>Student loan</th>\n",
       "      <td>33044</td>\n",
       "      <td>33044</td>\n",
       "      <td>33044</td>\n",
       "      <td>27322</td>\n",
       "      <td>10176</td>\n",
       "      <td>3827</td>\n",
       "      <td>33044</td>\n",
       "      <td>32842</td>\n",
       "      <td>32842</td>\n",
       "      <td>2568</td>\n",
       "      <td>17636</td>\n",
       "      <td>33044</td>\n",
       "      <td>33044</td>\n",
       "      <td>33044</td>\n",
       "      <td>33044</td>\n",
       "      <td>32511</td>\n",
       "      <td>33044</td>\n",
       "    </tr>\n",
       "    <tr>\n",
       "      <th>Vehicle loan or lease</th>\n",
       "      <td>221</td>\n",
       "      <td>221</td>\n",
       "      <td>221</td>\n",
       "      <td>221</td>\n",
       "      <td>0</td>\n",
       "      <td>46</td>\n",
       "      <td>221</td>\n",
       "      <td>216</td>\n",
       "      <td>216</td>\n",
       "      <td>36</td>\n",
       "      <td>12</td>\n",
       "      <td>221</td>\n",
       "      <td>221</td>\n",
       "      <td>221</td>\n",
       "      <td>221</td>\n",
       "      <td>0</td>\n",
       "      <td>221</td>\n",
       "    </tr>\n",
       "  </tbody>\n",
       "</table>\n",
       "</div>"
      ],
      "text/plain": [
       "                                           date_received  sub_product   issue  \\\n",
       "product                                                                         \n",
       "Bank account or service                            86206        86206   86206   \n",
       "Consumer Loan                                      31591        31591   31591   \n",
       "Debt collection                                   148016       148016  148016   \n",
       "Mortgage                                          228167       228167  228167   \n",
       "Payday loan                                         5543            0    5543   \n",
       "Payday loan, title loan, or personal loan            140          140     140   \n",
       "Student loan                                       33044        33044   33044   \n",
       "Vehicle loan or lease                                221          221     221   \n",
       "\n",
       "                                           sub_issue  \\\n",
       "product                                                \n",
       "Bank account or service                            0   \n",
       "Consumer Loan                                      0   \n",
       "Debt collection                               148016   \n",
       "Mortgage                                           0   \n",
       "Payday loan                                        0   \n",
       "Payday loan, title loan, or personal loan         13   \n",
       "Student loan                                   27322   \n",
       "Vehicle loan or lease                            221   \n",
       "\n",
       "                                           consumer_complaint_narrative  \\\n",
       "product                                                                   \n",
       "Bank account or service                                           14500   \n",
       "Consumer Loan                                                      9029   \n",
       "Debt collection                                                   38741   \n",
       "Mortgage                                                          32000   \n",
       "Payday loan                                                        1695   \n",
       "Payday loan, title loan, or personal loan                             0   \n",
       "Student loan                                                      10176   \n",
       "Vehicle loan or lease                                                 0   \n",
       "\n",
       "                                           company_public_response  company  \\\n",
       "product                                                                       \n",
       "Bank account or service                                      24013    86206   \n",
       "Consumer Loan                                                 7707    31591   \n",
       "Debt collection                                              38682   148016   \n",
       "Mortgage                                                     43425   228167   \n",
       "Payday loan                                                   1086     5543   \n",
       "Payday loan, title loan, or personal loan                       38      140   \n",
       "Student loan                                                  3827    33044   \n",
       "Vehicle loan or lease                                           46      221   \n",
       "\n",
       "                                            state  zip_code   tags  \\\n",
       "product                                                              \n",
       "Bank account or service                     84650     84643  11826   \n",
       "Consumer Loan                               31411     31411   5225   \n",
       "Debt collection                            147198    147189  23974   \n",
       "Mortgage                                   226630    226615  31416   \n",
       "Payday loan                                  5523      5523    929   \n",
       "Payday loan, title loan, or personal loan     138       137     28   \n",
       "Student loan                                32842     32842   2568   \n",
       "Vehicle loan or lease                         216       216     36   \n",
       "\n",
       "                                           consumer_consent_provided?  \\\n",
       "product                                                                 \n",
       "Bank account or service                                         23443   \n",
       "Consumer Loan                                                   14705   \n",
       "Debt collection                                                 68937   \n",
       "Mortgage                                                        56784   \n",
       "Payday loan                                                      2898   \n",
       "Payday loan, title loan, or personal loan                          12   \n",
       "Student loan                                                    17636   \n",
       "Vehicle loan or lease                                              12   \n",
       "\n",
       "                                           submitted_via  \\\n",
       "product                                                    \n",
       "Bank account or service                            86206   \n",
       "Consumer Loan                                      31591   \n",
       "Debt collection                                   148016   \n",
       "Mortgage                                          228167   \n",
       "Payday loan                                         5543   \n",
       "Payday loan, title loan, or personal loan            140   \n",
       "Student loan                                       33044   \n",
       "Vehicle loan or lease                                221   \n",
       "\n",
       "                                           date_sent_to_company  \\\n",
       "product                                                           \n",
       "Bank account or service                                   86206   \n",
       "Consumer Loan                                             31591   \n",
       "Debt collection                                          148016   \n",
       "Mortgage                                                 228167   \n",
       "Payday loan                                                5543   \n",
       "Payday loan, title loan, or personal loan                   140   \n",
       "Student loan                                              33044   \n",
       "Vehicle loan or lease                                       221   \n",
       "\n",
       "                                           company_response_to_consumer  \\\n",
       "product                                                                   \n",
       "Bank account or service                                           86206   \n",
       "Consumer Loan                                                     31591   \n",
       "Debt collection                                                  148016   \n",
       "Mortgage                                                         228167   \n",
       "Payday loan                                                        5543   \n",
       "Payday loan, title loan, or personal loan                           140   \n",
       "Student loan                                                      33044   \n",
       "Vehicle loan or lease                                               221   \n",
       "\n",
       "                                           timely_response?  \\\n",
       "product                                                       \n",
       "Bank account or service                               86206   \n",
       "Consumer Loan                                         31591   \n",
       "Debt collection                                      148016   \n",
       "Mortgage                                             228167   \n",
       "Payday loan                                            5543   \n",
       "Payday loan, title loan, or personal loan               140   \n",
       "Student loan                                          33044   \n",
       "Vehicle loan or lease                                   221   \n",
       "\n",
       "                                           consumer_disputed?  complaint_id  \n",
       "product                                                                      \n",
       "Bank account or service                                 86206         86206  \n",
       "Consumer Loan                                           31591         31591  \n",
       "Debt collection                                        145839        148016  \n",
       "Mortgage                                               226887        228167  \n",
       "Payday loan                                              5543          5543  \n",
       "Payday loan, title loan, or personal loan                   0           140  \n",
       "Student loan                                            32511         33044  \n",
       "Vehicle loan or lease                                       0           221  "
      ]
     },
     "execution_count": 51,
     "metadata": {},
     "output_type": "execute_result"
    }
   ],
   "source": [
    "y=df_l_c.groupby('product').count()\n",
    "y"
   ]
  },
  {
   "cell_type": "code",
   "execution_count": null,
   "id": "412f6184",
   "metadata": {},
   "outputs": [],
   "source": []
  },
  {
   "cell_type": "code",
   "execution_count": 52,
   "id": "4e273703",
   "metadata": {
    "scrolled": true
   },
   "outputs": [
    {
     "data": {
      "text/plain": [
       "Cont'd attempts collect debt not owed                            60698\n",
       "Disclosure verification of debt                                  30796\n",
       "Communication tactics                                            24073\n",
       "False statements or representation                               11819\n",
       "Improper contact or sharing of info                              10068\n",
       "Taking/threatening an illegal action                              8874\n",
       "Attempts to collect debt not owed                                  915\n",
       "Written notification about debt                                    473\n",
       "Took or threatened to take negative or legal action                235\n",
       "Threatened to contact someone or share information improperly       65\n",
       "Name: issue, dtype: int64"
      ]
     },
     "execution_count": 52,
     "metadata": {},
     "output_type": "execute_result"
    }
   ],
   "source": [
    "df_l_c[df_l_c['product']=='Debt collection'].issue.value_counts()\n",
    "    "
   ]
  },
  {
   "cell_type": "code",
   "execution_count": 53,
   "id": "c180bdaf",
   "metadata": {},
   "outputs": [],
   "source": [
    "colss=['Virtual currency','Bank account or service','Other financial service','Money transfers',\n",
    "       'Money transfer, virtual currency, or money service','Checking or savings account'\n",
    "      ]\n"
   ]
  },
  {
   "cell_type": "code",
   "execution_count": 54,
   "id": "19e3ba77",
   "metadata": {},
   "outputs": [
    {
     "name": "stdout",
     "output_type": "stream",
     "text": [
      "['Virtual currency', 'Bank account or service', 'Other financial service', 'Money transfers', 'Money transfer, virtual currency, or money service', 'Checking or savings account', 'Debt collection', 'Mortgage', 'Student loan', 'Consumer Loan', 'Payday loan', 'Payday loan, title loan, or personal loan', 'Vehicle loan or lease', 'Bank account or service']\n"
     ]
    }
   ],
   "source": [
    "\n",
    "\n",
    "co= colss + loan_col\n",
    "print(co)"
   ]
  },
  {
   "cell_type": "code",
   "execution_count": 55,
   "id": "8726d477",
   "metadata": {},
   "outputs": [
    {
     "data": {
      "text/html": [
       "<div>\n",
       "<style scoped>\n",
       "    .dataframe tbody tr th:only-of-type {\n",
       "        vertical-align: middle;\n",
       "    }\n",
       "\n",
       "    .dataframe tbody tr th {\n",
       "        vertical-align: top;\n",
       "    }\n",
       "\n",
       "    .dataframe thead th {\n",
       "        text-align: right;\n",
       "    }\n",
       "</style>\n",
       "<table border=\"1\" class=\"dataframe\">\n",
       "  <thead>\n",
       "    <tr style=\"text-align: right;\">\n",
       "      <th></th>\n",
       "      <th>date_received</th>\n",
       "      <th>product</th>\n",
       "      <th>sub_product</th>\n",
       "      <th>issue</th>\n",
       "      <th>sub_issue</th>\n",
       "      <th>consumer_complaint_narrative</th>\n",
       "      <th>company_public_response</th>\n",
       "      <th>company</th>\n",
       "      <th>state</th>\n",
       "      <th>zip_code</th>\n",
       "      <th>tags</th>\n",
       "      <th>consumer_consent_provided?</th>\n",
       "      <th>submitted_via</th>\n",
       "      <th>date_sent_to_company</th>\n",
       "      <th>company_response_to_consumer</th>\n",
       "      <th>timely_response?</th>\n",
       "      <th>consumer_disputed?</th>\n",
       "      <th>complaint_id</th>\n",
       "    </tr>\n",
       "  </thead>\n",
       "  <tbody>\n",
       "    <tr>\n",
       "      <th>0</th>\n",
       "      <td>03/21/2017</td>\n",
       "      <td>Credit reporting</td>\n",
       "      <td>NaN</td>\n",
       "      <td>Incorrect information on credit report</td>\n",
       "      <td>Information is not mine</td>\n",
       "      <td>NaN</td>\n",
       "      <td>Company has responded to the consumer and the ...</td>\n",
       "      <td>EXPERIAN DELAWARE GP</td>\n",
       "      <td>TX</td>\n",
       "      <td>77075</td>\n",
       "      <td>Older American</td>\n",
       "      <td>NaN</td>\n",
       "      <td>Phone</td>\n",
       "      <td>03/21/2017</td>\n",
       "      <td>Closed with non-monetary relief</td>\n",
       "      <td>Yes</td>\n",
       "      <td>No</td>\n",
       "      <td>2397100</td>\n",
       "    </tr>\n",
       "    <tr>\n",
       "      <th>2</th>\n",
       "      <td>04/19/2017</td>\n",
       "      <td>Credit card</td>\n",
       "      <td>NaN</td>\n",
       "      <td>Other</td>\n",
       "      <td>NaN</td>\n",
       "      <td>NaN</td>\n",
       "      <td>Company has responded to the consumer and the ...</td>\n",
       "      <td>CITIBANK, N.A.</td>\n",
       "      <td>IL</td>\n",
       "      <td>62025</td>\n",
       "      <td>NaN</td>\n",
       "      <td>NaN</td>\n",
       "      <td>Referral</td>\n",
       "      <td>04/20/2017</td>\n",
       "      <td>Closed with explanation</td>\n",
       "      <td>Yes</td>\n",
       "      <td>No</td>\n",
       "      <td>2441830</td>\n",
       "    </tr>\n",
       "    <tr>\n",
       "      <th>4</th>\n",
       "      <td>04/19/2017</td>\n",
       "      <td>Credit card</td>\n",
       "      <td>NaN</td>\n",
       "      <td>Credit determination</td>\n",
       "      <td>NaN</td>\n",
       "      <td>NaN</td>\n",
       "      <td>Company has responded to the consumer and the ...</td>\n",
       "      <td>U.S. BANCORP</td>\n",
       "      <td>LA</td>\n",
       "      <td>70571</td>\n",
       "      <td>NaN</td>\n",
       "      <td>NaN</td>\n",
       "      <td>Postal mail</td>\n",
       "      <td>04/21/2017</td>\n",
       "      <td>Closed with explanation</td>\n",
       "      <td>Yes</td>\n",
       "      <td>No</td>\n",
       "      <td>2441726</td>\n",
       "    </tr>\n",
       "    <tr>\n",
       "      <th>21</th>\n",
       "      <td>03-04-2017</td>\n",
       "      <td>Credit reporting</td>\n",
       "      <td>NaN</td>\n",
       "      <td>Credit reporting company's investigation</td>\n",
       "      <td>Investigation took too long</td>\n",
       "      <td>NaN</td>\n",
       "      <td>NaN</td>\n",
       "      <td>EQUIFAX, INC.</td>\n",
       "      <td>CA</td>\n",
       "      <td>92683</td>\n",
       "      <td>NaN</td>\n",
       "      <td>Consent not provided</td>\n",
       "      <td>Web</td>\n",
       "      <td>03-04-2017</td>\n",
       "      <td>Closed with explanation</td>\n",
       "      <td>Yes</td>\n",
       "      <td>No</td>\n",
       "      <td>2371648</td>\n",
       "    </tr>\n",
       "    <tr>\n",
       "      <th>23</th>\n",
       "      <td>04-06-2017</td>\n",
       "      <td>Credit card</td>\n",
       "      <td>NaN</td>\n",
       "      <td>Other fee</td>\n",
       "      <td>NaN</td>\n",
       "      <td>NaN</td>\n",
       "      <td>Company has responded to the consumer and the ...</td>\n",
       "      <td>BARCLAYS BANK DELAWARE</td>\n",
       "      <td>VA</td>\n",
       "      <td>22315</td>\n",
       "      <td>Servicemember</td>\n",
       "      <td>Consent not provided</td>\n",
       "      <td>Web</td>\n",
       "      <td>04-06-2017</td>\n",
       "      <td>Closed with explanation</td>\n",
       "      <td>Yes</td>\n",
       "      <td>No</td>\n",
       "      <td>2423410</td>\n",
       "    </tr>\n",
       "    <tr>\n",
       "      <th>...</th>\n",
       "      <td>...</td>\n",
       "      <td>...</td>\n",
       "      <td>...</td>\n",
       "      <td>...</td>\n",
       "      <td>...</td>\n",
       "      <td>...</td>\n",
       "      <td>...</td>\n",
       "      <td>...</td>\n",
       "      <td>...</td>\n",
       "      <td>...</td>\n",
       "      <td>...</td>\n",
       "      <td>...</td>\n",
       "      <td>...</td>\n",
       "      <td>...</td>\n",
       "      <td>...</td>\n",
       "      <td>...</td>\n",
       "      <td>...</td>\n",
       "      <td>...</td>\n",
       "    </tr>\n",
       "    <tr>\n",
       "      <th>777938</th>\n",
       "      <td>02-08-2016</td>\n",
       "      <td>Credit card</td>\n",
       "      <td>NaN</td>\n",
       "      <td>Closing/Cancelling account</td>\n",
       "      <td>NaN</td>\n",
       "      <td>NaN</td>\n",
       "      <td>Company chooses not to provide a public response</td>\n",
       "      <td>BB&amp;T CORPORATION</td>\n",
       "      <td>VA</td>\n",
       "      <td>20182</td>\n",
       "      <td>NaN</td>\n",
       "      <td>Consent not provided</td>\n",
       "      <td>Web</td>\n",
       "      <td>02-08-2016</td>\n",
       "      <td>Closed with explanation</td>\n",
       "      <td>Yes</td>\n",
       "      <td>No</td>\n",
       "      <td>1777443</td>\n",
       "    </tr>\n",
       "    <tr>\n",
       "      <th>777943</th>\n",
       "      <td>01/31/2013</td>\n",
       "      <td>Credit reporting</td>\n",
       "      <td>NaN</td>\n",
       "      <td>Incorrect information on credit report</td>\n",
       "      <td>Information is not mine</td>\n",
       "      <td>NaN</td>\n",
       "      <td>NaN</td>\n",
       "      <td>EXPERIAN DELAWARE GP</td>\n",
       "      <td>IL</td>\n",
       "      <td>60085</td>\n",
       "      <td>NaN</td>\n",
       "      <td>NaN</td>\n",
       "      <td>Referral</td>\n",
       "      <td>02/27/2013</td>\n",
       "      <td>Closed with explanation</td>\n",
       "      <td>Yes</td>\n",
       "      <td>No</td>\n",
       "      <td>280845</td>\n",
       "    </tr>\n",
       "    <tr>\n",
       "      <th>777946</th>\n",
       "      <td>03-03-2014</td>\n",
       "      <td>Credit reporting</td>\n",
       "      <td>NaN</td>\n",
       "      <td>Incorrect information on credit report</td>\n",
       "      <td>Public record</td>\n",
       "      <td>NaN</td>\n",
       "      <td>NaN</td>\n",
       "      <td>EXPERIAN DELAWARE GP</td>\n",
       "      <td>NaN</td>\n",
       "      <td>NaN</td>\n",
       "      <td>NaN</td>\n",
       "      <td>NaN</td>\n",
       "      <td>Web</td>\n",
       "      <td>03-05-2014</td>\n",
       "      <td>Closed with explanation</td>\n",
       "      <td>Yes</td>\n",
       "      <td>No</td>\n",
       "      <td>740309</td>\n",
       "    </tr>\n",
       "    <tr>\n",
       "      <th>777947</th>\n",
       "      <td>03-08-2016</td>\n",
       "      <td>Credit card</td>\n",
       "      <td>NaN</td>\n",
       "      <td>Other</td>\n",
       "      <td>NaN</td>\n",
       "      <td>NaN</td>\n",
       "      <td>Company has responded to the consumer and the ...</td>\n",
       "      <td>BANK OF AMERICA, NATIONAL ASSOCIATION</td>\n",
       "      <td>TX</td>\n",
       "      <td>75022</td>\n",
       "      <td>NaN</td>\n",
       "      <td>Consent not provided</td>\n",
       "      <td>Web</td>\n",
       "      <td>03-09-2016</td>\n",
       "      <td>Closed with explanation</td>\n",
       "      <td>Yes</td>\n",
       "      <td>Yes</td>\n",
       "      <td>1823238</td>\n",
       "    </tr>\n",
       "    <tr>\n",
       "      <th>777954</th>\n",
       "      <td>12/21/2016</td>\n",
       "      <td>Credit card</td>\n",
       "      <td>NaN</td>\n",
       "      <td>Other fee</td>\n",
       "      <td>NaN</td>\n",
       "      <td>NaN</td>\n",
       "      <td>NaN</td>\n",
       "      <td>TD BANK US HOLDING COMPANY</td>\n",
       "      <td>NY</td>\n",
       "      <td>11743</td>\n",
       "      <td>NaN</td>\n",
       "      <td>NaN</td>\n",
       "      <td>Referral</td>\n",
       "      <td>12/22/2016</td>\n",
       "      <td>Closed with monetary relief</td>\n",
       "      <td>Yes</td>\n",
       "      <td>No</td>\n",
       "      <td>2259452</td>\n",
       "    </tr>\n",
       "  </tbody>\n",
       "</table>\n",
       "<p>237820 rows × 18 columns</p>\n",
       "</div>"
      ],
      "text/plain": [
       "       date_received           product sub_product  \\\n",
       "0         03/21/2017  Credit reporting         NaN   \n",
       "2         04/19/2017       Credit card         NaN   \n",
       "4         04/19/2017       Credit card         NaN   \n",
       "21        03-04-2017  Credit reporting         NaN   \n",
       "23        04-06-2017       Credit card         NaN   \n",
       "...              ...               ...         ...   \n",
       "777938    02-08-2016       Credit card         NaN   \n",
       "777943    01/31/2013  Credit reporting         NaN   \n",
       "777946    03-03-2014  Credit reporting         NaN   \n",
       "777947    03-08-2016       Credit card         NaN   \n",
       "777954    12/21/2016       Credit card         NaN   \n",
       "\n",
       "                                           issue                    sub_issue  \\\n",
       "0         Incorrect information on credit report      Information is not mine   \n",
       "2                                          Other                          NaN   \n",
       "4                           Credit determination                          NaN   \n",
       "21      Credit reporting company's investigation  Investigation took too long   \n",
       "23                                     Other fee                          NaN   \n",
       "...                                          ...                          ...   \n",
       "777938                Closing/Cancelling account                          NaN   \n",
       "777943    Incorrect information on credit report      Information is not mine   \n",
       "777946    Incorrect information on credit report                Public record   \n",
       "777947                                     Other                          NaN   \n",
       "777954                                 Other fee                          NaN   \n",
       "\n",
       "       consumer_complaint_narrative  \\\n",
       "0                               NaN   \n",
       "2                               NaN   \n",
       "4                               NaN   \n",
       "21                              NaN   \n",
       "23                              NaN   \n",
       "...                             ...   \n",
       "777938                          NaN   \n",
       "777943                          NaN   \n",
       "777946                          NaN   \n",
       "777947                          NaN   \n",
       "777954                          NaN   \n",
       "\n",
       "                                  company_public_response  \\\n",
       "0       Company has responded to the consumer and the ...   \n",
       "2       Company has responded to the consumer and the ...   \n",
       "4       Company has responded to the consumer and the ...   \n",
       "21                                                    NaN   \n",
       "23      Company has responded to the consumer and the ...   \n",
       "...                                                   ...   \n",
       "777938   Company chooses not to provide a public response   \n",
       "777943                                                NaN   \n",
       "777946                                                NaN   \n",
       "777947  Company has responded to the consumer and the ...   \n",
       "777954                                                NaN   \n",
       "\n",
       "                                      company state zip_code            tags  \\\n",
       "0                        EXPERIAN DELAWARE GP    TX    77075  Older American   \n",
       "2                              CITIBANK, N.A.    IL    62025             NaN   \n",
       "4                                U.S. BANCORP    LA    70571             NaN   \n",
       "21                              EQUIFAX, INC.    CA    92683             NaN   \n",
       "23                     BARCLAYS BANK DELAWARE    VA    22315   Servicemember   \n",
       "...                                       ...   ...      ...             ...   \n",
       "777938                       BB&T CORPORATION    VA    20182             NaN   \n",
       "777943                   EXPERIAN DELAWARE GP    IL    60085             NaN   \n",
       "777946                   EXPERIAN DELAWARE GP   NaN      NaN             NaN   \n",
       "777947  BANK OF AMERICA, NATIONAL ASSOCIATION    TX    75022             NaN   \n",
       "777954             TD BANK US HOLDING COMPANY    NY    11743             NaN   \n",
       "\n",
       "       consumer_consent_provided? submitted_via date_sent_to_company  \\\n",
       "0                             NaN         Phone           03/21/2017   \n",
       "2                             NaN      Referral           04/20/2017   \n",
       "4                             NaN   Postal mail           04/21/2017   \n",
       "21           Consent not provided           Web           03-04-2017   \n",
       "23           Consent not provided           Web           04-06-2017   \n",
       "...                           ...           ...                  ...   \n",
       "777938       Consent not provided           Web           02-08-2016   \n",
       "777943                        NaN      Referral           02/27/2013   \n",
       "777946                        NaN           Web           03-05-2014   \n",
       "777947       Consent not provided           Web           03-09-2016   \n",
       "777954                        NaN      Referral           12/22/2016   \n",
       "\n",
       "           company_response_to_consumer timely_response? consumer_disputed?  \\\n",
       "0       Closed with non-monetary relief              Yes                 No   \n",
       "2               Closed with explanation              Yes                 No   \n",
       "4               Closed with explanation              Yes                 No   \n",
       "21              Closed with explanation              Yes                 No   \n",
       "23              Closed with explanation              Yes                 No   \n",
       "...                                 ...              ...                ...   \n",
       "777938          Closed with explanation              Yes                 No   \n",
       "777943          Closed with explanation              Yes                 No   \n",
       "777946          Closed with explanation              Yes                 No   \n",
       "777947          Closed with explanation              Yes                Yes   \n",
       "777954      Closed with monetary relief              Yes                 No   \n",
       "\n",
       "        complaint_id  \n",
       "0            2397100  \n",
       "2            2441830  \n",
       "4            2441726  \n",
       "21           2371648  \n",
       "23           2423410  \n",
       "...              ...  \n",
       "777938       1777443  \n",
       "777943        280845  \n",
       "777946        740309  \n",
       "777947       1823238  \n",
       "777954       2259452  \n",
       "\n",
       "[237820 rows x 18 columns]"
      ]
     },
     "execution_count": 55,
     "metadata": {},
     "output_type": "execute_result"
    }
   ],
   "source": [
    "df_l_a =df[~df['product'].isin (co)]\n",
    "df_l_a"
   ]
  },
  {
   "cell_type": "code",
   "execution_count": 56,
   "id": "cd4e3afe",
   "metadata": {},
   "outputs": [
    {
     "data": {
      "text/plain": [
       "Credit reporting                                                                140405\n",
       "Credit card                                                                      89189\n",
       "Prepaid card                                                                      3817\n",
       "Credit reporting, credit repair services, or other personal consumer reports      3490\n",
       "Credit card or prepaid card                                                        919\n",
       "Name: product, dtype: int64"
      ]
     },
     "execution_count": 56,
     "metadata": {},
     "output_type": "execute_result"
    }
   ],
   "source": [
    "df_l_a['product'].value_counts()"
   ]
  },
  {
   "cell_type": "code",
   "execution_count": 57,
   "id": "6efe0237",
   "metadata": {
    "scrolled": true
   },
   "outputs": [
    {
     "data": {
      "text/plain": [
       "Incorrect information on credit report      102667\n",
       "Credit reporting company's investigation     16880\n",
       "Unable to get credit report/credit score     10855\n",
       "Improper use of my credit report              5578\n",
       "Credit monitoring or identity protection      4425\n",
       "Name: issue, dtype: int64"
      ]
     },
     "execution_count": 57,
     "metadata": {},
     "output_type": "execute_result"
    }
   ],
   "source": [
    "df_l_a[df_l_a['product']=='Credit reporting'].issue.value_counts()"
   ]
  },
  {
   "cell_type": "code",
   "execution_count": null,
   "id": "d483ba96",
   "metadata": {},
   "outputs": [],
   "source": []
  },
  {
   "cell_type": "code",
   "execution_count": 58,
   "id": "8fed77cb",
   "metadata": {},
   "outputs": [],
   "source": [
    "cols=['Mortgage','Debt collection','Credit reporting','Bank account or service','Credit card']\n",
    "dfs= df[df['product'].isin (cols)]"
   ]
  },
  {
   "cell_type": "code",
   "execution_count": 59,
   "id": "7bbb5140",
   "metadata": {},
   "outputs": [
    {
     "data": {
      "text/plain": [
       "(691983, 18)"
      ]
     },
     "execution_count": 59,
     "metadata": {},
     "output_type": "execute_result"
    }
   ],
   "source": [
    "dfs.shape"
   ]
  },
  {
   "cell_type": "code",
   "execution_count": 60,
   "id": "d23e88e6",
   "metadata": {},
   "outputs": [],
   "source": [
    "#dfs.to_csv(\"dfs1.csv\")"
   ]
  },
  {
   "cell_type": "code",
   "execution_count": 61,
   "id": "0f4eb3c7",
   "metadata": {},
   "outputs": [],
   "source": [
    "#dfs=dfs.drop(['complaint_id','date_received','zip_code','tags','submitted_via','date_sent_to_company','consumer_disputed?','consumer_complaint_narrative'],axis=1)"
   ]
  },
  {
   "cell_type": "code",
   "execution_count": 62,
   "id": "a1a08076",
   "metadata": {},
   "outputs": [],
   "source": [
    "#dfs.head()"
   ]
  },
  {
   "cell_type": "code",
   "execution_count": 63,
   "id": "88c42670",
   "metadata": {},
   "outputs": [],
   "source": [
    "a=dfs.groupby('company').count()"
   ]
  },
  {
   "cell_type": "code",
   "execution_count": 64,
   "id": "3dd682de",
   "metadata": {},
   "outputs": [],
   "source": [
    "a= a.reset_index()\n",
    "#a=a.drop('index',axis=1)"
   ]
  },
  {
   "cell_type": "code",
   "execution_count": 65,
   "id": "b0564e15",
   "metadata": {
    "scrolled": true
   },
   "outputs": [
    {
     "data": {
      "text/html": [
       "<div>\n",
       "<style scoped>\n",
       "    .dataframe tbody tr th:only-of-type {\n",
       "        vertical-align: middle;\n",
       "    }\n",
       "\n",
       "    .dataframe tbody tr th {\n",
       "        vertical-align: top;\n",
       "    }\n",
       "\n",
       "    .dataframe thead th {\n",
       "        text-align: right;\n",
       "    }\n",
       "</style>\n",
       "<table border=\"1\" class=\"dataframe\">\n",
       "  <thead>\n",
       "    <tr style=\"text-align: right;\">\n",
       "      <th></th>\n",
       "      <th>date_received</th>\n",
       "      <th>product</th>\n",
       "      <th>sub_product</th>\n",
       "      <th>issue</th>\n",
       "      <th>sub_issue</th>\n",
       "      <th>consumer_complaint_narrative</th>\n",
       "      <th>company_public_response</th>\n",
       "      <th>company</th>\n",
       "      <th>state</th>\n",
       "      <th>zip_code</th>\n",
       "      <th>tags</th>\n",
       "      <th>consumer_consent_provided?</th>\n",
       "      <th>submitted_via</th>\n",
       "      <th>date_sent_to_company</th>\n",
       "      <th>company_response_to_consumer</th>\n",
       "      <th>timely_response?</th>\n",
       "      <th>consumer_disputed?</th>\n",
       "      <th>complaint_id</th>\n",
       "    </tr>\n",
       "  </thead>\n",
       "  <tbody>\n",
       "    <tr>\n",
       "      <th>0</th>\n",
       "      <td>03/21/2017</td>\n",
       "      <td>Credit reporting</td>\n",
       "      <td>NaN</td>\n",
       "      <td>Incorrect information on credit report</td>\n",
       "      <td>Information is not mine</td>\n",
       "      <td>NaN</td>\n",
       "      <td>Company has responded to the consumer and the ...</td>\n",
       "      <td>EXPERIAN DELAWARE GP</td>\n",
       "      <td>TX</td>\n",
       "      <td>77075</td>\n",
       "      <td>Older American</td>\n",
       "      <td>NaN</td>\n",
       "      <td>Phone</td>\n",
       "      <td>03/21/2017</td>\n",
       "      <td>Closed with non-monetary relief</td>\n",
       "      <td>Yes</td>\n",
       "      <td>No</td>\n",
       "      <td>2397100</td>\n",
       "    </tr>\n",
       "    <tr>\n",
       "      <th>1</th>\n",
       "      <td>04/19/2017</td>\n",
       "      <td>Debt collection</td>\n",
       "      <td>Other (i.e. phone, health club, etc.)</td>\n",
       "      <td>Disclosure verification of debt</td>\n",
       "      <td>Not disclosed as an attempt to collect</td>\n",
       "      <td>NaN</td>\n",
       "      <td>NaN</td>\n",
       "      <td>Security Credit Services, LLC</td>\n",
       "      <td>IL</td>\n",
       "      <td>60643</td>\n",
       "      <td>NaN</td>\n",
       "      <td>NaN</td>\n",
       "      <td>Web</td>\n",
       "      <td>04/20/2017</td>\n",
       "      <td>Closed with explanation</td>\n",
       "      <td>Yes</td>\n",
       "      <td>No</td>\n",
       "      <td>2441777</td>\n",
       "    </tr>\n",
       "    <tr>\n",
       "      <th>2</th>\n",
       "      <td>04/19/2017</td>\n",
       "      <td>Credit card</td>\n",
       "      <td>NaN</td>\n",
       "      <td>Other</td>\n",
       "      <td>NaN</td>\n",
       "      <td>NaN</td>\n",
       "      <td>Company has responded to the consumer and the ...</td>\n",
       "      <td>CITIBANK, N.A.</td>\n",
       "      <td>IL</td>\n",
       "      <td>62025</td>\n",
       "      <td>NaN</td>\n",
       "      <td>NaN</td>\n",
       "      <td>Referral</td>\n",
       "      <td>04/20/2017</td>\n",
       "      <td>Closed with explanation</td>\n",
       "      <td>Yes</td>\n",
       "      <td>No</td>\n",
       "      <td>2441830</td>\n",
       "    </tr>\n",
       "    <tr>\n",
       "      <th>3</th>\n",
       "      <td>04/14/2017</td>\n",
       "      <td>Mortgage</td>\n",
       "      <td>Other mortgage</td>\n",
       "      <td>Loan modification,collection,foreclosure</td>\n",
       "      <td>NaN</td>\n",
       "      <td>NaN</td>\n",
       "      <td>Company believes it acted appropriately as aut...</td>\n",
       "      <td>Shellpoint Partners, LLC</td>\n",
       "      <td>CA</td>\n",
       "      <td>90305</td>\n",
       "      <td>NaN</td>\n",
       "      <td>NaN</td>\n",
       "      <td>Referral</td>\n",
       "      <td>04/14/2017</td>\n",
       "      <td>Closed with explanation</td>\n",
       "      <td>Yes</td>\n",
       "      <td>No</td>\n",
       "      <td>2436165</td>\n",
       "    </tr>\n",
       "    <tr>\n",
       "      <th>4</th>\n",
       "      <td>04/19/2017</td>\n",
       "      <td>Credit card</td>\n",
       "      <td>NaN</td>\n",
       "      <td>Credit determination</td>\n",
       "      <td>NaN</td>\n",
       "      <td>NaN</td>\n",
       "      <td>Company has responded to the consumer and the ...</td>\n",
       "      <td>U.S. BANCORP</td>\n",
       "      <td>LA</td>\n",
       "      <td>70571</td>\n",
       "      <td>NaN</td>\n",
       "      <td>NaN</td>\n",
       "      <td>Postal mail</td>\n",
       "      <td>04/21/2017</td>\n",
       "      <td>Closed with explanation</td>\n",
       "      <td>Yes</td>\n",
       "      <td>No</td>\n",
       "      <td>2441726</td>\n",
       "    </tr>\n",
       "    <tr>\n",
       "      <th>...</th>\n",
       "      <td>...</td>\n",
       "      <td>...</td>\n",
       "      <td>...</td>\n",
       "      <td>...</td>\n",
       "      <td>...</td>\n",
       "      <td>...</td>\n",
       "      <td>...</td>\n",
       "      <td>...</td>\n",
       "      <td>...</td>\n",
       "      <td>...</td>\n",
       "      <td>...</td>\n",
       "      <td>...</td>\n",
       "      <td>...</td>\n",
       "      <td>...</td>\n",
       "      <td>...</td>\n",
       "      <td>...</td>\n",
       "      <td>...</td>\n",
       "      <td>...</td>\n",
       "    </tr>\n",
       "    <tr>\n",
       "      <th>777954</th>\n",
       "      <td>12/21/2016</td>\n",
       "      <td>Credit card</td>\n",
       "      <td>NaN</td>\n",
       "      <td>Other fee</td>\n",
       "      <td>NaN</td>\n",
       "      <td>NaN</td>\n",
       "      <td>NaN</td>\n",
       "      <td>TD BANK US HOLDING COMPANY</td>\n",
       "      <td>NY</td>\n",
       "      <td>11743</td>\n",
       "      <td>NaN</td>\n",
       "      <td>NaN</td>\n",
       "      <td>Referral</td>\n",
       "      <td>12/22/2016</td>\n",
       "      <td>Closed with monetary relief</td>\n",
       "      <td>Yes</td>\n",
       "      <td>No</td>\n",
       "      <td>2259452</td>\n",
       "    </tr>\n",
       "    <tr>\n",
       "      <th>777955</th>\n",
       "      <td>06/28/2013</td>\n",
       "      <td>Mortgage</td>\n",
       "      <td>Other mortgage</td>\n",
       "      <td>Loan servicing, payments, escrow account</td>\n",
       "      <td>NaN</td>\n",
       "      <td>NaN</td>\n",
       "      <td>NaN</td>\n",
       "      <td>ARVEST BANK GROUP, INC.</td>\n",
       "      <td>NY</td>\n",
       "      <td>11423</td>\n",
       "      <td>NaN</td>\n",
       "      <td>NaN</td>\n",
       "      <td>Referral</td>\n",
       "      <td>07-02-2013</td>\n",
       "      <td>Closed with explanation</td>\n",
       "      <td>Yes</td>\n",
       "      <td>No</td>\n",
       "      <td>445400</td>\n",
       "    </tr>\n",
       "    <tr>\n",
       "      <th>777956</th>\n",
       "      <td>02/13/2013</td>\n",
       "      <td>Mortgage</td>\n",
       "      <td>Other mortgage</td>\n",
       "      <td>Loan modification,collection,foreclosure</td>\n",
       "      <td>NaN</td>\n",
       "      <td>NaN</td>\n",
       "      <td>NaN</td>\n",
       "      <td>BANK OF AMERICA, NATIONAL ASSOCIATION</td>\n",
       "      <td>DE</td>\n",
       "      <td>19803</td>\n",
       "      <td>NaN</td>\n",
       "      <td>NaN</td>\n",
       "      <td>Referral</td>\n",
       "      <td>02/15/2013</td>\n",
       "      <td>Closed with non-monetary relief</td>\n",
       "      <td>Yes</td>\n",
       "      <td>No</td>\n",
       "      <td>317273</td>\n",
       "    </tr>\n",
       "    <tr>\n",
       "      <th>777957</th>\n",
       "      <td>09/15/2014</td>\n",
       "      <td>Mortgage</td>\n",
       "      <td>Conventional adjustable mortgage (ARM)</td>\n",
       "      <td>Loan servicing, payments, escrow account</td>\n",
       "      <td>NaN</td>\n",
       "      <td>NaN</td>\n",
       "      <td>NaN</td>\n",
       "      <td>Ditech Financial LLC</td>\n",
       "      <td>MO</td>\n",
       "      <td>64053</td>\n",
       "      <td>NaN</td>\n",
       "      <td>NaN</td>\n",
       "      <td>Web</td>\n",
       "      <td>09/19/2014</td>\n",
       "      <td>Closed with explanation</td>\n",
       "      <td>Yes</td>\n",
       "      <td>Yes</td>\n",
       "      <td>1029658</td>\n",
       "    </tr>\n",
       "    <tr>\n",
       "      <th>777958</th>\n",
       "      <td>06/18/2013</td>\n",
       "      <td>Mortgage</td>\n",
       "      <td>Conventional fixed mortgage</td>\n",
       "      <td>Loan servicing, payments, escrow account</td>\n",
       "      <td>NaN</td>\n",
       "      <td>NaN</td>\n",
       "      <td>NaN</td>\n",
       "      <td>BANK OF AMERICA, NATIONAL ASSOCIATION</td>\n",
       "      <td>FL</td>\n",
       "      <td>32536</td>\n",
       "      <td>NaN</td>\n",
       "      <td>NaN</td>\n",
       "      <td>Web</td>\n",
       "      <td>06/19/2013</td>\n",
       "      <td>Closed with non-monetary relief</td>\n",
       "      <td>Yes</td>\n",
       "      <td>No</td>\n",
       "      <td>435354</td>\n",
       "    </tr>\n",
       "  </tbody>\n",
       "</table>\n",
       "<p>691983 rows × 18 columns</p>\n",
       "</div>"
      ],
      "text/plain": [
       "       date_received           product  \\\n",
       "0         03/21/2017  Credit reporting   \n",
       "1         04/19/2017   Debt collection   \n",
       "2         04/19/2017       Credit card   \n",
       "3         04/14/2017          Mortgage   \n",
       "4         04/19/2017       Credit card   \n",
       "...              ...               ...   \n",
       "777954    12/21/2016       Credit card   \n",
       "777955    06/28/2013          Mortgage   \n",
       "777956    02/13/2013          Mortgage   \n",
       "777957    09/15/2014          Mortgage   \n",
       "777958    06/18/2013          Mortgage   \n",
       "\n",
       "                                   sub_product  \\\n",
       "0                                          NaN   \n",
       "1        Other (i.e. phone, health club, etc.)   \n",
       "2                                          NaN   \n",
       "3                               Other mortgage   \n",
       "4                                          NaN   \n",
       "...                                        ...   \n",
       "777954                                     NaN   \n",
       "777955                          Other mortgage   \n",
       "777956                          Other mortgage   \n",
       "777957  Conventional adjustable mortgage (ARM)   \n",
       "777958             Conventional fixed mortgage   \n",
       "\n",
       "                                           issue  \\\n",
       "0         Incorrect information on credit report   \n",
       "1                Disclosure verification of debt   \n",
       "2                                          Other   \n",
       "3       Loan modification,collection,foreclosure   \n",
       "4                           Credit determination   \n",
       "...                                          ...   \n",
       "777954                                 Other fee   \n",
       "777955  Loan servicing, payments, escrow account   \n",
       "777956  Loan modification,collection,foreclosure   \n",
       "777957  Loan servicing, payments, escrow account   \n",
       "777958  Loan servicing, payments, escrow account   \n",
       "\n",
       "                                     sub_issue consumer_complaint_narrative  \\\n",
       "0                      Information is not mine                          NaN   \n",
       "1       Not disclosed as an attempt to collect                          NaN   \n",
       "2                                          NaN                          NaN   \n",
       "3                                          NaN                          NaN   \n",
       "4                                          NaN                          NaN   \n",
       "...                                        ...                          ...   \n",
       "777954                                     NaN                          NaN   \n",
       "777955                                     NaN                          NaN   \n",
       "777956                                     NaN                          NaN   \n",
       "777957                                     NaN                          NaN   \n",
       "777958                                     NaN                          NaN   \n",
       "\n",
       "                                  company_public_response  \\\n",
       "0       Company has responded to the consumer and the ...   \n",
       "1                                                     NaN   \n",
       "2       Company has responded to the consumer and the ...   \n",
       "3       Company believes it acted appropriately as aut...   \n",
       "4       Company has responded to the consumer and the ...   \n",
       "...                                                   ...   \n",
       "777954                                                NaN   \n",
       "777955                                                NaN   \n",
       "777956                                                NaN   \n",
       "777957                                                NaN   \n",
       "777958                                                NaN   \n",
       "\n",
       "                                      company state zip_code            tags  \\\n",
       "0                        EXPERIAN DELAWARE GP    TX    77075  Older American   \n",
       "1               Security Credit Services, LLC    IL    60643             NaN   \n",
       "2                              CITIBANK, N.A.    IL    62025             NaN   \n",
       "3                    Shellpoint Partners, LLC    CA    90305             NaN   \n",
       "4                                U.S. BANCORP    LA    70571             NaN   \n",
       "...                                       ...   ...      ...             ...   \n",
       "777954             TD BANK US HOLDING COMPANY    NY    11743             NaN   \n",
       "777955                ARVEST BANK GROUP, INC.    NY    11423             NaN   \n",
       "777956  BANK OF AMERICA, NATIONAL ASSOCIATION    DE    19803             NaN   \n",
       "777957                   Ditech Financial LLC    MO    64053             NaN   \n",
       "777958  BANK OF AMERICA, NATIONAL ASSOCIATION    FL    32536             NaN   \n",
       "\n",
       "       consumer_consent_provided? submitted_via date_sent_to_company  \\\n",
       "0                             NaN         Phone           03/21/2017   \n",
       "1                             NaN           Web           04/20/2017   \n",
       "2                             NaN      Referral           04/20/2017   \n",
       "3                             NaN      Referral           04/14/2017   \n",
       "4                             NaN   Postal mail           04/21/2017   \n",
       "...                           ...           ...                  ...   \n",
       "777954                        NaN      Referral           12/22/2016   \n",
       "777955                        NaN      Referral           07-02-2013   \n",
       "777956                        NaN      Referral           02/15/2013   \n",
       "777957                        NaN           Web           09/19/2014   \n",
       "777958                        NaN           Web           06/19/2013   \n",
       "\n",
       "           company_response_to_consumer timely_response? consumer_disputed?  \\\n",
       "0       Closed with non-monetary relief              Yes                 No   \n",
       "1               Closed with explanation              Yes                 No   \n",
       "2               Closed with explanation              Yes                 No   \n",
       "3               Closed with explanation              Yes                 No   \n",
       "4               Closed with explanation              Yes                 No   \n",
       "...                                 ...              ...                ...   \n",
       "777954      Closed with monetary relief              Yes                 No   \n",
       "777955          Closed with explanation              Yes                 No   \n",
       "777956  Closed with non-monetary relief              Yes                 No   \n",
       "777957          Closed with explanation              Yes                Yes   \n",
       "777958  Closed with non-monetary relief              Yes                 No   \n",
       "\n",
       "        complaint_id  \n",
       "0            2397100  \n",
       "1            2441777  \n",
       "2            2441830  \n",
       "3            2436165  \n",
       "4            2441726  \n",
       "...              ...  \n",
       "777954       2259452  \n",
       "777955        445400  \n",
       "777956        317273  \n",
       "777957       1029658  \n",
       "777958        435354  \n",
       "\n",
       "[691983 rows x 18 columns]"
      ]
     },
     "execution_count": 65,
     "metadata": {},
     "output_type": "execute_result"
    }
   ],
   "source": [
    "dfs"
   ]
  },
  {
   "cell_type": "code",
   "execution_count": 66,
   "id": "d5a26430",
   "metadata": {},
   "outputs": [],
   "source": [
    "#dfs.date_received= dfs.date_received.str.replace(\"/\",\"-\")"
   ]
  },
  {
   "cell_type": "code",
   "execution_count": 67,
   "id": "b97d0101",
   "metadata": {},
   "outputs": [],
   "source": [
    "#dfs.columns"
   ]
  },
  {
   "cell_type": "code",
   "execution_count": 68,
   "id": "a3657cf9",
   "metadata": {},
   "outputs": [],
   "source": [
    "#dfs =dfs.reset_index()\n"
   ]
  },
  {
   "cell_type": "code",
   "execution_count": 69,
   "id": "cbee06d2",
   "metadata": {},
   "outputs": [],
   "source": [
    "#dfs=dfs.drop('index',axis=1)"
   ]
  },
  {
   "cell_type": "code",
   "execution_count": 70,
   "id": "23edd06b",
   "metadata": {},
   "outputs": [],
   "source": [
    "#min(dfs.date_received)\n",
    "#max(dfs.date_received)"
   ]
  },
  {
   "cell_type": "code",
   "execution_count": 71,
   "id": "9b60c318",
   "metadata": {},
   "outputs": [],
   "source": [
    "df['date_received'] =pd.to_datetime(df['date_received'])\n",
    "df['date_sent_to_company']= pd.to_datetime(df['date_sent_to_company'])"
   ]
  },
  {
   "cell_type": "code",
   "execution_count": 72,
   "id": "9244c7e1",
   "metadata": {},
   "outputs": [],
   "source": [
    "year_complained= df.groupby(df.date_received.dt.year)['product'].count()"
   ]
  },
  {
   "cell_type": "code",
   "execution_count": 73,
   "id": "7f316128",
   "metadata": {},
   "outputs": [
    {
     "data": {
      "text/plain": [
       "date_received\n",
       "1     73076\n",
       "2     69841\n",
       "3     79811\n",
       "4     75588\n",
       "5     62027\n",
       "6     58988\n",
       "7     61408\n",
       "8     63099\n",
       "9     59521\n",
       "10    61614\n",
       "11    54824\n",
       "12    58162\n",
       "Name: product, dtype: int64"
      ]
     },
     "execution_count": 73,
     "metadata": {},
     "output_type": "execute_result"
    }
   ],
   "source": [
    "df.groupby(df.date_received.dt.month)['product'].count()"
   ]
  },
  {
   "cell_type": "code",
   "execution_count": 74,
   "id": "a08bfec2",
   "metadata": {},
   "outputs": [],
   "source": [
    "cols= df.columns\n",
    "def unique_values(prod):\n",
    "    print(df[prod].value_counts(normalize= True))"
   ]
  },
  {
   "cell_type": "code",
   "execution_count": 75,
   "id": "f9fdd51e",
   "metadata": {},
   "outputs": [
    {
     "data": {
      "application/vnd.jupyter.widget-view+json": {
       "model_id": "3d75006f1c6542ac91ceef9f664f85b1",
       "version_major": 2,
       "version_minor": 0
      },
      "text/plain": [
       "interactive(children=(Dropdown(description='prod', options=('date_received', 'product', 'sub_product', 'issue'…"
      ]
     },
     "metadata": {},
     "output_type": "display_data"
    }
   ],
   "source": [
    "widgets.interactive(unique_values,prod=cols)"
   ]
  },
  {
   "cell_type": "code",
   "execution_count": 76,
   "id": "79c69c65",
   "metadata": {
    "scrolled": true
   },
   "outputs": [
    {
     "data": {
      "text/plain": [
       "Debt collection                                                                 10840\n",
       "Mortgage                                                                         4807\n",
       "Bank account or service                                                          2231\n",
       "Consumer Loan                                                                    1259\n",
       "Credit card                                                                       983\n",
       "Payday loan                                                                       604\n",
       "Student loan                                                                      417\n",
       "Credit reporting                                                                  302\n",
       "Money transfers                                                                   148\n",
       "Other financial service                                                           111\n",
       "Prepaid card                                                                       52\n",
       "Credit reporting, credit repair services, or other personal consumer reports       16\n",
       "Payday loan, title loan, or personal loan                                           8\n",
       "Checking or savings account                                                         7\n",
       "Credit card or prepaid card                                                         4\n",
       "Vehicle loan or lease                                                               3\n",
       "Money transfer, virtual currency, or money service                                  3\n",
       "Virtual currency                                                                    2\n",
       "Name: product, dtype: int64"
      ]
     },
     "execution_count": 76,
     "metadata": {},
     "output_type": "execute_result"
    }
   ],
   "source": [
    "df[df['timely_response?']=='No']['product'].value_counts()"
   ]
  },
  {
   "cell_type": "code",
   "execution_count": 77,
   "id": "9f1f5d3c",
   "metadata": {},
   "outputs": [
    {
     "data": {
      "image/png": "[encoded data removed]",
      "text/plain": [
       "<Figure size 432x288 with 1 Axes>"
      ]
     },
     "metadata": {
      "needs_background": "light"
     },
     "output_type": "display_data"
    }
   ],
   "source": [
    "plt.ylabel=(\"Product\")\n",
    "plt.barh(df['product'].unique(),df['product'].value_counts())\n",
    "\n",
    "plt.show()"
   ]
  },
  {
   "cell_type": "code",
   "execution_count": 78,
   "id": "4e4ec432",
   "metadata": {},
   "outputs": [
    {
     "data": {
      "text/plain": [
       "Mortgage                                                                        0.293289\n",
       "Debt collection                                                                 0.190262\n",
       "Credit reporting                                                                0.180479\n",
       "Credit card                                                                     0.114645\n",
       "Bank account or service                                                         0.110810\n",
       "Student loan                                                                    0.042475\n",
       "Consumer Loan                                                                   0.040608\n",
       "Payday loan                                                                     0.007125\n",
       "Money transfers                                                                 0.006883\n",
       "Prepaid card                                                                    0.004906\n",
       "Credit reporting, credit repair services, or other personal consumer reports    0.004486\n",
       "Other financial service                                                         0.001351\n",
       "Credit card or prepaid card                                                     0.001181\n",
       "Checking or savings account                                                     0.000854\n",
       "Vehicle loan or lease                                                           0.000284\n",
       "Payday loan, title loan, or personal loan                                       0.000180\n",
       "Money transfer, virtual currency, or money service                              0.000158\n",
       "Virtual currency                                                                0.000023\n",
       "Name: product, dtype: float64"
      ]
     },
     "execution_count": 78,
     "metadata": {},
     "output_type": "execute_result"
    }
   ],
   "source": [
    "df['product'].value_counts(normalize=True)"
   ]
  },
  {
   "cell_type": "code",
   "execution_count": 79,
   "id": "7b8a1cb6",
   "metadata": {},
   "outputs": [],
   "source": [
    "dfx =df[df['product']==\"Debt collection\"]"
   ]
  },
  {
   "cell_type": "code",
   "execution_count": 80,
   "id": "c4298803",
   "metadata": {},
   "outputs": [
    {
     "data": {
      "text/html": [
       "<div>\n",
       "<style scoped>\n",
       "    .dataframe tbody tr th:only-of-type {\n",
       "        vertical-align: middle;\n",
       "    }\n",
       "\n",
       "    .dataframe tbody tr th {\n",
       "        vertical-align: top;\n",
       "    }\n",
       "\n",
       "    .dataframe thead th {\n",
       "        text-align: right;\n",
       "    }\n",
       "</style>\n",
       "<table border=\"1\" class=\"dataframe\">\n",
       "  <thead>\n",
       "    <tr style=\"text-align: right;\">\n",
       "      <th></th>\n",
       "      <th>date_received</th>\n",
       "      <th>product</th>\n",
       "      <th>sub_product</th>\n",
       "      <th>issue</th>\n",
       "      <th>sub_issue</th>\n",
       "      <th>consumer_complaint_narrative</th>\n",
       "      <th>company_public_response</th>\n",
       "      <th>company</th>\n",
       "      <th>state</th>\n",
       "      <th>zip_code</th>\n",
       "      <th>tags</th>\n",
       "      <th>consumer_consent_provided?</th>\n",
       "      <th>submitted_via</th>\n",
       "      <th>date_sent_to_company</th>\n",
       "      <th>company_response_to_consumer</th>\n",
       "      <th>timely_response?</th>\n",
       "      <th>consumer_disputed?</th>\n",
       "      <th>complaint_id</th>\n",
       "    </tr>\n",
       "  </thead>\n",
       "  <tbody>\n",
       "    <tr>\n",
       "      <th>1</th>\n",
       "      <td>2017-04-19</td>\n",
       "      <td>Debt collection</td>\n",
       "      <td>Other (i.e. phone, health club, etc.)</td>\n",
       "      <td>Disclosure verification of debt</td>\n",
       "      <td>Not disclosed as an attempt to collect</td>\n",
       "      <td>NaN</td>\n",
       "      <td>NaN</td>\n",
       "      <td>Security Credit Services, LLC</td>\n",
       "      <td>IL</td>\n",
       "      <td>60643</td>\n",
       "      <td>NaN</td>\n",
       "      <td>NaN</td>\n",
       "      <td>Web</td>\n",
       "      <td>2017-04-20</td>\n",
       "      <td>Closed with explanation</td>\n",
       "      <td>Yes</td>\n",
       "      <td>No</td>\n",
       "      <td>2441777</td>\n",
       "    </tr>\n",
       "    <tr>\n",
       "      <th>5</th>\n",
       "      <td>2017-04-18</td>\n",
       "      <td>Debt collection</td>\n",
       "      <td>Other (i.e. phone, health club, etc.)</td>\n",
       "      <td>Disclosure verification of debt</td>\n",
       "      <td>Not given enough info to verify debt</td>\n",
       "      <td>NaN</td>\n",
       "      <td>NaN</td>\n",
       "      <td>Rubin &amp; Rothman, LLC</td>\n",
       "      <td>NY</td>\n",
       "      <td>14063</td>\n",
       "      <td>NaN</td>\n",
       "      <td>NaN</td>\n",
       "      <td>Referral</td>\n",
       "      <td>2017-04-19</td>\n",
       "      <td>In progress</td>\n",
       "      <td>Yes</td>\n",
       "      <td>No</td>\n",
       "      <td>2440364</td>\n",
       "    </tr>\n",
       "    <tr>\n",
       "      <th>12</th>\n",
       "      <td>2016-11-17</td>\n",
       "      <td>Debt collection</td>\n",
       "      <td>Other (i.e. phone, health club, etc.)</td>\n",
       "      <td>Disclosure verification of debt</td>\n",
       "      <td>Not given enough info to verify debt</td>\n",
       "      <td>NaN</td>\n",
       "      <td>NaN</td>\n",
       "      <td>PMGI, LLC</td>\n",
       "      <td>CA</td>\n",
       "      <td>92356</td>\n",
       "      <td>NaN</td>\n",
       "      <td>NaN</td>\n",
       "      <td>Postal mail</td>\n",
       "      <td>2016-11-18</td>\n",
       "      <td>Closed with non-monetary relief</td>\n",
       "      <td>No</td>\n",
       "      <td>No</td>\n",
       "      <td>2214174</td>\n",
       "    </tr>\n",
       "    <tr>\n",
       "      <th>25</th>\n",
       "      <td>2017-03-04</td>\n",
       "      <td>Debt collection</td>\n",
       "      <td>Other (i.e. phone, health club, etc.)</td>\n",
       "      <td>Improper contact or sharing of info</td>\n",
       "      <td>Talked to a third party about my debt</td>\n",
       "      <td>NaN</td>\n",
       "      <td>NaN</td>\n",
       "      <td>Resurgent Capital Services L.P.</td>\n",
       "      <td>TX</td>\n",
       "      <td>75686</td>\n",
       "      <td>NaN</td>\n",
       "      <td>Consent not provided</td>\n",
       "      <td>Web</td>\n",
       "      <td>2017-03-04</td>\n",
       "      <td>Closed with explanation</td>\n",
       "      <td>Yes</td>\n",
       "      <td>No</td>\n",
       "      <td>2371815</td>\n",
       "    </tr>\n",
       "    <tr>\n",
       "      <th>29</th>\n",
       "      <td>2017-04-21</td>\n",
       "      <td>Debt collection</td>\n",
       "      <td>Payday loan</td>\n",
       "      <td>Disclosure verification of debt</td>\n",
       "      <td>Right to dispute notice not received</td>\n",
       "      <td>NaN</td>\n",
       "      <td>NaN</td>\n",
       "      <td>SPEEDY CASH INTERMEDIATE HOLDINGS CORP</td>\n",
       "      <td>TX</td>\n",
       "      <td>773XX</td>\n",
       "      <td>NaN</td>\n",
       "      <td>NaN</td>\n",
       "      <td>Web</td>\n",
       "      <td>2017-04-21</td>\n",
       "      <td>Closed with explanation</td>\n",
       "      <td>Yes</td>\n",
       "      <td>No</td>\n",
       "      <td>2444768</td>\n",
       "    </tr>\n",
       "  </tbody>\n",
       "</table>\n",
       "</div>"
      ],
      "text/plain": [
       "   date_received          product                            sub_product  \\\n",
       "1     2017-04-19  Debt collection  Other (i.e. phone, health club, etc.)   \n",
       "5     2017-04-18  Debt collection  Other (i.e. phone, health club, etc.)   \n",
       "12    2016-11-17  Debt collection  Other (i.e. phone, health club, etc.)   \n",
       "25    2017-03-04  Debt collection  Other (i.e. phone, health club, etc.)   \n",
       "29    2017-04-21  Debt collection                            Payday loan   \n",
       "\n",
       "                                  issue  \\\n",
       "1       Disclosure verification of debt   \n",
       "5       Disclosure verification of debt   \n",
       "12      Disclosure verification of debt   \n",
       "25  Improper contact or sharing of info   \n",
       "29      Disclosure verification of debt   \n",
       "\n",
       "                                 sub_issue consumer_complaint_narrative  \\\n",
       "1   Not disclosed as an attempt to collect                          NaN   \n",
       "5     Not given enough info to verify debt                          NaN   \n",
       "12    Not given enough info to verify debt                          NaN   \n",
       "25   Talked to a third party about my debt                          NaN   \n",
       "29    Right to dispute notice not received                          NaN   \n",
       "\n",
       "   company_public_response                                 company state  \\\n",
       "1                      NaN           Security Credit Services, LLC    IL   \n",
       "5                      NaN                    Rubin & Rothman, LLC    NY   \n",
       "12                     NaN                               PMGI, LLC    CA   \n",
       "25                     NaN         Resurgent Capital Services L.P.    TX   \n",
       "29                     NaN  SPEEDY CASH INTERMEDIATE HOLDINGS CORP    TX   \n",
       "\n",
       "   zip_code tags consumer_consent_provided? submitted_via  \\\n",
       "1     60643  NaN                        NaN           Web   \n",
       "5     14063  NaN                        NaN      Referral   \n",
       "12    92356  NaN                        NaN   Postal mail   \n",
       "25    75686  NaN       Consent not provided           Web   \n",
       "29    773XX  NaN                        NaN           Web   \n",
       "\n",
       "   date_sent_to_company     company_response_to_consumer timely_response?  \\\n",
       "1            2017-04-20          Closed with explanation              Yes   \n",
       "5            2017-04-19                      In progress              Yes   \n",
       "12           2016-11-18  Closed with non-monetary relief               No   \n",
       "25           2017-03-04          Closed with explanation              Yes   \n",
       "29           2017-04-21          Closed with explanation              Yes   \n",
       "\n",
       "   consumer_disputed?  complaint_id  \n",
       "1                  No       2441777  \n",
       "5                  No       2440364  \n",
       "12                 No       2214174  \n",
       "25                 No       2371815  \n",
       "29                 No       2444768  "
      ]
     },
     "execution_count": 80,
     "metadata": {},
     "output_type": "execute_result"
    }
   ],
   "source": [
    "dfx.head()"
   ]
  },
  {
   "cell_type": "code",
   "execution_count": 81,
   "id": "3d2e6435",
   "metadata": {},
   "outputs": [
    {
     "data": {
      "text/plain": [
       "Index(['date_received', 'product', 'sub_product', 'issue', 'sub_issue',\n",
       "       'consumer_complaint_narrative', 'company_public_response', 'company',\n",
       "       'state', 'zip_code', 'tags', 'consumer_consent_provided?',\n",
       "       'submitted_via', 'date_sent_to_company', 'company_response_to_consumer',\n",
       "       'timely_response?', 'consumer_disputed?', 'complaint_id'],\n",
       "      dtype='object')"
      ]
     },
     "execution_count": 81,
     "metadata": {},
     "output_type": "execute_result"
    }
   ],
   "source": [
    "df.columns"
   ]
  },
  {
   "cell_type": "code",
   "execution_count": 82,
   "id": "613e61d4",
   "metadata": {},
   "outputs": [],
   "source": [
    "crc1=df['company_response_to_consumer'].unique()"
   ]
  },
  {
   "cell_type": "code",
   "execution_count": 83,
   "id": "356d9515",
   "metadata": {},
   "outputs": [
    {
     "data": {
      "text/plain": [
       "Closed with explanation            581562\n",
       "Closed with non-monetary relief     95957\n",
       "Closed with monetary relief         51581\n",
       "Closed without relief               17868\n",
       "Closed                              17611\n",
       "Closed with relief                   5304\n",
       "In progress                          4382\n",
       "Untimely response                    3694\n",
       "Name: company_response_to_consumer, dtype: int64"
      ]
     },
     "execution_count": 83,
     "metadata": {},
     "output_type": "execute_result"
    }
   ],
   "source": [
    "df['company_response_to_consumer'].value_counts()"
   ]
  },
  {
   "cell_type": "code",
   "execution_count": 84,
   "id": "373cc489",
   "metadata": {},
   "outputs": [],
   "source": [
    "def crc_product(crc):\n",
    "    print(\"crc count\",df[df['company_response_to_consumer']==crc].count(axis=0))\n",
    "    print(\"product count\",df[df['company_response_to_consumer']==crc]['product'].value_counts())"
   ]
  },
  {
   "cell_type": "code",
   "execution_count": 85,
   "id": "1e51b216",
   "metadata": {},
   "outputs": [
    {
     "data": {
      "application/vnd.jupyter.widget-view+json": {
       "model_id": "46414e452dad48b3b978b7eca8ad8805",
       "version_major": 2,
       "version_minor": 0
      },
      "text/plain": [
       "interactive(children=(Dropdown(description='crc', options=('Closed with non-monetary relief', 'Closed with exp…"
      ]
     },
     "metadata": {},
     "output_type": "display_data"
    }
   ],
   "source": [
    "widgets.interactive(crc_product,crc=crc1)"
   ]
  },
  {
   "cell_type": "code",
   "execution_count": 86,
   "id": "4e8a7433",
   "metadata": {},
   "outputs": [
    {
     "data": {
      "text/plain": [
       "4"
      ]
     },
     "execution_count": 86,
     "metadata": {},
     "output_type": "execute_result"
    }
   ],
   "source": [
    "comp=df['company'].value_counts()\n",
    "#print(comp)\n",
    "comp.loc[comp< 10000].count()\n",
    "comp.loc[comp >45000].count()\n",
    "#comp.shape\n"
   ]
  },
  {
   "cell_type": "code",
   "execution_count": 87,
   "id": "75c9ec73",
   "metadata": {},
   "outputs": [
    {
     "data": {
      "text/plain": [
       "4224"
      ]
     },
     "execution_count": 87,
     "metadata": {},
     "output_type": "execute_result"
    }
   ],
   "source": [
    "df['company'].nunique()"
   ]
  },
  {
   "cell_type": "code",
   "execution_count": 88,
   "id": "bfe016bf",
   "metadata": {},
   "outputs": [
    {
     "data": {
      "text/plain": [
       "WELLS FARGO BANK, NATIONAL ASSOCIATION    2644\n",
       "BANK OF AMERICA, NATIONAL ASSOCIATION     1563\n",
       "OCWEN LOAN SERVICING LLC                   542\n",
       "CITIBANK, N.A.                             345\n",
       "Name: company, dtype: int64"
      ]
     },
     "execution_count": 88,
     "metadata": {},
     "output_type": "execute_result"
    }
   ],
   "source": [
    "comp_y=df[df['timely_response?']=='No']['company'].value_counts()\n",
    "comp_y.loc[comp_y > 300]"
   ]
  },
  {
   "cell_type": "code",
   "execution_count": 89,
   "id": "c23136ef",
   "metadata": {},
   "outputs": [
    {
     "data": {
      "text/plain": [
       "Web            531019\n",
       "Referral       133730\n",
       "Phone           52610\n",
       "Postal mail     49258\n",
       "Fax             10994\n",
       "Email             348\n",
       "Name: submitted_via, dtype: int64"
      ]
     },
     "execution_count": 89,
     "metadata": {},
     "output_type": "execute_result"
    }
   ],
   "source": [
    "df.submitted_via.value_counts()"
   ]
  },
  {
   "cell_type": "code",
   "execution_count": 90,
   "id": "c252f210",
   "metadata": {},
   "outputs": [
    {
     "data": {
      "text/plain": [
       "Older American                   62171\n",
       "Servicemember                    38380\n",
       "Older American, Servicemember     8713\n",
       "Name: tags, dtype: int64"
      ]
     },
     "execution_count": 90,
     "metadata": {},
     "output_type": "execute_result"
    }
   ],
   "source": [
    "df.tags.value_counts()"
   ]
  },
  {
   "cell_type": "code",
   "execution_count": 91,
   "id": "0e592063",
   "metadata": {},
   "outputs": [
    {
     "data": {
      "text/plain": [
       "Web            77778\n",
       "Phone          17507\n",
       "Referral        6338\n",
       "Postal mail     6024\n",
       "Fax             1604\n",
       "Email             13\n",
       "Name: submitted_via, dtype: int64"
      ]
     },
     "execution_count": 91,
     "metadata": {},
     "output_type": "execute_result"
    }
   ],
   "source": [
    "df[df['tags'].isin (['Servicemember','Older American','Older American, Servicemember'])]['submitted_via'].value_counts()"
   ]
  },
  {
   "cell_type": "code",
   "execution_count": null,
   "id": "43da038c",
   "metadata": {},
   "outputs": [],
   "source": []
  },
  {
   "cell_type": "code",
   "execution_count": null,
   "id": "97ee1e40",
   "metadata": {},
   "outputs": [],
   "source": []
  },
  {
   "cell_type": "code",
   "execution_count": null,
   "id": "5b028c99",
   "metadata": {},
   "outputs": [],
   "source": []
  }
 ],
 "metadata": {
  "kernelspec": {
   "display_name": "Python 3 (ipykernel)",
   "language": "python",
   "name": "python3"
  },
  "language_info": {
   "codemirror_mode": {
    "name": "ipython",
    "version": 3
   },
   "file_extension": ".py",
   "mimetype": "text/x-python",
   "name": "python",
   "nbconvert_exporter": "python",
   "pygments_lexer": "ipython3",
   "version": "3.9.12"
  }
 },
 "nbformat": 4,
 "nbformat_minor": 5
}
