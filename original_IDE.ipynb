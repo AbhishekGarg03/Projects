{
  "nbformat": 4,
  "nbformat_minor": 0,
  "metadata": {
    "colab": {
      "provenance": [],
      "authorship_tag": "ABX9TyM1ZhbD2SpaFRmepUgjn/4t",
      "include_colab_link": true
    },
    "kernelspec": {
      "name": "python3",
      "display_name": "Python 3"
    },
    "language_info": {
      "name": "python"
    }
  },
  "cells": [
    {
      "cell_type": "markdown",
      "metadata": {
        "id": "view-in-github",
        "colab_type": "text"
      },
      "source": [
        "<a href=\"https://colab.research.google.com/github/AbhishekGarg03/Projects/blob/main/original_IDE.ipynb\" target=\"_parent\"><img src=\"https://colab.research.google.com/assets/colab-badge.svg\" alt=\"Open In Colab\"/></a>"
      ]
    },
    {
      "cell_type": "code",
      "execution_count": 105,
      "metadata": {
        "id": "w_kmDx4qVvwL"
      },
      "outputs": [],
      "source": [
        "import numpy as np\n",
        "import pandas as pd\n",
        "import matplotlib.pyplot as plt\n",
        "import seaborn as sns"
      ]
    },
    {
      "cell_type": "code",
      "source": [
        "df_cat= pd.read_excel(\"/content/cat.xlsx\")\n",
        "df_num = pd.read_csv(\"/content/cat1.csv\")"
      ],
      "metadata": {
        "id": "Y8XnnzCWV5Fa"
      },
      "execution_count": 106,
      "outputs": []
    },
    {
      "cell_type": "code",
      "source": [
        "df.dtypes"
      ],
      "metadata": {
        "colab": {
          "base_uri": "https://localhost:8080/",
          "height": 165
        },
        "id": "FOfVtcrdWO3B",
        "outputId": "8b9dab82-f4c4-4a3c-bcf9-5ebb36a94d76"
      },
      "execution_count": 22,
      "outputs": [
        {
          "output_type": "error",
          "ename": "AttributeError",
          "evalue": "ignored",
          "traceback": [
            "\u001b[0;31m---------------------------------------------------------------------------\u001b[0m",
            "\u001b[0;31mAttributeError\u001b[0m                            Traceback (most recent call last)",
            "\u001b[0;32m<ipython-input-22-5cc0934cc03c>\u001b[0m in \u001b[0;36m<module>\u001b[0;34m\u001b[0m\n\u001b[0;32m----> 1\u001b[0;31m \u001b[0mdf\u001b[0m\u001b[0;34m.\u001b[0m\u001b[0mdtypes\u001b[0m\u001b[0;34m\u001b[0m\u001b[0;34m\u001b[0m\u001b[0m\n\u001b[0m",
            "\u001b[0;31mAttributeError\u001b[0m: 'Index' object has no attribute 'dtypes'"
          ]
        }
      ]
    },
    {
      "cell_type": "code",
      "source": [
        "df = df_cat.copy()"
      ],
      "metadata": {
        "id": "NAeOPIl0WjcQ"
      },
      "execution_count": 130,
      "outputs": []
    },
    {
      "cell_type": "code",
      "source": [
        "df.columns= df.columns.str.replace(\" \",\"_\")"
      ],
      "metadata": {
        "id": "PI0PSrz3W25M"
      },
      "execution_count": 132,
      "outputs": []
    },
    {
      "cell_type": "code",
      "source": [
        "df.drop(\"Customer_ID\",axis=1,inplace=True)"
      ],
      "metadata": {
        "id": "7lwq6yqBWu1c"
      },
      "execution_count": 133,
      "outputs": []
    },
    {
      "cell_type": "code",
      "source": [
        "df.dtypes"
      ],
      "metadata": {
        "colab": {
          "base_uri": "https://localhost:8080/"
        },
        "id": "nw-AKiLTX0Fl",
        "outputId": "fa5ad622-1226-40ad-a0ab-742200266004"
      },
      "execution_count": 161,
      "outputs": [
        {
          "output_type": "execute_result",
          "data": {
            "text/plain": [
              "Married                                int64\n",
              "Number_of_Dependents                 float64\n",
              "Number_of_Referrals                  float64\n",
              "Tenure_in_Months                     float64\n",
              "Avg_Monthly_Long_Distance_Charges    float64\n",
              "Multiple_Lines                         int64\n",
              "Internet_Service                       int64\n",
              "Avg_Monthly_GB_Download              float64\n",
              "Online_Security                        int64\n",
              "Online_Backup                          int64\n",
              "Device_Protection_Plan                 int64\n",
              "Premium_Tech_Support                   int64\n",
              "Streaming_TV                           int64\n",
              "Streaming_Movies                       int64\n",
              "Streaming_Music                        int64\n",
              "Unlimited_Data                         int64\n",
              "Paperless_Billing                      int64\n",
              "Monthly_Charge                       float64\n",
              "Total_Charges                        float64\n",
              "Total_Refunds                        float64\n",
              "Total_Extra_Data_Charges             float64\n",
              "Total_Long_Distance_Charges          float64\n",
              "Total_Revenue                        float64\n",
              "Customer_Status                        int64\n",
              "Churn_Reason                          object\n",
              "Offer_None                             uint8\n",
              "Offer_Offer A                          uint8\n",
              "Offer_Offer B                          uint8\n",
              "Offer_Offer C                          uint8\n",
              "Offer_Offer D                          uint8\n",
              "Offer_Offer E                          uint8\n",
              "Contract_Month-to-Month                uint8\n",
              "Contract_One Year                      uint8\n",
              "Contract_Two Year                      uint8\n",
              "Internet_Type_Cable                    uint8\n",
              "Internet_Type_DSL                      uint8\n",
              "Internet_Type_Fiber Optic              uint8\n",
              "Payment_Method_Bank Withdrawal         uint8\n",
              "Payment_Method_Credit Card             uint8\n",
              "Payment_Method_Mailed Check            uint8\n",
              "AgeGroup_Teen                          uint8\n",
              "AgeGroup_Adult                         uint8\n",
              "AgeGroup_Senior_citizens               uint8\n",
              "dtype: object"
            ]
          },
          "metadata": {},
          "execution_count": 161
        }
      ]
    },
    {
      "cell_type": "code",
      "source": [
        "\n",
        "  df.columns=df.columns.str.replace(\" \",\"_\")"
      ],
      "metadata": {
        "id": "ODrns5E-YIBO"
      },
      "execution_count": 33,
      "outputs": []
    },
    {
      "cell_type": "code",
      "source": [
        "df.columns"
      ],
      "metadata": {
        "colab": {
          "base_uri": "https://localhost:8080/"
        },
        "id": "wpA89x6QdWCe",
        "outputId": "9b960cdc-1968-4c18-b1ea-ae9782b4e5b8"
      },
      "execution_count": 135,
      "outputs": [
        {
          "output_type": "execute_result",
          "data": {
            "text/plain": [
              "Index(['Gender', 'Age', 'Married', 'Number_of_Dependents', 'City',\n",
              "       'Number_of_Referrals', 'Tenure_in_Months', 'Offer', 'Phone_Service',\n",
              "       'Avg_Monthly_Long_Distance_Charges', 'Multiple_Lines',\n",
              "       'Internet_Service', 'Internet_Type', 'Avg_Monthly_GB_Download',\n",
              "       'Online_Security', 'Online_Backup', 'Device_Protection_Plan',\n",
              "       'Premium_Tech_Support', 'Streaming_TV', 'Streaming_Movies',\n",
              "       'Streaming_Music', 'Unlimited_Data', 'Contract', 'Paperless_Billing',\n",
              "       'Payment_Method', 'Monthly_Charge', 'Total_Charges', 'Total_Refunds',\n",
              "       'Total_Extra_Data_Charges', 'Total_Long_Distance_Charges',\n",
              "       'Total_Revenue', 'Customer_Status', 'Churn_Category', 'Churn_Reason'],\n",
              "      dtype='object')"
            ]
          },
          "metadata": {},
          "execution_count": 135
        }
      ]
    },
    {
      "cell_type": "code",
      "source": [
        "for i in df.columns:\n",
        "  print(f'{i}:{df[i].unique()}')"
      ],
      "metadata": {
        "id": "QLS66AUrab8s"
      },
      "execution_count": null,
      "outputs": []
    },
    {
      "cell_type": "code",
      "source": [
        "df=df.replace({'Yes':1,\"No\":0})"
      ],
      "metadata": {
        "id": "7hUV38kYcE_e"
      },
      "execution_count": 136,
      "outputs": []
    },
    {
      "cell_type": "code",
      "source": [
        "from sklearn.preprocessing import MinMaxScaler\n",
        "scaler = MinMaxScaler()\n",
        "df[['Number_of_Dependents', 'Number_of_Referrals',\n",
        "       'Tenure_in_Months', 'Avg_Monthly_Long_Distance_Charges',\n",
        "       'Avg_Monthly_GB_Download', 'Monthly_Charge', 'Total_Charges',\n",
        "       'Total_Refunds', 'Total_Extra_Data_Charges',\n",
        "       'Total_Long_Distance_Charges', 'Total_Revenue']]=scaler.fit_transform(df[['Number_of_Dependents', 'Number_of_Referrals',\n",
        "       'Tenure_in_Months', 'Avg_Monthly_Long_Distance_Charges',\n",
        "       'Avg_Monthly_GB_Download', 'Monthly_Charge', 'Total_Charges',\n",
        "       'Total_Refunds', 'Total_Extra_Data_Charges',\n",
        "       'Total_Long_Distance_Charges', 'Total_Revenue']])"
      ],
      "metadata": {
        "id": "j1CtPgHec4UF"
      },
      "execution_count": 137,
      "outputs": []
    },
    {
      "cell_type": "code",
      "source": [
        "df['Avg_Monthly_Long_Distance_Charges']"
      ],
      "metadata": {
        "colab": {
          "base_uri": "https://localhost:8080/"
        },
        "id": "HQEnq880dIGA",
        "outputId": "21d3136e-69a8-48da-c424-2bc4ef57e15a"
      },
      "execution_count": 138,
      "outputs": [
        {
          "output_type": "execute_result",
          "data": {
            "text/plain": [
              "0       0.844944\n",
              "1       0.197344\n",
              "2       0.666394\n",
              "3       0.547293\n",
              "4       0.129724\n",
              "          ...   \n",
              "1034    0.704801\n",
              "1035    0.517875\n",
              "1036    0.090909\n",
              "1037    0.201021\n",
              "1038    0.103984\n",
              "Name: Avg_Monthly_Long_Distance_Charges, Length: 1039, dtype: float64"
            ]
          },
          "metadata": {},
          "execution_count": 138
        }
      ]
    },
    {
      "cell_type": "code",
      "source": [
        "df.drop(['Churn_Category','City','Phone_Service','Gender'],axis=1,inplace=True)"
      ],
      "metadata": {
        "id": "j_4HWaz7ewiN"
      },
      "execution_count": 139,
      "outputs": []
    },
    {
      "cell_type": "code",
      "source": [
        "df.age1=df.Age.unique()\n",
        "df.age1.sort()"
      ],
      "metadata": {
        "id": "vTb2dFfJfBg6"
      },
      "execution_count": 60,
      "outputs": []
    },
    {
      "cell_type": "code",
      "source": [
        "print(df.age1)"
      ],
      "metadata": {
        "colab": {
          "base_uri": "https://localhost:8080/"
        },
        "id": "Ovt31N9QfJAB",
        "outputId": "373a4bf0-d408-4f66-ca4c-89c06ceb914c"
      },
      "execution_count": 61,
      "outputs": [
        {
          "output_type": "stream",
          "name": "stdout",
          "text": [
            "[19 20 21 22 23 24 25 26 27 28 29 30 31 32 33 34 35 36 37 38 39 40 41 42\n",
            " 43 44 45 46 47 48 49 50 51 52 53 54 55 56 57 58 59 60 61 62 63 64 65 66\n",
            " 67 68 69 70 71 72 73 74 75 76 77 78 79 80]\n"
          ]
        }
      ]
    },
    {
      "cell_type": "code",
      "source": [
        "bins= [19,35,50,81]\n",
        "labels = [\"Teen\",'Adult','Senior_citizens']\n",
        "df['AgeGroup'] = pd.cut(df['Age'], bins=bins, labels=labels, right=False)"
      ],
      "metadata": {
        "id": "fc8DbLoifeSS"
      },
      "execution_count": 140,
      "outputs": []
    },
    {
      "cell_type": "code",
      "source": [
        "df.drop(\"Age\",axis=1,inplace=True)"
      ],
      "metadata": {
        "id": "WhUEQws0g9hN"
      },
      "execution_count": 141,
      "outputs": []
    },
    {
      "cell_type": "code",
      "source": [
        "df.head()"
      ],
      "metadata": {
        "colab": {
          "base_uri": "https://localhost:8080/",
          "height": 317
        },
        "id": "FWNDcDzghOiz",
        "outputId": "2fe16cd7-4ba3-4f39-9598-067fca5f8570"
      },
      "execution_count": 160,
      "outputs": [
        {
          "output_type": "execute_result",
          "data": {
            "text/plain": [
              "   Married  Number_of_Dependents  Number_of_Referrals  Tenure_in_Months  \\\n",
              "0        1                   0.0                  0.2          0.112676   \n",
              "1        0                   0.0                  0.0          0.112676   \n",
              "2        0                   0.0                  0.0          0.042254   \n",
              "3        1                   0.0                  0.1          0.169014   \n",
              "4        1                   0.0                  0.3          0.028169   \n",
              "\n",
              "   Avg_Monthly_Long_Distance_Charges  Multiple_Lines  Internet_Service  \\\n",
              "0                           0.844944               0                 1   \n",
              "1                           0.197344               1                 1   \n",
              "2                           0.666394               0                 1   \n",
              "3                           0.547293               0                 1   \n",
              "4                           0.129724               0                 1   \n",
              "\n",
              "   Avg_Monthly_GB_Download  Online_Security  Online_Backup  ...  \\\n",
              "0                 0.168675                0              1  ...   \n",
              "1                 0.096386                0              0  ...   \n",
              "2                 0.337349                0              0  ...   \n",
              "3                 0.024096                0              1  ...   \n",
              "4                 0.108434                0              0  ...   \n",
              "\n",
              "   Contract_Two Year  Internet_Type_Cable  Internet_Type_DSL  \\\n",
              "0                  0                    1                  0   \n",
              "1                  0                    1                  0   \n",
              "2                  0                    0                  0   \n",
              "3                  0                    0                  0   \n",
              "4                  0                    0                  0   \n",
              "\n",
              "   Internet_Type_Fiber Optic  Payment_Method_Bank Withdrawal  \\\n",
              "0                          0                               0   \n",
              "1                          0                               0   \n",
              "2                          1                               1   \n",
              "3                          1                               1   \n",
              "4                          1                               0   \n",
              "\n",
              "   Payment_Method_Credit Card  Payment_Method_Mailed Check  AgeGroup_Teen  \\\n",
              "0                           1                            0              0   \n",
              "1                           1                            0              0   \n",
              "2                           0                            0              0   \n",
              "3                           0                            0              0   \n",
              "4                           1                            0              0   \n",
              "\n",
              "   AgeGroup_Adult  AgeGroup_Senior_citizens  \n",
              "0               1                         0  \n",
              "1               1                         0  \n",
              "2               0                         1  \n",
              "3               0                         1  \n",
              "4               0                         1  \n",
              "\n",
              "[5 rows x 43 columns]"
            ],
            "text/html": [
              "\n",
              "  <div id=\"df-553bb1df-afcf-466b-b63f-a093ade53561\">\n",
              "    <div class=\"colab-df-container\">\n",
              "      <div>\n",
              "<style scoped>\n",
              "    .dataframe tbody tr th:only-of-type {\n",
              "        vertical-align: middle;\n",
              "    }\n",
              "\n",
              "    .dataframe tbody tr th {\n",
              "        vertical-align: top;\n",
              "    }\n",
              "\n",
              "    .dataframe thead th {\n",
              "        text-align: right;\n",
              "    }\n",
              "</style>\n",
              "<table border=\"1\" class=\"dataframe\">\n",
              "  <thead>\n",
              "    <tr style=\"text-align: right;\">\n",
              "      <th></th>\n",
              "      <th>Married</th>\n",
              "      <th>Number_of_Dependents</th>\n",
              "      <th>Number_of_Referrals</th>\n",
              "      <th>Tenure_in_Months</th>\n",
              "      <th>Avg_Monthly_Long_Distance_Charges</th>\n",
              "      <th>Multiple_Lines</th>\n",
              "      <th>Internet_Service</th>\n",
              "      <th>Avg_Monthly_GB_Download</th>\n",
              "      <th>Online_Security</th>\n",
              "      <th>Online_Backup</th>\n",
              "      <th>...</th>\n",
              "      <th>Contract_Two Year</th>\n",
              "      <th>Internet_Type_Cable</th>\n",
              "      <th>Internet_Type_DSL</th>\n",
              "      <th>Internet_Type_Fiber Optic</th>\n",
              "      <th>Payment_Method_Bank Withdrawal</th>\n",
              "      <th>Payment_Method_Credit Card</th>\n",
              "      <th>Payment_Method_Mailed Check</th>\n",
              "      <th>AgeGroup_Teen</th>\n",
              "      <th>AgeGroup_Adult</th>\n",
              "      <th>AgeGroup_Senior_citizens</th>\n",
              "    </tr>\n",
              "  </thead>\n",
              "  <tbody>\n",
              "    <tr>\n",
              "      <th>0</th>\n",
              "      <td>1</td>\n",
              "      <td>0.0</td>\n",
              "      <td>0.2</td>\n",
              "      <td>0.112676</td>\n",
              "      <td>0.844944</td>\n",
              "      <td>0</td>\n",
              "      <td>1</td>\n",
              "      <td>0.168675</td>\n",
              "      <td>0</td>\n",
              "      <td>1</td>\n",
              "      <td>...</td>\n",
              "      <td>0</td>\n",
              "      <td>1</td>\n",
              "      <td>0</td>\n",
              "      <td>0</td>\n",
              "      <td>0</td>\n",
              "      <td>1</td>\n",
              "      <td>0</td>\n",
              "      <td>0</td>\n",
              "      <td>1</td>\n",
              "      <td>0</td>\n",
              "    </tr>\n",
              "    <tr>\n",
              "      <th>1</th>\n",
              "      <td>0</td>\n",
              "      <td>0.0</td>\n",
              "      <td>0.0</td>\n",
              "      <td>0.112676</td>\n",
              "      <td>0.197344</td>\n",
              "      <td>1</td>\n",
              "      <td>1</td>\n",
              "      <td>0.096386</td>\n",
              "      <td>0</td>\n",
              "      <td>0</td>\n",
              "      <td>...</td>\n",
              "      <td>0</td>\n",
              "      <td>1</td>\n",
              "      <td>0</td>\n",
              "      <td>0</td>\n",
              "      <td>0</td>\n",
              "      <td>1</td>\n",
              "      <td>0</td>\n",
              "      <td>0</td>\n",
              "      <td>1</td>\n",
              "      <td>0</td>\n",
              "    </tr>\n",
              "    <tr>\n",
              "      <th>2</th>\n",
              "      <td>0</td>\n",
              "      <td>0.0</td>\n",
              "      <td>0.0</td>\n",
              "      <td>0.042254</td>\n",
              "      <td>0.666394</td>\n",
              "      <td>0</td>\n",
              "      <td>1</td>\n",
              "      <td>0.337349</td>\n",
              "      <td>0</td>\n",
              "      <td>0</td>\n",
              "      <td>...</td>\n",
              "      <td>0</td>\n",
              "      <td>0</td>\n",
              "      <td>0</td>\n",
              "      <td>1</td>\n",
              "      <td>1</td>\n",
              "      <td>0</td>\n",
              "      <td>0</td>\n",
              "      <td>0</td>\n",
              "      <td>0</td>\n",
              "      <td>1</td>\n",
              "    </tr>\n",
              "    <tr>\n",
              "      <th>3</th>\n",
              "      <td>1</td>\n",
              "      <td>0.0</td>\n",
              "      <td>0.1</td>\n",
              "      <td>0.169014</td>\n",
              "      <td>0.547293</td>\n",
              "      <td>0</td>\n",
              "      <td>1</td>\n",
              "      <td>0.024096</td>\n",
              "      <td>0</td>\n",
              "      <td>1</td>\n",
              "      <td>...</td>\n",
              "      <td>0</td>\n",
              "      <td>0</td>\n",
              "      <td>0</td>\n",
              "      <td>1</td>\n",
              "      <td>1</td>\n",
              "      <td>0</td>\n",
              "      <td>0</td>\n",
              "      <td>0</td>\n",
              "      <td>0</td>\n",
              "      <td>1</td>\n",
              "    </tr>\n",
              "    <tr>\n",
              "      <th>4</th>\n",
              "      <td>1</td>\n",
              "      <td>0.0</td>\n",
              "      <td>0.3</td>\n",
              "      <td>0.028169</td>\n",
              "      <td>0.129724</td>\n",
              "      <td>0</td>\n",
              "      <td>1</td>\n",
              "      <td>0.108434</td>\n",
              "      <td>0</td>\n",
              "      <td>0</td>\n",
              "      <td>...</td>\n",
              "      <td>0</td>\n",
              "      <td>0</td>\n",
              "      <td>0</td>\n",
              "      <td>1</td>\n",
              "      <td>0</td>\n",
              "      <td>1</td>\n",
              "      <td>0</td>\n",
              "      <td>0</td>\n",
              "      <td>0</td>\n",
              "      <td>1</td>\n",
              "    </tr>\n",
              "  </tbody>\n",
              "</table>\n",
              "<p>5 rows × 43 columns</p>\n",
              "</div>\n",
              "      <button class=\"colab-df-convert\" onclick=\"convertToInteractive('df-553bb1df-afcf-466b-b63f-a093ade53561')\"\n",
              "              title=\"Convert this dataframe to an interactive table.\"\n",
              "              style=\"display:none;\">\n",
              "        \n",
              "  <svg xmlns=\"http://www.w3.org/2000/svg\" height=\"24px\"viewBox=\"0 0 24 24\"\n",
              "       width=\"24px\">\n",
              "    <path d=\"M0 0h24v24H0V0z\" fill=\"none\"/>\n",
              "    <path d=\"M18.56 5.44l.94 2.06.94-2.06 2.06-.94-2.06-.94-.94-2.06-.94 2.06-2.06.94zm-11 1L8.5 8.5l.94-2.06 2.06-.94-2.06-.94L8.5 2.5l-.94 2.06-2.06.94zm10 10l.94 2.06.94-2.06 2.06-.94-2.06-.94-.94-2.06-.94 2.06-2.06.94z\"/><path d=\"M17.41 7.96l-1.37-1.37c-.4-.4-.92-.59-1.43-.59-.52 0-1.04.2-1.43.59L10.3 9.45l-7.72 7.72c-.78.78-.78 2.05 0 2.83L4 21.41c.39.39.9.59 1.41.59.51 0 1.02-.2 1.41-.59l7.78-7.78 2.81-2.81c.8-.78.8-2.07 0-2.86zM5.41 20L4 18.59l7.72-7.72 1.47 1.35L5.41 20z\"/>\n",
              "  </svg>\n",
              "      </button>\n",
              "      \n",
              "  <style>\n",
              "    .colab-df-container {\n",
              "      display:flex;\n",
              "      flex-wrap:wrap;\n",
              "      gap: 12px;\n",
              "    }\n",
              "\n",
              "    .colab-df-convert {\n",
              "      background-color: #E8F0FE;\n",
              "      border: none;\n",
              "      border-radius: 50%;\n",
              "      cursor: pointer;\n",
              "      display: none;\n",
              "      fill: #1967D2;\n",
              "      height: 32px;\n",
              "      padding: 0 0 0 0;\n",
              "      width: 32px;\n",
              "    }\n",
              "\n",
              "    .colab-df-convert:hover {\n",
              "      background-color: #E2EBFA;\n",
              "      box-shadow: 0px 1px 2px rgba(60, 64, 67, 0.3), 0px 1px 3px 1px rgba(60, 64, 67, 0.15);\n",
              "      fill: #174EA6;\n",
              "    }\n",
              "\n",
              "    [theme=dark] .colab-df-convert {\n",
              "      background-color: #3B4455;\n",
              "      fill: #D2E3FC;\n",
              "    }\n",
              "\n",
              "    [theme=dark] .colab-df-convert:hover {\n",
              "      background-color: #434B5C;\n",
              "      box-shadow: 0px 1px 3px 1px rgba(0, 0, 0, 0.15);\n",
              "      filter: drop-shadow(0px 1px 2px rgba(0, 0, 0, 0.3));\n",
              "      fill: #FFFFFF;\n",
              "    }\n",
              "  </style>\n",
              "\n",
              "      <script>\n",
              "        const buttonEl =\n",
              "          document.querySelector('#df-553bb1df-afcf-466b-b63f-a093ade53561 button.colab-df-convert');\n",
              "        buttonEl.style.display =\n",
              "          google.colab.kernel.accessAllowed ? 'block' : 'none';\n",
              "\n",
              "        async function convertToInteractive(key) {\n",
              "          const element = document.querySelector('#df-553bb1df-afcf-466b-b63f-a093ade53561');\n",
              "          const dataTable =\n",
              "            await google.colab.kernel.invokeFunction('convertToInteractive',\n",
              "                                                     [key], {});\n",
              "          if (!dataTable) return;\n",
              "\n",
              "          const docLinkHtml = 'Like what you see? Visit the ' +\n",
              "            '<a target=\"_blank\" href=https://colab.research.google.com/notebooks/data_table.ipynb>data table notebook</a>'\n",
              "            + ' to learn more about interactive tables.';\n",
              "          element.innerHTML = '';\n",
              "          dataTable['output_type'] = 'display_data';\n",
              "          await google.colab.output.renderOutput(dataTable, element);\n",
              "          const docLink = document.createElement('div');\n",
              "          docLink.innerHTML = docLinkHtml;\n",
              "          element.appendChild(docLink);\n",
              "        }\n",
              "      </script>\n",
              "    </div>\n",
              "  </div>\n",
              "  "
            ]
          },
          "metadata": {},
          "execution_count": 160
        }
      ]
    },
    {
      "cell_type": "code",
      "source": [
        "one_encoder=pd.get_dummies(df[['Offer','Contract','Internet_Type','Payment_Method','AgeGroup']])"
      ],
      "metadata": {
        "id": "TLV5BDtQiG52"
      },
      "execution_count": 142,
      "outputs": []
    },
    {
      "cell_type": "code",
      "source": [
        "df=df.join(one_encoder)\n",
        "df.drop(['Offer','Contract','Internet_Type','Payment_Method','AgeGroup'],axis=1,inplace=True)"
      ],
      "metadata": {
        "id": "XdUIFbt4jQVP"
      },
      "execution_count": 143,
      "outputs": []
    },
    {
      "cell_type": "code",
      "source": [
        "df.dtypes"
      ],
      "metadata": {
        "id": "0FiynOXykOs7"
      },
      "execution_count": null,
      "outputs": []
    },
    {
      "cell_type": "code",
      "source": [
        "df=df.replace({'Customer_Status':{'Churned':1,\"Stayed\":0,\"Joined\":0}})"
      ],
      "metadata": {
        "id": "uqNTDzzEkWwH"
      },
      "execution_count": 156,
      "outputs": []
    },
    {
      "cell_type": "code",
      "source": [
        "df.Customer_Status.unique()"
      ],
      "metadata": {
        "colab": {
          "base_uri": "https://localhost:8080/"
        },
        "id": "GXRalp5Wleqo",
        "outputId": "cd7c2cc9-665e-499f-804c-3fc3a45aaacd"
      },
      "execution_count": 159,
      "outputs": [
        {
          "output_type": "execute_result",
          "data": {
            "text/plain": [
              "array([0, 1])"
            ]
          },
          "metadata": {},
          "execution_count": 159
        }
      ]
    },
    {
      "cell_type": "code",
      "source": [
        "df_mod= df.copy()"
      ],
      "metadata": {
        "id": "F8zkBUfglhRw"
      },
      "execution_count": 162,
      "outputs": []
    },
    {
      "cell_type": "code",
      "source": [],
      "metadata": {
        "id": "J97osG6rngST"
      },
      "execution_count": null,
      "outputs": []
    },
    {
      "cell_type": "code",
      "source": [],
      "metadata": {
        "id": "Dqnzl_kXnhWK"
      },
      "execution_count": null,
      "outputs": []
    },
    {
      "cell_type": "markdown",
      "source": [
        "Model Building"
      ],
      "metadata": {
        "id": "W0vAKsSsniqp"
      }
    },
    {
      "cell_type": "code",
      "source": [],
      "metadata": {
        "id": "CmUPnbXgnhTs"
      },
      "execution_count": null,
      "outputs": []
    },
    {
      "cell_type": "code",
      "source": [],
      "metadata": {
        "id": "w4g529ihnhQ_"
      },
      "execution_count": null,
      "outputs": []
    }
  ]
}